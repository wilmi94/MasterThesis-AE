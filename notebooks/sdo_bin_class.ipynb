{
  "nbformat": 4,
  "nbformat_minor": 0,
  "metadata": {
    "colab": {
      "provenance": [],
      "machine_shape": "hm",
      "gpuType": "A100",
      "cell_execution_strategy": "setup",
      "toc_visible": true,
      "authorship_tag": "ABX9TyMwV91xDiApc6XWn1xxXLkL",
      "include_colab_link": true
    },
    "kernelspec": {
      "name": "python3",
      "display_name": "Python 3"
    },
    "language_info": {
      "name": "python"
    }
  },
  "cells": [
    {
      "cell_type": "markdown",
      "metadata": {
        "id": "view-in-github",
        "colab_type": "text"
      },
      "source": [
        "<a href=\"https://colab.research.google.com/github/wilmi94/MasterThesis-AE/blob/main/notebooks/sdo_bin_class.ipynb\" target=\"_parent\"><img src=\"https://colab.research.google.com/assets/colab-badge.svg\" alt=\"Open In Colab\"/></a>"
      ]
    },
    {
      "cell_type": "markdown",
      "source": [
        "# Binary Classification of full-disk SDO/AIA Data\n",
        "\n",
        "> This notebook is part of the Master Thesis *Predicting Coronal Mass Ejections using Machine Learning methods* by Wilmar Ender, FH Wiener Neustadt.\n",
        "\n",
        "This notebook aims to apply a simple binary image classifier on the SDO/AIA dataset.\n",
        "\n",
        "**Solar event list:** \\\\\n",
        "*Liu et al. 2020, Predicting Coronal Mass Ejections Using SDO/HMI Vector Magnetic Data Products and Recurrent Neural Networks*\n",
        "\n",
        "**Dataset:** \\\\\n",
        "*Ahmadzadeh et al. 2019, A Curated Image Parameter Data Set from the Solar Dynamics Observatory Mission*. \\\\\n",
        "Accessed via *sdo-cli* (https://github.com/i4Ds/sdo-cli)\n",
        "\n",
        "**Model Architecture:** \\\\\n",
        "TBD"
      ],
      "metadata": {
        "id": "5nfY5_PU_sVH"
      }
    },
    {
      "cell_type": "markdown",
      "source": [
        "## Setting up the Notebook"
      ],
      "metadata": {
        "id": "LJ5-f3ql1QwX"
      }
    },
    {
      "cell_type": "code",
      "source": [
        "%%capture\n",
        "pip install -U sdo-cli"
      ],
      "metadata": {
        "id": "-BBPtXTaAHYr"
      },
      "execution_count": 55,
      "outputs": []
    },
    {
      "cell_type": "code",
      "execution_count": 56,
      "metadata": {
        "id": "ejAe2B7M_lX6"
      },
      "outputs": [],
      "source": [
        "from pathlib import Path\n",
        "import os\n",
        "import requests\n",
        "import subprocess\n",
        "import shutil\n",
        "import random\n",
        "\n",
        "import numpy as np\n",
        "import pandas as pd\n",
        "from PIL import Image\n",
        "import matplotlib.pyplot as plt\n",
        "import matplotlib.image as mpimg\n",
        "\n",
        "import keras\n",
        "import tensorflow as tf\n",
        "from tensorflow.keras.preprocessing.image import ImageDataGenerator\n",
        "from tensorflow.keras.models import Sequential\n",
        "from tensorflow.keras.layers import Conv2D, MaxPooling2D, Flatten, Dense, Dropout, BatchNormalization\n",
        "from tensorflow.keras.applications import VGG16\n",
        "from keras.layers import Activation, Dropout, Flatten, Conv2D, MaxPooling2D, Dense\n",
        "from keras.applications.inception_resnet_v2 import InceptionResNetV2\n",
        "from keras.layers import Input, GlobalAveragePooling2D"
      ]
    },
    {
      "cell_type": "code",
      "source": [
        "# mount Google drive\n",
        "from google.colab import drive\n",
        "drive.mount('/content/drive')"
      ],
      "metadata": {
        "colab": {
          "base_uri": "https://localhost:8080/"
        },
        "id": "S-8USKsHAJtT",
        "outputId": "13f38354-8224-4fdc-9545-e314f7a73eec"
      },
      "execution_count": 57,
      "outputs": [
        {
          "output_type": "stream",
          "name": "stdout",
          "text": [
            "Drive already mounted at /content/drive; to attempt to forcibly remount, call drive.mount(\"/content/drive\", force_remount=True).\n"
          ]
        }
      ]
    },
    {
      "cell_type": "code",
      "source": [
        "# Change present working directory\n",
        "%cd /content/drive/MyDrive/Academia/MSc. Aerospace Engineering - FH Wiener Neustadt/4. Master Thesis/03-Work/"
      ],
      "metadata": {
        "colab": {
          "base_uri": "https://localhost:8080/"
        },
        "id": "wyW6oXg1AMNr",
        "outputId": "fb81b35b-a4e2-42ee-8db4-8506d44b0054"
      },
      "execution_count": 58,
      "outputs": [
        {
          "output_type": "stream",
          "name": "stdout",
          "text": [
            "/content/drive/MyDrive/Academia/MSc. Aerospace Engineering - FH Wiener Neustadt/4. Master Thesis/03-Work\n"
          ]
        }
      ]
    },
    {
      "cell_type": "code",
      "source": [
        "!ls -a"
      ],
      "metadata": {
        "colab": {
          "base_uri": "https://localhost:8080/"
        },
        "id": "NMzwC45J53YJ",
        "outputId": "89af0cd9-0ef0-401a-afa9-3acde33df729"
      },
      "execution_count": 59,
      "outputs": [
        {
          "output_type": "stream",
          "name": "stdout",
          "text": [
            " 00_Dataset\t\t   03_sdo_ConvLSTM\t\t\t      .sdo-cli\n",
            " 01_sdo_data_exploration   04_Tests\n",
            " 02_sdo_binclass\t  'Master Thesis-ML-Project-Checklist.gdoc'\n"
          ]
        }
      ]
    },
    {
      "cell_type": "markdown",
      "source": [
        "## Helper Functions"
      ],
      "metadata": {
        "id": "j2yYMdZt1Utp"
      }
    },
    {
      "cell_type": "code",
      "source": [
        "def create_sdo_aia_dataset(output_dir, start_idx, event_list, dt, wavelength ):\n",
        "  '''\n",
        "  download with the help of sdo-cli AIA images\n",
        "  input:\n",
        "  file_path = as a string where the images should be saved\n",
        "  eventlist = dataframe which provides CME data like start, peak and end time\n",
        "  dt = string, time step between images (if possible), e.g. '6min'\n",
        "  wavelength = string, corresponing wavelegth channel of AIA e.g. '171' for 171 Angström channel\n",
        "\n",
        "  output:\n",
        "  images (51x512) within folder\n",
        "  '''\n",
        "\n",
        "  for idx in range(start_idx, event_list.shape[0]):\n",
        "    start_time = event_list['Timestamp'][idx]\n",
        "    end_time =   event_list['Timestamp'][idx]\n",
        "\n",
        "    command = f\"sdo-cli data download --path={output_dir} --start={start_time} --end={end_time} --freq={dt} --wavelength={wavelength}\"\n",
        "    subprocess.call(command, shell=True)\n",
        "    print(\"\\r\", idx, ': downloading CME from ', start_time, end=\"\")"
      ],
      "metadata": {
        "id": "JqwpW-Hg1W7u"
      },
      "execution_count": 6,
      "outputs": []
    },
    {
      "cell_type": "code",
      "source": [
        "def compare_filenames_with_dataframe(directory, dataframe, wavelength):\n",
        "    file_end = '_' + str(wavelength) + '.jpeg'\n",
        "    # Get list of filenames from the directory\n",
        "    directory_filenames = [filename for filename in os.listdir(directory) if filename.endswith(file_end)]\n",
        "\n",
        "    # Get list of names from the DataFrame\n",
        "    df_check = dataframe.copy()\n",
        "    df_check['Timestamp'] = pd.to_datetime(df_check['Timestamp']).dt.strftime('%Y-%m-%dT%H%M%S__171.jpeg') # Warning! wavelength is now hard coded\n",
        "\n",
        "    dataframe_names = df_check['Timestamp'].tolist()  # the name of the image should correspond to the timestamp\n",
        "\n",
        "    # Compare filenames\n",
        "    common_filenames = set(directory_filenames) & set(dataframe_names)\n",
        "    missing_filenames = set(dataframe_names) - set(directory_filenames)\n",
        "    extra_filenames = set(directory_filenames) - set(dataframe_names)\n",
        "\n",
        "    df_missing = pd.DataFrame (data = missing_filenames,  columns=['Timestamp'])\n",
        "    df_missing['Timestamp'] = df_missing['Timestamp'].str.replace(r'__171.jpeg', '', regex=True)\n",
        "    df_missing['Timestamp'] = pd.to_datetime(df_missing['Timestamp']).dt.strftime('%Y-%m-%dT%H:%M:%S')\n",
        "\n",
        "    # Calculate statistics\n",
        "    total_directory_files = len(directory_filenames)\n",
        "    total_dataframe_names = len(dataframe_names)\n",
        "    total_common_files = len(common_filenames)\n",
        "    total_missing_files = len(missing_filenames)\n",
        "    total_extra_files = len(extra_filenames)\n",
        "    print('Total Directory Files: ', total_directory_files)\n",
        "    print('Total DataFrame Names: ', total_dataframe_names)\n",
        "    print('Common Files: ', total_common_files)\n",
        "    print('Missing Files: ', total_missing_files)\n",
        "    print('Extra Files: ', total_extra_files)\n",
        "\n",
        "    statistics = {\n",
        "        'Total Directory Files': total_directory_files,\n",
        "        'Total DataFrame Names': total_dataframe_names,\n",
        "        'Common Files': total_common_files,\n",
        "        'Missing Files': total_missing_files,\n",
        "        'Extra Files': total_extra_files,\n",
        "        #'Common File Names': common_filenames,\n",
        "        'Missing File Names': missing_filenames,\n",
        "        'Extra File Names': extra_filenames\n",
        "    }\n",
        "\n",
        "    return statistics, df_missing"
      ],
      "metadata": {
        "id": "P8AQCNvi1bT-"
      },
      "execution_count": 7,
      "outputs": []
    },
    {
      "cell_type": "markdown",
      "source": [
        "## Get Solar Events\n",
        "\n",
        "Event Catalog from: \\\\\n",
        "*Liu et al. 2020, Predicting Coronal Mass Ejections Using SDO/HMI Vector Magnetic Data Products and Recurrent Neural Networks*\n",
        "\n",
        "The following two lists are only the events itself! (used for a first evaluation when working with small dataset)"
      ],
      "metadata": {
        "id": "2vS2fXGbRau-"
      }
    },
    {
      "cell_type": "code",
      "source": [
        "# load list with both (neg, pos) labels\n",
        "df_cme_list = pd.read_csv(r'00_Dataset/event_lists/all_cme_events.csv', delimiter =';')"
      ],
      "metadata": {
        "id": "0Ya_vLoMRlWS"
      },
      "execution_count": 60,
      "outputs": []
    },
    {
      "cell_type": "code",
      "source": [
        "# list with only cme events\n",
        "df_cme_list = pd.read_csv(r'00_Dataset/event_lists/cme_events.csv', delimiter =';')\n",
        "df_cme_list.head()"
      ],
      "metadata": {
        "colab": {
          "base_uri": "https://localhost:8080/",
          "height": 206
        },
        "id": "BCJQrNTDAtMz",
        "outputId": "15812068-75fe-48fb-ce85-67645c69b71d"
      },
      "execution_count": 62,
      "outputs": [
        {
          "output_type": "execute_result",
          "data": {
            "text/plain": [
              "  Flare Class         Start Time          Peak Time           End Time  \\\n",
              "0        X2.2  2011-02-15T01:44Z  2011-02-15T01:56Z  2011-02-15T02:06Z   \n",
              "1        M3.5  2011-02-24T07:23Z  2011-02-24T07:35Z  2011-02-24T07:42Z   \n",
              "2        M3.7  2011-03-07T19:43Z  2011-03-07T20:12Z  2011-03-07T20:58Z   \n",
              "3        M2.0  2011-03-07T13:45Z  2011-03-07T14:30Z  2011-03-07T14:56Z   \n",
              "4        M1.5  2011-03-08T03:37Z  2011-03-08T03:58Z  2011-03-08T04:20Z   \n",
              "\n",
              "   Active Region Number  Harp Number                          CME  \n",
              "0                 11158          377  2011-02-15T02:25:00-CME-001  \n",
              "1                 11163          392  2011-02-24T08:00:00-CME-001  \n",
              "2                 11164          393  2011-03-07T20:12:00-CME-001  \n",
              "3                 11166          401  2011-03-07T14:40:00-CME-001  \n",
              "4                 11171          415  2011-03-08T05:00:00-CME-001  "
            ],
            "text/html": [
              "\n",
              "  <div id=\"df-847a4b98-4c96-46fc-851d-26e610c76d36\" class=\"colab-df-container\">\n",
              "    <div>\n",
              "<style scoped>\n",
              "    .dataframe tbody tr th:only-of-type {\n",
              "        vertical-align: middle;\n",
              "    }\n",
              "\n",
              "    .dataframe tbody tr th {\n",
              "        vertical-align: top;\n",
              "    }\n",
              "\n",
              "    .dataframe thead th {\n",
              "        text-align: right;\n",
              "    }\n",
              "</style>\n",
              "<table border=\"1\" class=\"dataframe\">\n",
              "  <thead>\n",
              "    <tr style=\"text-align: right;\">\n",
              "      <th></th>\n",
              "      <th>Flare Class</th>\n",
              "      <th>Start Time</th>\n",
              "      <th>Peak Time</th>\n",
              "      <th>End Time</th>\n",
              "      <th>Active Region Number</th>\n",
              "      <th>Harp Number</th>\n",
              "      <th>CME</th>\n",
              "    </tr>\n",
              "  </thead>\n",
              "  <tbody>\n",
              "    <tr>\n",
              "      <th>0</th>\n",
              "      <td>X2.2</td>\n",
              "      <td>2011-02-15T01:44Z</td>\n",
              "      <td>2011-02-15T01:56Z</td>\n",
              "      <td>2011-02-15T02:06Z</td>\n",
              "      <td>11158</td>\n",
              "      <td>377</td>\n",
              "      <td>2011-02-15T02:25:00-CME-001</td>\n",
              "    </tr>\n",
              "    <tr>\n",
              "      <th>1</th>\n",
              "      <td>M3.5</td>\n",
              "      <td>2011-02-24T07:23Z</td>\n",
              "      <td>2011-02-24T07:35Z</td>\n",
              "      <td>2011-02-24T07:42Z</td>\n",
              "      <td>11163</td>\n",
              "      <td>392</td>\n",
              "      <td>2011-02-24T08:00:00-CME-001</td>\n",
              "    </tr>\n",
              "    <tr>\n",
              "      <th>2</th>\n",
              "      <td>M3.7</td>\n",
              "      <td>2011-03-07T19:43Z</td>\n",
              "      <td>2011-03-07T20:12Z</td>\n",
              "      <td>2011-03-07T20:58Z</td>\n",
              "      <td>11164</td>\n",
              "      <td>393</td>\n",
              "      <td>2011-03-07T20:12:00-CME-001</td>\n",
              "    </tr>\n",
              "    <tr>\n",
              "      <th>3</th>\n",
              "      <td>M2.0</td>\n",
              "      <td>2011-03-07T13:45Z</td>\n",
              "      <td>2011-03-07T14:30Z</td>\n",
              "      <td>2011-03-07T14:56Z</td>\n",
              "      <td>11166</td>\n",
              "      <td>401</td>\n",
              "      <td>2011-03-07T14:40:00-CME-001</td>\n",
              "    </tr>\n",
              "    <tr>\n",
              "      <th>4</th>\n",
              "      <td>M1.5</td>\n",
              "      <td>2011-03-08T03:37Z</td>\n",
              "      <td>2011-03-08T03:58Z</td>\n",
              "      <td>2011-03-08T04:20Z</td>\n",
              "      <td>11171</td>\n",
              "      <td>415</td>\n",
              "      <td>2011-03-08T05:00:00-CME-001</td>\n",
              "    </tr>\n",
              "  </tbody>\n",
              "</table>\n",
              "</div>\n",
              "    <div class=\"colab-df-buttons\">\n",
              "\n",
              "  <div class=\"colab-df-container\">\n",
              "    <button class=\"colab-df-convert\" onclick=\"convertToInteractive('df-847a4b98-4c96-46fc-851d-26e610c76d36')\"\n",
              "            title=\"Convert this dataframe to an interactive table.\"\n",
              "            style=\"display:none;\">\n",
              "\n",
              "  <svg xmlns=\"http://www.w3.org/2000/svg\" height=\"24px\" viewBox=\"0 -960 960 960\">\n",
              "    <path d=\"M120-120v-720h720v720H120Zm60-500h600v-160H180v160Zm220 220h160v-160H400v160Zm0 220h160v-160H400v160ZM180-400h160v-160H180v160Zm440 0h160v-160H620v160ZM180-180h160v-160H180v160Zm440 0h160v-160H620v160Z\"/>\n",
              "  </svg>\n",
              "    </button>\n",
              "\n",
              "  <style>\n",
              "    .colab-df-container {\n",
              "      display:flex;\n",
              "      gap: 12px;\n",
              "    }\n",
              "\n",
              "    .colab-df-convert {\n",
              "      background-color: #E8F0FE;\n",
              "      border: none;\n",
              "      border-radius: 50%;\n",
              "      cursor: pointer;\n",
              "      display: none;\n",
              "      fill: #1967D2;\n",
              "      height: 32px;\n",
              "      padding: 0 0 0 0;\n",
              "      width: 32px;\n",
              "    }\n",
              "\n",
              "    .colab-df-convert:hover {\n",
              "      background-color: #E2EBFA;\n",
              "      box-shadow: 0px 1px 2px rgba(60, 64, 67, 0.3), 0px 1px 3px 1px rgba(60, 64, 67, 0.15);\n",
              "      fill: #174EA6;\n",
              "    }\n",
              "\n",
              "    .colab-df-buttons div {\n",
              "      margin-bottom: 4px;\n",
              "    }\n",
              "\n",
              "    [theme=dark] .colab-df-convert {\n",
              "      background-color: #3B4455;\n",
              "      fill: #D2E3FC;\n",
              "    }\n",
              "\n",
              "    [theme=dark] .colab-df-convert:hover {\n",
              "      background-color: #434B5C;\n",
              "      box-shadow: 0px 1px 3px 1px rgba(0, 0, 0, 0.15);\n",
              "      filter: drop-shadow(0px 1px 2px rgba(0, 0, 0, 0.3));\n",
              "      fill: #FFFFFF;\n",
              "    }\n",
              "  </style>\n",
              "\n",
              "    <script>\n",
              "      const buttonEl =\n",
              "        document.querySelector('#df-847a4b98-4c96-46fc-851d-26e610c76d36 button.colab-df-convert');\n",
              "      buttonEl.style.display =\n",
              "        google.colab.kernel.accessAllowed ? 'block' : 'none';\n",
              "\n",
              "      async function convertToInteractive(key) {\n",
              "        const element = document.querySelector('#df-847a4b98-4c96-46fc-851d-26e610c76d36');\n",
              "        const dataTable =\n",
              "          await google.colab.kernel.invokeFunction('convertToInteractive',\n",
              "                                                    [key], {});\n",
              "        if (!dataTable) return;\n",
              "\n",
              "        const docLinkHtml = 'Like what you see? Visit the ' +\n",
              "          '<a target=\"_blank\" href=https://colab.research.google.com/notebooks/data_table.ipynb>data table notebook</a>'\n",
              "          + ' to learn more about interactive tables.';\n",
              "        element.innerHTML = '';\n",
              "        dataTable['output_type'] = 'display_data';\n",
              "        await google.colab.output.renderOutput(dataTable, element);\n",
              "        const docLink = document.createElement('div');\n",
              "        docLink.innerHTML = docLinkHtml;\n",
              "        element.appendChild(docLink);\n",
              "      }\n",
              "    </script>\n",
              "  </div>\n",
              "\n",
              "\n",
              "<div id=\"df-f4cdd632-9f87-469b-8508-1da75f14566f\">\n",
              "  <button class=\"colab-df-quickchart\" onclick=\"quickchart('df-f4cdd632-9f87-469b-8508-1da75f14566f')\"\n",
              "            title=\"Suggest charts.\"\n",
              "            style=\"display:none;\">\n",
              "\n",
              "<svg xmlns=\"http://www.w3.org/2000/svg\" height=\"24px\"viewBox=\"0 0 24 24\"\n",
              "     width=\"24px\">\n",
              "    <g>\n",
              "        <path d=\"M19 3H5c-1.1 0-2 .9-2 2v14c0 1.1.9 2 2 2h14c1.1 0 2-.9 2-2V5c0-1.1-.9-2-2-2zM9 17H7v-7h2v7zm4 0h-2V7h2v10zm4 0h-2v-4h2v4z\"/>\n",
              "    </g>\n",
              "</svg>\n",
              "  </button>\n",
              "\n",
              "<style>\n",
              "  .colab-df-quickchart {\n",
              "    background-color: #E8F0FE;\n",
              "    border: none;\n",
              "    border-radius: 50%;\n",
              "    cursor: pointer;\n",
              "    display: none;\n",
              "    fill: #1967D2;\n",
              "    height: 32px;\n",
              "    padding: 0 0 0 0;\n",
              "    width: 32px;\n",
              "  }\n",
              "\n",
              "  .colab-df-quickchart:hover {\n",
              "    background-color: #E2EBFA;\n",
              "    box-shadow: 0px 1px 2px rgba(60, 64, 67, 0.3), 0px 1px 3px 1px rgba(60, 64, 67, 0.15);\n",
              "    fill: #174EA6;\n",
              "  }\n",
              "\n",
              "  [theme=dark] .colab-df-quickchart {\n",
              "    background-color: #3B4455;\n",
              "    fill: #D2E3FC;\n",
              "  }\n",
              "\n",
              "  [theme=dark] .colab-df-quickchart:hover {\n",
              "    background-color: #434B5C;\n",
              "    box-shadow: 0px 1px 3px 1px rgba(0, 0, 0, 0.15);\n",
              "    filter: drop-shadow(0px 1px 2px rgba(0, 0, 0, 0.3));\n",
              "    fill: #FFFFFF;\n",
              "  }\n",
              "</style>\n",
              "\n",
              "  <script>\n",
              "    async function quickchart(key) {\n",
              "      const charts = await google.colab.kernel.invokeFunction(\n",
              "          'suggestCharts', [key], {});\n",
              "    }\n",
              "    (() => {\n",
              "      let quickchartButtonEl =\n",
              "        document.querySelector('#df-f4cdd632-9f87-469b-8508-1da75f14566f button');\n",
              "      quickchartButtonEl.style.display =\n",
              "        google.colab.kernel.accessAllowed ? 'block' : 'none';\n",
              "    })();\n",
              "  </script>\n",
              "</div>\n",
              "    </div>\n",
              "  </div>\n"
            ]
          },
          "metadata": {},
          "execution_count": 62
        }
      ]
    },
    {
      "cell_type": "markdown",
      "source": [
        "There are (only) 129 CME events in the list. \\\\\n",
        "**Note:** these CMEs are considered as \"positive\" because they are associated with a Solar Flare! see paper for details!\n",
        "> This yields a database of 129 M- and X-class flares that are associated with CMEs and 600 M- and X-class flares that are not associated with CMEs."
      ],
      "metadata": {
        "id": "2Brhhx9T0AFl"
      }
    },
    {
      "cell_type": "code",
      "source": [
        "# convert time stamp such that sdo-cli can read them\n",
        "df_cme_list['Start Time'] = pd.to_datetime(df_cme_list['Start Time']).dt.strftime('%Y-%m-%dT%H:%M:%S')\n",
        "df_cme_list['Peak Time'] = pd.to_datetime(df_cme_list['Peak Time']).dt.strftime('%Y-%m-%dT%H:%M:%S')\n",
        "df_cme_list['End Time'] = pd.to_datetime(df_cme_list['End Time']).dt.strftime('%Y-%m-%dT%H:%M:%S')\n",
        "df_cme_list.head()"
      ],
      "metadata": {
        "colab": {
          "base_uri": "https://localhost:8080/",
          "height": 206
        },
        "id": "C5DFOtvCCQVk",
        "outputId": "9c5e8177-28a3-4ea7-9ae9-5e4e9cf37d22"
      },
      "execution_count": 63,
      "outputs": [
        {
          "output_type": "execute_result",
          "data": {
            "text/plain": [
              "  Flare Class           Start Time            Peak Time             End Time  \\\n",
              "0        X2.2  2011-02-15T01:44:00  2011-02-15T01:56:00  2011-02-15T02:06:00   \n",
              "1        M3.5  2011-02-24T07:23:00  2011-02-24T07:35:00  2011-02-24T07:42:00   \n",
              "2        M3.7  2011-03-07T19:43:00  2011-03-07T20:12:00  2011-03-07T20:58:00   \n",
              "3        M2.0  2011-03-07T13:45:00  2011-03-07T14:30:00  2011-03-07T14:56:00   \n",
              "4        M1.5  2011-03-08T03:37:00  2011-03-08T03:58:00  2011-03-08T04:20:00   \n",
              "\n",
              "   Active Region Number  Harp Number                          CME  \n",
              "0                 11158          377  2011-02-15T02:25:00-CME-001  \n",
              "1                 11163          392  2011-02-24T08:00:00-CME-001  \n",
              "2                 11164          393  2011-03-07T20:12:00-CME-001  \n",
              "3                 11166          401  2011-03-07T14:40:00-CME-001  \n",
              "4                 11171          415  2011-03-08T05:00:00-CME-001  "
            ],
            "text/html": [
              "\n",
              "  <div id=\"df-f359476b-cd47-493d-b1d9-eb24fa4a00ea\" class=\"colab-df-container\">\n",
              "    <div>\n",
              "<style scoped>\n",
              "    .dataframe tbody tr th:only-of-type {\n",
              "        vertical-align: middle;\n",
              "    }\n",
              "\n",
              "    .dataframe tbody tr th {\n",
              "        vertical-align: top;\n",
              "    }\n",
              "\n",
              "    .dataframe thead th {\n",
              "        text-align: right;\n",
              "    }\n",
              "</style>\n",
              "<table border=\"1\" class=\"dataframe\">\n",
              "  <thead>\n",
              "    <tr style=\"text-align: right;\">\n",
              "      <th></th>\n",
              "      <th>Flare Class</th>\n",
              "      <th>Start Time</th>\n",
              "      <th>Peak Time</th>\n",
              "      <th>End Time</th>\n",
              "      <th>Active Region Number</th>\n",
              "      <th>Harp Number</th>\n",
              "      <th>CME</th>\n",
              "    </tr>\n",
              "  </thead>\n",
              "  <tbody>\n",
              "    <tr>\n",
              "      <th>0</th>\n",
              "      <td>X2.2</td>\n",
              "      <td>2011-02-15T01:44:00</td>\n",
              "      <td>2011-02-15T01:56:00</td>\n",
              "      <td>2011-02-15T02:06:00</td>\n",
              "      <td>11158</td>\n",
              "      <td>377</td>\n",
              "      <td>2011-02-15T02:25:00-CME-001</td>\n",
              "    </tr>\n",
              "    <tr>\n",
              "      <th>1</th>\n",
              "      <td>M3.5</td>\n",
              "      <td>2011-02-24T07:23:00</td>\n",
              "      <td>2011-02-24T07:35:00</td>\n",
              "      <td>2011-02-24T07:42:00</td>\n",
              "      <td>11163</td>\n",
              "      <td>392</td>\n",
              "      <td>2011-02-24T08:00:00-CME-001</td>\n",
              "    </tr>\n",
              "    <tr>\n",
              "      <th>2</th>\n",
              "      <td>M3.7</td>\n",
              "      <td>2011-03-07T19:43:00</td>\n",
              "      <td>2011-03-07T20:12:00</td>\n",
              "      <td>2011-03-07T20:58:00</td>\n",
              "      <td>11164</td>\n",
              "      <td>393</td>\n",
              "      <td>2011-03-07T20:12:00-CME-001</td>\n",
              "    </tr>\n",
              "    <tr>\n",
              "      <th>3</th>\n",
              "      <td>M2.0</td>\n",
              "      <td>2011-03-07T13:45:00</td>\n",
              "      <td>2011-03-07T14:30:00</td>\n",
              "      <td>2011-03-07T14:56:00</td>\n",
              "      <td>11166</td>\n",
              "      <td>401</td>\n",
              "      <td>2011-03-07T14:40:00-CME-001</td>\n",
              "    </tr>\n",
              "    <tr>\n",
              "      <th>4</th>\n",
              "      <td>M1.5</td>\n",
              "      <td>2011-03-08T03:37:00</td>\n",
              "      <td>2011-03-08T03:58:00</td>\n",
              "      <td>2011-03-08T04:20:00</td>\n",
              "      <td>11171</td>\n",
              "      <td>415</td>\n",
              "      <td>2011-03-08T05:00:00-CME-001</td>\n",
              "    </tr>\n",
              "  </tbody>\n",
              "</table>\n",
              "</div>\n",
              "    <div class=\"colab-df-buttons\">\n",
              "\n",
              "  <div class=\"colab-df-container\">\n",
              "    <button class=\"colab-df-convert\" onclick=\"convertToInteractive('df-f359476b-cd47-493d-b1d9-eb24fa4a00ea')\"\n",
              "            title=\"Convert this dataframe to an interactive table.\"\n",
              "            style=\"display:none;\">\n",
              "\n",
              "  <svg xmlns=\"http://www.w3.org/2000/svg\" height=\"24px\" viewBox=\"0 -960 960 960\">\n",
              "    <path d=\"M120-120v-720h720v720H120Zm60-500h600v-160H180v160Zm220 220h160v-160H400v160Zm0 220h160v-160H400v160ZM180-400h160v-160H180v160Zm440 0h160v-160H620v160ZM180-180h160v-160H180v160Zm440 0h160v-160H620v160Z\"/>\n",
              "  </svg>\n",
              "    </button>\n",
              "\n",
              "  <style>\n",
              "    .colab-df-container {\n",
              "      display:flex;\n",
              "      gap: 12px;\n",
              "    }\n",
              "\n",
              "    .colab-df-convert {\n",
              "      background-color: #E8F0FE;\n",
              "      border: none;\n",
              "      border-radius: 50%;\n",
              "      cursor: pointer;\n",
              "      display: none;\n",
              "      fill: #1967D2;\n",
              "      height: 32px;\n",
              "      padding: 0 0 0 0;\n",
              "      width: 32px;\n",
              "    }\n",
              "\n",
              "    .colab-df-convert:hover {\n",
              "      background-color: #E2EBFA;\n",
              "      box-shadow: 0px 1px 2px rgba(60, 64, 67, 0.3), 0px 1px 3px 1px rgba(60, 64, 67, 0.15);\n",
              "      fill: #174EA6;\n",
              "    }\n",
              "\n",
              "    .colab-df-buttons div {\n",
              "      margin-bottom: 4px;\n",
              "    }\n",
              "\n",
              "    [theme=dark] .colab-df-convert {\n",
              "      background-color: #3B4455;\n",
              "      fill: #D2E3FC;\n",
              "    }\n",
              "\n",
              "    [theme=dark] .colab-df-convert:hover {\n",
              "      background-color: #434B5C;\n",
              "      box-shadow: 0px 1px 3px 1px rgba(0, 0, 0, 0.15);\n",
              "      filter: drop-shadow(0px 1px 2px rgba(0, 0, 0, 0.3));\n",
              "      fill: #FFFFFF;\n",
              "    }\n",
              "  </style>\n",
              "\n",
              "    <script>\n",
              "      const buttonEl =\n",
              "        document.querySelector('#df-f359476b-cd47-493d-b1d9-eb24fa4a00ea button.colab-df-convert');\n",
              "      buttonEl.style.display =\n",
              "        google.colab.kernel.accessAllowed ? 'block' : 'none';\n",
              "\n",
              "      async function convertToInteractive(key) {\n",
              "        const element = document.querySelector('#df-f359476b-cd47-493d-b1d9-eb24fa4a00ea');\n",
              "        const dataTable =\n",
              "          await google.colab.kernel.invokeFunction('convertToInteractive',\n",
              "                                                    [key], {});\n",
              "        if (!dataTable) return;\n",
              "\n",
              "        const docLinkHtml = 'Like what you see? Visit the ' +\n",
              "          '<a target=\"_blank\" href=https://colab.research.google.com/notebooks/data_table.ipynb>data table notebook</a>'\n",
              "          + ' to learn more about interactive tables.';\n",
              "        element.innerHTML = '';\n",
              "        dataTable['output_type'] = 'display_data';\n",
              "        await google.colab.output.renderOutput(dataTable, element);\n",
              "        const docLink = document.createElement('div');\n",
              "        docLink.innerHTML = docLinkHtml;\n",
              "        element.appendChild(docLink);\n",
              "      }\n",
              "    </script>\n",
              "  </div>\n",
              "\n",
              "\n",
              "<div id=\"df-4ab10b80-1b7c-45b0-a68a-f83098a00d6d\">\n",
              "  <button class=\"colab-df-quickchart\" onclick=\"quickchart('df-4ab10b80-1b7c-45b0-a68a-f83098a00d6d')\"\n",
              "            title=\"Suggest charts.\"\n",
              "            style=\"display:none;\">\n",
              "\n",
              "<svg xmlns=\"http://www.w3.org/2000/svg\" height=\"24px\"viewBox=\"0 0 24 24\"\n",
              "     width=\"24px\">\n",
              "    <g>\n",
              "        <path d=\"M19 3H5c-1.1 0-2 .9-2 2v14c0 1.1.9 2 2 2h14c1.1 0 2-.9 2-2V5c0-1.1-.9-2-2-2zM9 17H7v-7h2v7zm4 0h-2V7h2v10zm4 0h-2v-4h2v4z\"/>\n",
              "    </g>\n",
              "</svg>\n",
              "  </button>\n",
              "\n",
              "<style>\n",
              "  .colab-df-quickchart {\n",
              "    background-color: #E8F0FE;\n",
              "    border: none;\n",
              "    border-radius: 50%;\n",
              "    cursor: pointer;\n",
              "    display: none;\n",
              "    fill: #1967D2;\n",
              "    height: 32px;\n",
              "    padding: 0 0 0 0;\n",
              "    width: 32px;\n",
              "  }\n",
              "\n",
              "  .colab-df-quickchart:hover {\n",
              "    background-color: #E2EBFA;\n",
              "    box-shadow: 0px 1px 2px rgba(60, 64, 67, 0.3), 0px 1px 3px 1px rgba(60, 64, 67, 0.15);\n",
              "    fill: #174EA6;\n",
              "  }\n",
              "\n",
              "  [theme=dark] .colab-df-quickchart {\n",
              "    background-color: #3B4455;\n",
              "    fill: #D2E3FC;\n",
              "  }\n",
              "\n",
              "  [theme=dark] .colab-df-quickchart:hover {\n",
              "    background-color: #434B5C;\n",
              "    box-shadow: 0px 1px 3px 1px rgba(0, 0, 0, 0.15);\n",
              "    filter: drop-shadow(0px 1px 2px rgba(0, 0, 0, 0.3));\n",
              "    fill: #FFFFFF;\n",
              "  }\n",
              "</style>\n",
              "\n",
              "  <script>\n",
              "    async function quickchart(key) {\n",
              "      const charts = await google.colab.kernel.invokeFunction(\n",
              "          'suggestCharts', [key], {});\n",
              "    }\n",
              "    (() => {\n",
              "      let quickchartButtonEl =\n",
              "        document.querySelector('#df-4ab10b80-1b7c-45b0-a68a-f83098a00d6d button');\n",
              "      quickchartButtonEl.style.display =\n",
              "        google.colab.kernel.accessAllowed ? 'block' : 'none';\n",
              "    })();\n",
              "  </script>\n",
              "</div>\n",
              "    </div>\n",
              "  </div>\n"
            ]
          },
          "metadata": {},
          "execution_count": 63
        }
      ]
    },
    {
      "cell_type": "code",
      "source": [
        "# do the same for the negative labeled list\n",
        "df_no_cme_list = pd.read_csv(r'00_Dataset/event_lists/no_cme_events.csv', delimiter =';')\n",
        "df_no_cme_list['Start Time'] = pd.to_datetime(df_no_cme_list['Start Time']).dt.strftime('%Y-%m-%dT%H:%M:%S')\n",
        "df_no_cme_list['Peak Time'] = pd.to_datetime(df_no_cme_list['Peak Time']).dt.strftime('%Y-%m-%dT%H:%M:%S')\n",
        "df_no_cme_list['End Time'] = pd.to_datetime(df_no_cme_list['End Time']).dt.strftime('%Y-%m-%dT%H:%M:%S')\n",
        "df_no_cme_list.tail()"
      ],
      "metadata": {
        "colab": {
          "base_uri": "https://localhost:8080/",
          "height": 206
        },
        "id": "cXKdc3QjCXkB",
        "outputId": "b111850d-890e-4248-d510-5144d3038634"
      },
      "execution_count": 65,
      "outputs": [
        {
          "output_type": "execute_result",
          "data": {
            "text/plain": [
              "    Flare Class           Start Time            Peak Time  \\\n",
              "605        M1.3  2017-09-08T02:19:00  2017-09-08T02:24:00   \n",
              "606        M1.2  2017-09-04T05:36:00  2017-09-04T05:49:00   \n",
              "607        M1.1  2017-09-09T04:14:00  2017-09-09T04:28:00   \n",
              "608        M1.1  2017-09-09T22:04:00  2017-09-09T23:53:00   \n",
              "609        M1.0  2017-09-05T03:42:00  2017-09-05T03:51:00   \n",
              "\n",
              "                End Time  Active Region Number  Harp Number CME  \n",
              "605  2017-09-08T02:29:00                 12673         7115  No  \n",
              "606  2017-09-04T06:05:00                 12673         7115  No  \n",
              "607  2017-09-09T04:43:00                 12673         7115  No  \n",
              "608  2017-09-10T00:41:00                 12673         7115  No  \n",
              "609  2017-09-05T04:04:00                 12673         7115  No  "
            ],
            "text/html": [
              "\n",
              "  <div id=\"df-d40fc17b-0d06-4297-a844-948ca3017a04\" class=\"colab-df-container\">\n",
              "    <div>\n",
              "<style scoped>\n",
              "    .dataframe tbody tr th:only-of-type {\n",
              "        vertical-align: middle;\n",
              "    }\n",
              "\n",
              "    .dataframe tbody tr th {\n",
              "        vertical-align: top;\n",
              "    }\n",
              "\n",
              "    .dataframe thead th {\n",
              "        text-align: right;\n",
              "    }\n",
              "</style>\n",
              "<table border=\"1\" class=\"dataframe\">\n",
              "  <thead>\n",
              "    <tr style=\"text-align: right;\">\n",
              "      <th></th>\n",
              "      <th>Flare Class</th>\n",
              "      <th>Start Time</th>\n",
              "      <th>Peak Time</th>\n",
              "      <th>End Time</th>\n",
              "      <th>Active Region Number</th>\n",
              "      <th>Harp Number</th>\n",
              "      <th>CME</th>\n",
              "    </tr>\n",
              "  </thead>\n",
              "  <tbody>\n",
              "    <tr>\n",
              "      <th>605</th>\n",
              "      <td>M1.3</td>\n",
              "      <td>2017-09-08T02:19:00</td>\n",
              "      <td>2017-09-08T02:24:00</td>\n",
              "      <td>2017-09-08T02:29:00</td>\n",
              "      <td>12673</td>\n",
              "      <td>7115</td>\n",
              "      <td>No</td>\n",
              "    </tr>\n",
              "    <tr>\n",
              "      <th>606</th>\n",
              "      <td>M1.2</td>\n",
              "      <td>2017-09-04T05:36:00</td>\n",
              "      <td>2017-09-04T05:49:00</td>\n",
              "      <td>2017-09-04T06:05:00</td>\n",
              "      <td>12673</td>\n",
              "      <td>7115</td>\n",
              "      <td>No</td>\n",
              "    </tr>\n",
              "    <tr>\n",
              "      <th>607</th>\n",
              "      <td>M1.1</td>\n",
              "      <td>2017-09-09T04:14:00</td>\n",
              "      <td>2017-09-09T04:28:00</td>\n",
              "      <td>2017-09-09T04:43:00</td>\n",
              "      <td>12673</td>\n",
              "      <td>7115</td>\n",
              "      <td>No</td>\n",
              "    </tr>\n",
              "    <tr>\n",
              "      <th>608</th>\n",
              "      <td>M1.1</td>\n",
              "      <td>2017-09-09T22:04:00</td>\n",
              "      <td>2017-09-09T23:53:00</td>\n",
              "      <td>2017-09-10T00:41:00</td>\n",
              "      <td>12673</td>\n",
              "      <td>7115</td>\n",
              "      <td>No</td>\n",
              "    </tr>\n",
              "    <tr>\n",
              "      <th>609</th>\n",
              "      <td>M1.0</td>\n",
              "      <td>2017-09-05T03:42:00</td>\n",
              "      <td>2017-09-05T03:51:00</td>\n",
              "      <td>2017-09-05T04:04:00</td>\n",
              "      <td>12673</td>\n",
              "      <td>7115</td>\n",
              "      <td>No</td>\n",
              "    </tr>\n",
              "  </tbody>\n",
              "</table>\n",
              "</div>\n",
              "    <div class=\"colab-df-buttons\">\n",
              "\n",
              "  <div class=\"colab-df-container\">\n",
              "    <button class=\"colab-df-convert\" onclick=\"convertToInteractive('df-d40fc17b-0d06-4297-a844-948ca3017a04')\"\n",
              "            title=\"Convert this dataframe to an interactive table.\"\n",
              "            style=\"display:none;\">\n",
              "\n",
              "  <svg xmlns=\"http://www.w3.org/2000/svg\" height=\"24px\" viewBox=\"0 -960 960 960\">\n",
              "    <path d=\"M120-120v-720h720v720H120Zm60-500h600v-160H180v160Zm220 220h160v-160H400v160Zm0 220h160v-160H400v160ZM180-400h160v-160H180v160Zm440 0h160v-160H620v160ZM180-180h160v-160H180v160Zm440 0h160v-160H620v160Z\"/>\n",
              "  </svg>\n",
              "    </button>\n",
              "\n",
              "  <style>\n",
              "    .colab-df-container {\n",
              "      display:flex;\n",
              "      gap: 12px;\n",
              "    }\n",
              "\n",
              "    .colab-df-convert {\n",
              "      background-color: #E8F0FE;\n",
              "      border: none;\n",
              "      border-radius: 50%;\n",
              "      cursor: pointer;\n",
              "      display: none;\n",
              "      fill: #1967D2;\n",
              "      height: 32px;\n",
              "      padding: 0 0 0 0;\n",
              "      width: 32px;\n",
              "    }\n",
              "\n",
              "    .colab-df-convert:hover {\n",
              "      background-color: #E2EBFA;\n",
              "      box-shadow: 0px 1px 2px rgba(60, 64, 67, 0.3), 0px 1px 3px 1px rgba(60, 64, 67, 0.15);\n",
              "      fill: #174EA6;\n",
              "    }\n",
              "\n",
              "    .colab-df-buttons div {\n",
              "      margin-bottom: 4px;\n",
              "    }\n",
              "\n",
              "    [theme=dark] .colab-df-convert {\n",
              "      background-color: #3B4455;\n",
              "      fill: #D2E3FC;\n",
              "    }\n",
              "\n",
              "    [theme=dark] .colab-df-convert:hover {\n",
              "      background-color: #434B5C;\n",
              "      box-shadow: 0px 1px 3px 1px rgba(0, 0, 0, 0.15);\n",
              "      filter: drop-shadow(0px 1px 2px rgba(0, 0, 0, 0.3));\n",
              "      fill: #FFFFFF;\n",
              "    }\n",
              "  </style>\n",
              "\n",
              "    <script>\n",
              "      const buttonEl =\n",
              "        document.querySelector('#df-d40fc17b-0d06-4297-a844-948ca3017a04 button.colab-df-convert');\n",
              "      buttonEl.style.display =\n",
              "        google.colab.kernel.accessAllowed ? 'block' : 'none';\n",
              "\n",
              "      async function convertToInteractive(key) {\n",
              "        const element = document.querySelector('#df-d40fc17b-0d06-4297-a844-948ca3017a04');\n",
              "        const dataTable =\n",
              "          await google.colab.kernel.invokeFunction('convertToInteractive',\n",
              "                                                    [key], {});\n",
              "        if (!dataTable) return;\n",
              "\n",
              "        const docLinkHtml = 'Like what you see? Visit the ' +\n",
              "          '<a target=\"_blank\" href=https://colab.research.google.com/notebooks/data_table.ipynb>data table notebook</a>'\n",
              "          + ' to learn more about interactive tables.';\n",
              "        element.innerHTML = '';\n",
              "        dataTable['output_type'] = 'display_data';\n",
              "        await google.colab.output.renderOutput(dataTable, element);\n",
              "        const docLink = document.createElement('div');\n",
              "        docLink.innerHTML = docLinkHtml;\n",
              "        element.appendChild(docLink);\n",
              "      }\n",
              "    </script>\n",
              "  </div>\n",
              "\n",
              "\n",
              "<div id=\"df-c1351f3b-5a75-43db-91b7-43f037429265\">\n",
              "  <button class=\"colab-df-quickchart\" onclick=\"quickchart('df-c1351f3b-5a75-43db-91b7-43f037429265')\"\n",
              "            title=\"Suggest charts.\"\n",
              "            style=\"display:none;\">\n",
              "\n",
              "<svg xmlns=\"http://www.w3.org/2000/svg\" height=\"24px\"viewBox=\"0 0 24 24\"\n",
              "     width=\"24px\">\n",
              "    <g>\n",
              "        <path d=\"M19 3H5c-1.1 0-2 .9-2 2v14c0 1.1.9 2 2 2h14c1.1 0 2-.9 2-2V5c0-1.1-.9-2-2-2zM9 17H7v-7h2v7zm4 0h-2V7h2v10zm4 0h-2v-4h2v4z\"/>\n",
              "    </g>\n",
              "</svg>\n",
              "  </button>\n",
              "\n",
              "<style>\n",
              "  .colab-df-quickchart {\n",
              "    background-color: #E8F0FE;\n",
              "    border: none;\n",
              "    border-radius: 50%;\n",
              "    cursor: pointer;\n",
              "    display: none;\n",
              "    fill: #1967D2;\n",
              "    height: 32px;\n",
              "    padding: 0 0 0 0;\n",
              "    width: 32px;\n",
              "  }\n",
              "\n",
              "  .colab-df-quickchart:hover {\n",
              "    background-color: #E2EBFA;\n",
              "    box-shadow: 0px 1px 2px rgba(60, 64, 67, 0.3), 0px 1px 3px 1px rgba(60, 64, 67, 0.15);\n",
              "    fill: #174EA6;\n",
              "  }\n",
              "\n",
              "  [theme=dark] .colab-df-quickchart {\n",
              "    background-color: #3B4455;\n",
              "    fill: #D2E3FC;\n",
              "  }\n",
              "\n",
              "  [theme=dark] .colab-df-quickchart:hover {\n",
              "    background-color: #434B5C;\n",
              "    box-shadow: 0px 1px 3px 1px rgba(0, 0, 0, 0.15);\n",
              "    filter: drop-shadow(0px 1px 2px rgba(0, 0, 0, 0.3));\n",
              "    fill: #FFFFFF;\n",
              "  }\n",
              "</style>\n",
              "\n",
              "  <script>\n",
              "    async function quickchart(key) {\n",
              "      const charts = await google.colab.kernel.invokeFunction(\n",
              "          'suggestCharts', [key], {});\n",
              "    }\n",
              "    (() => {\n",
              "      let quickchartButtonEl =\n",
              "        document.querySelector('#df-c1351f3b-5a75-43db-91b7-43f037429265 button');\n",
              "      quickchartButtonEl.style.display =\n",
              "        google.colab.kernel.accessAllowed ? 'block' : 'none';\n",
              "    })();\n",
              "  </script>\n",
              "</div>\n",
              "    </div>\n",
              "  </div>\n"
            ]
          },
          "metadata": {},
          "execution_count": 65
        }
      ]
    },
    {
      "cell_type": "markdown",
      "source": [
        "As one can see, there are 610 negative labeled events"
      ],
      "metadata": {
        "id": "3NnlNdv80pjZ"
      }
    },
    {
      "cell_type": "markdown",
      "source": [
        "## Download and Check Images"
      ],
      "metadata": {
        "id": "QSmWrfFQBeQV"
      }
    },
    {
      "cell_type": "code",
      "source": [
        "# create_sdo_aia_dataset(file_path = './data/raw/raw_512/positive/', event_list = df_cme_list, dt = '60min', wavelength = '171')"
      ],
      "metadata": {
        "id": "nHlrj-ObFLnJ"
      },
      "execution_count": 27,
      "outputs": []
    },
    {
      "cell_type": "code",
      "source": [
        "# create_sdo_aia_dataset(file_path = './data/raw/raw_512/negative/', event_list = df_no_cme_list, dt = '60min', wavelength = '171')"
      ],
      "metadata": {
        "id": "p4IoyW7ITR0r"
      },
      "execution_count": 28,
      "outputs": []
    },
    {
      "cell_type": "markdown",
      "source": [
        "now that the images were downloaded, we check the smaples against the list if there are many corrupted samples"
      ],
      "metadata": {
        "id": "pJ4DjrqWg9Wl"
      }
    },
    {
      "cell_type": "markdown",
      "source": [
        "## Prepare Dataset\n",
        "\n",
        "Positive Class: create positive class, i.e. CMEs which are related to Flares\n",
        "\n",
        "Negative Class: create positive class, i.e. CMEs which are NOT related to Flares"
      ],
      "metadata": {
        "id": "-Q2DrHjk3MW6"
      }
    },
    {
      "cell_type": "markdown",
      "source": [
        "#### Resize the Images\n"
      ],
      "metadata": {
        "id": "4PBgakw_b74b"
      }
    },
    {
      "cell_type": "markdown",
      "source": [],
      "metadata": {
        "id": "XmDthD0ptmMz"
      }
    },
    {
      "cell_type": "code",
      "source": [
        "#!sdo-cli data resize --path='./data/raw/raw_512/positive/' --targetpath='./data/raw/raw_256/positive' --wavelength='171' --size=256"
      ],
      "metadata": {
        "id": "OkBcpbeGTcMx"
      },
      "execution_count": null,
      "outputs": []
    },
    {
      "cell_type": "code",
      "source": [
        "#!sdo-cli data resize --path='./data/raw/raw_512/negative/' --targetpath='./data/raw/raw_256/negative' --wavelength='171' --size=256"
      ],
      "metadata": {
        "id": "nwn2vn7WUvRp"
      },
      "execution_count": null,
      "outputs": []
    },
    {
      "cell_type": "markdown",
      "source": [
        "## Keras tutorial"
      ],
      "metadata": {
        "id": "Hqbrb9Ar3gGI"
      }
    },
    {
      "cell_type": "code",
      "source": [
        "#%cd /content/drive/MyDrive/Academia/MSc. Aerospace Engineering - FH Wiener Neustadt/4. Master Thesis/03-Work/sdo_binclass/data/raw/"
      ],
      "metadata": {
        "id": "7kIgPgw72SZm"
      },
      "execution_count": null,
      "outputs": []
    },
    {
      "cell_type": "code",
      "source": [
        "#!ls raw_512"
      ],
      "metadata": {
        "id": "_cB0Sn882v9g"
      },
      "execution_count": null,
      "outputs": []
    },
    {
      "cell_type": "code",
      "source": [
        "num_skipped = 0\n",
        "for folder_name in (\"negative\", \"positive\"):\n",
        "    folder_path = os.path.join(\"raw_512\", folder_name)\n",
        "    for fname in os.listdir(folder_path):\n",
        "        fpath = os.path.join(folder_path, fname)\n",
        "        try:\n",
        "            fobj = open(fpath, \"rb\")\n",
        "            is_jfif = tf.compat.as_bytes(\"JFIF\") in fobj.peek(10)\n",
        "        finally:\n",
        "            fobj.close()\n",
        "\n",
        "        if not is_jfif:\n",
        "            num_skipped += 1\n",
        "            # Delete corrupted image\n",
        "            os.remove(fpath)\n",
        "\n",
        "print(\"Deleted %d images\" % num_skipped)"
      ],
      "metadata": {
        "id": "NzZyPgPj3kcm"
      },
      "execution_count": null,
      "outputs": []
    },
    {
      "cell_type": "code",
      "source": [
        "image_size = (180, 180)\n",
        "batch_size = 50\n",
        "\n",
        "train_ds, val_ds = tf.keras.utils.image_dataset_from_directory(\n",
        "    \"raw_512\",\n",
        "    validation_split=0.2,\n",
        "    subset=\"both\",\n",
        "    seed=1337,\n",
        "    image_size=image_size,\n",
        "    batch_size=batch_size,\n",
        ")"
      ],
      "metadata": {
        "id": "ZP8Z9S8M3kXI"
      },
      "execution_count": null,
      "outputs": []
    },
    {
      "cell_type": "code",
      "source": [
        "import matplotlib.pyplot as plt\n",
        "\n",
        "plt.figure(figsize=(10, 10))\n",
        "for images, labels in train_ds.take(1):\n",
        "    for i in range(9):\n",
        "        ax = plt.subplot(3, 3, i + 1)\n",
        "        plt.imshow(images[i].numpy().astype(\"uint8\"))\n",
        "        plt.title(int(labels[i]))\n",
        "        plt.axis(\"off\")"
      ],
      "metadata": {
        "id": "svBz7xdz3kUq"
      },
      "execution_count": null,
      "outputs": []
    },
    {
      "cell_type": "code",
      "source": [
        "from tensorflow.keras import layers\n",
        "data_augmentation = keras.Sequential(\n",
        "    [\n",
        "        layers.RandomFlip(\"horizontal\"),\n",
        "        layers.RandomRotation(0.1),\n",
        "    ]\n",
        ")"
      ],
      "metadata": {
        "id": "E2OOmEsK4tHL"
      },
      "execution_count": null,
      "outputs": []
    },
    {
      "cell_type": "code",
      "source": [
        "plt.figure(figsize=(10, 10))\n",
        "for images, _ in train_ds.take(1):\n",
        "    for i in range(9):\n",
        "        augmented_images = data_augmentation(images)\n",
        "        ax = plt.subplot(3, 3, i + 1)\n",
        "        plt.imshow(augmented_images[0].numpy().astype(\"uint8\"))\n",
        "        plt.axis(\"off\")"
      ],
      "metadata": {
        "id": "lf4XP4lw441L"
      },
      "execution_count": null,
      "outputs": []
    },
    {
      "cell_type": "code",
      "source": [
        "inputs = keras.Input(shape=image_size)\n",
        "x = data_augmentation(inputs)\n",
        "x = layers.Rescaling(1./255)(x)"
      ],
      "metadata": {
        "id": "cEKSM5yh59MH"
      },
      "execution_count": null,
      "outputs": []
    },
    {
      "cell_type": "code",
      "source": [
        "# Apply `data_augmentation` to the training images.\n",
        "train_ds = train_ds.map(\n",
        "    lambda img, label: (data_augmentation(img), label),\n",
        "    num_parallel_calls=tf.data.AUTOTUNE,\n",
        ")\n",
        "# Prefetching samples in GPU memory helps maximize GPU utilization.\n",
        "train_ds = train_ds.prefetch(tf.data.AUTOTUNE)\n",
        "val_ds = val_ds.prefetch(tf.data.AUTOTUNE)"
      ],
      "metadata": {
        "id": "FDtPmN3K59HM"
      },
      "execution_count": null,
      "outputs": []
    },
    {
      "cell_type": "code",
      "source": [
        "def make_model(input_shape, num_classes, hp):\n",
        "    inputs = keras.Input(shape=input_shape)\n",
        "\n",
        "    # Entry block\n",
        "    x = layers.Rescaling(1.0 / 255)(inputs)\n",
        "    x = layers.Conv2D(128, 3, strides=2, padding=\"same\")(x)\n",
        "    x = layers.BatchNormalization()(x)\n",
        "    x = layers.Activation(\"relu\")(x)\n",
        "\n",
        "    previous_block_activation = x  # Set aside residual\n",
        "\n",
        "    for size in [256, 512, 728]:\n",
        "        x = layers.Activation(\"relu\")(x)\n",
        "        x = layers.SeparableConv2D(size, 3, padding=\"same\")(x)\n",
        "        x = layers.BatchNormalization()(x)\n",
        "\n",
        "        x = layers.Activation(\"relu\")(x)\n",
        "        x = layers.SeparableConv2D(size, 3, padding=\"same\")(x)\n",
        "        x = layers.BatchNormalization()(x)\n",
        "\n",
        "        x = layers.MaxPooling2D(3, strides=2, padding=\"same\")(x)\n",
        "\n",
        "        # Project residual\n",
        "        residual = layers.Conv2D(size, 1, strides=2, padding=\"same\")(\n",
        "            previous_block_activation\n",
        "        )\n",
        "        x = layers.add([x, residual])  # Add back residual\n",
        "        previous_block_activation = x  # Set aside next residual\n",
        "\n",
        "    x = layers.SeparableConv2D(1024, 3, padding=\"same\")(x)\n",
        "    x = layers.BatchNormalization()(x)\n",
        "    x = layers.Activation(\"relu\")(x)\n",
        "\n",
        "    x = layers.GlobalAveragePooling2D()(x)\n",
        "    if num_classes == 2:\n",
        "        activation = \"sigmoid\"\n",
        "        units = 1\n",
        "    else:\n",
        "        activation = \"softmax\"\n",
        "        units = num_classes\n",
        "\n",
        "    x = layers.Dropout(0.5)(x)\n",
        "    outputs = layers.Dense(units, activation=activation)(x)\n",
        "    return keras.Model(inputs, outputs)\n",
        "\n"
      ],
      "metadata": {
        "id": "zINy699U59FA"
      },
      "execution_count": null,
      "outputs": []
    },
    {
      "cell_type": "code",
      "source": [
        "model = make_model(input_shape=image_size + (3,), num_classes=2)\n",
        "#keras.utils.plot_model(model, show_shapes=True)"
      ],
      "metadata": {
        "id": "VWJIbIms6Y7Q"
      },
      "execution_count": null,
      "outputs": []
    },
    {
      "cell_type": "code",
      "source": [
        "epochs = 25\n",
        "\n",
        "callbacks = [\n",
        "    keras.callbacks.ModelCheckpoint(\"save_at_{epoch}.keras\"),\n",
        "]\n",
        "model.compile(\n",
        "    optimizer=keras.optimizers.Adam(1e-3),\n",
        "    loss=\"binary_crossentropy\",\n",
        "    metrics=[\"accuracy\"],\n",
        ")\n",
        "model.fit(\n",
        "    train_ds,\n",
        "    epochs=epochs,\n",
        "    callbacks=callbacks,\n",
        "    validation_data=val_ds,\n",
        ")"
      ],
      "metadata": {
        "id": "Jb-LP4hI6dGn"
      },
      "execution_count": null,
      "outputs": []
    },
    {
      "cell_type": "markdown",
      "source": [
        "## ConvNet binary classifier"
      ],
      "metadata": {
        "id": "ns_J9cDSU8eq"
      }
    },
    {
      "cell_type": "markdown",
      "source": [
        "### Split Image-Data - OLD shit!\n",
        "The following function splits the downloaded data into three dataset, namely:\n",
        "\n",
        "\n",
        "*   training\n",
        "*   test\n",
        "*   validation\n",
        "\n",
        "with corresponding negative and positive samples.\n"
      ],
      "metadata": {
        "id": "t-kfRlwAb-R0"
      }
    },
    {
      "cell_type": "code",
      "source": [
        "def split_dataset(input_dir, output_dir, test_ratio, val_ratio, random_seed=None):\n",
        "  '''\n",
        "  - Replace 'input_dir' with the path to your 'dataset' folder and 'output_dir' with the desired output path.\n",
        "  - The function will create 'train', 'test', and 'validation' folders inside the 'output_dir' and split the data accordingly.\n",
        "  - Don't forget to specify the 'test_ratio', 'val_ratio', and 'random_seed' if desired.\n",
        "  '''\n",
        "\n",
        "  if random_seed is not None:\n",
        "      random.seed(random_seed)\n",
        "\n",
        "  # Create output directories for train, test, and validation\n",
        "  train_dir = os.path.join(output_dir, 'train')\n",
        "  test_dir = os.path.join(output_dir, 'test')\n",
        "  val_dir = os.path.join(output_dir, 'validation')\n",
        "\n",
        "  os.makedirs(train_dir, exist_ok=True)\n",
        "  os.makedirs(test_dir, exist_ok=True)\n",
        "  os.makedirs(val_dir, exist_ok=True)\n",
        "\n",
        "  # Get the list of class folders in the input directory\n",
        "  class_folders = os.listdir(input_dir)\n",
        "\n",
        "  for class_folder in class_folders:\n",
        "      # Get the path to the class folder\n",
        "      class_path = os.path.join(input_dir, class_folder)\n",
        "\n",
        "      # Get the list of image filenames in the class folder\n",
        "      image_filenames = os.listdir(class_path)\n",
        "\n",
        "      # Shuffle the image filenames randomly\n",
        "      random.shuffle(image_filenames)\n",
        "\n",
        "      # Calculate the number of images for testing and validation\n",
        "      print('For the ', class_folder, 'class:')\n",
        "      num_images = len(image_filenames)\n",
        "      print('There are in total', num_images, ' images.')\n",
        "\n",
        "      num_test_images = int(num_images * test_ratio)\n",
        "      print('With ', num_test_images, 'images for testing, and')\n",
        "\n",
        "      num_val_images = int(num_images * val_ratio)\n",
        "      print(num_val_images, 'images for validation.\\n')\n",
        "      print('===================================\\n')\n",
        "\n",
        "      # Split the image filenames into train, test, and validation sets\n",
        "      train_images = image_filenames[num_test_images + num_val_images:]\n",
        "      test_images = image_filenames[:num_test_images]\n",
        "      val_images = image_filenames[num_test_images:num_test_images + num_val_images]\n",
        "\n",
        "      # Copy images to the corresponding directories\n",
        "      for image_filename in train_images:\n",
        "          src = os.path.join(class_path, image_filename)\n",
        "          dst = os.path.join(train_dir, class_folder, image_filename)\n",
        "          os.makedirs(os.path.dirname(dst), exist_ok=True)\n",
        "          shutil.copy(src, dst)\n",
        "\n",
        "      for image_filename in test_images:\n",
        "          src = os.path.join(class_path, image_filename)\n",
        "          dst = os.path.join(test_dir, class_folder, image_filename)\n",
        "          os.makedirs(os.path.dirname(dst), exist_ok=True)\n",
        "          shutil.copy(src, dst)\n",
        "\n",
        "      for image_filename in val_images:\n",
        "          src = os.path.join(class_path, image_filename)\n",
        "          dst = os.path.join(val_dir, class_folder, image_filename)\n",
        "          os.makedirs(os.path.dirname(dst), exist_ok=True)\n",
        "          shutil.copy(src, dst)\n"
      ],
      "metadata": {
        "id": "9y0zJuUv0lOQ"
      },
      "execution_count": null,
      "outputs": []
    },
    {
      "cell_type": "code",
      "source": [
        "input_dir = './data/raw/raw_256/'\n",
        "output_dir = './data/datasets/Test_1/'\n",
        "test_ratio = 0.15\n",
        "val_ratio = 0.15\n",
        "random_seed = 42  # Optional, set to None for random shuffling each time.\n",
        "split_dataset(input_dir, output_dir, test_ratio, val_ratio, random_seed)"
      ],
      "metadata": {
        "id": "CREfnd2c0wBg"
      },
      "execution_count": null,
      "outputs": []
    },
    {
      "cell_type": "markdown",
      "source": [
        "### Define Parameter"
      ],
      "metadata": {
        "id": "ExSnnqTbeVJ5"
      }
    },
    {
      "cell_type": "code",
      "source": [
        "# Set random seed for reproducibility\n",
        "random.seed(42)\n",
        "np.random.seed(42)\n",
        "tf.random.set_seed(42)\n",
        "\n",
        "# Define constants\n",
        "dataset_path = './data/datasets/Test_1/'\n",
        "input_shape = (256, 256, 3)\n",
        "num_classes = 2\n",
        "batch_size = 32\n",
        "epochs = 20\n",
        "train_ratio = 0.7\n",
        "test_ratio = 0.15\n",
        "val_ratio = 0.15\n",
        "\n",
        "# Create data generators for training and validation\n",
        "train_datagen = ImageDataGenerator(rescale=1./255, validation_split=0.2)\n",
        "\n",
        "train_generator = train_datagen.flow_from_directory(\n",
        "    os.path.join(dataset_path, 'train'),\n",
        "    target_size=(input_shape[0], input_shape[1]),\n",
        "    batch_size=batch_size,\n",
        "    class_mode='binary'\n",
        ")\n",
        "\n",
        "test_generator = train_datagen.flow_from_directory(\n",
        "    os.path.join(dataset_path, 'test'),\n",
        "    target_size=(input_shape[0], input_shape[1]),\n",
        "    batch_size=batch_size,\n",
        "    class_mode='binary',\n",
        "    shuffle=False\n",
        ")\n",
        "\n",
        "val_generator = train_datagen.flow_from_directory(\n",
        "    os.path.join(dataset_path, 'validation'),\n",
        "    target_size=(input_shape[0], input_shape[1]),\n",
        "    batch_size=batch_size,\n",
        "    class_mode='binary',\n",
        "    shuffle=False\n",
        ")\n",
        "# train_generator = train_datagen.flow_from_directory(\n",
        "#     './data/datasets/Test_1/',\n",
        "#     target_size=(img_width, img_height),\n",
        "#     batch_size=batch_size,\n",
        "#     class_mode='binary',\n",
        "#     subset='training'\n",
        "# )\n",
        "\n",
        "# validation_generator = train_datagen.flow_from_directory(\n",
        "#     './data/datasets/Test_1/',\n",
        "#     target_size=(img_width, img_height),\n",
        "#     batch_size=batch_size,\n",
        "#     class_mode='binary',\n",
        "#     subset='validation'\n",
        "# )"
      ],
      "metadata": {
        "id": "bxMEUKCJa1W1"
      },
      "execution_count": null,
      "outputs": []
    },
    {
      "cell_type": "markdown",
      "source": [
        "### Model 1: Wang et al. 2019, CME-CNN\n",
        "CME Arrival Time Prediction Using Convolutional Neural Network\n",
        "Yimin Wang, Jiajia Liu, Ye Jiang, Robert Erdélyi\n",
        "The Astrophysical Journal, 2019\n",
        "\n",
        "See: https://github.com/yiminking/CME-CNN/blob/master/model_loader.py"
      ],
      "metadata": {
        "id": "Wu0pNOceaHVR"
      }
    },
    {
      "cell_type": "code",
      "source": [
        "model = Sequential()\n",
        "model.add(Conv2D(64, kernel_size=(11, 11), input_shape=(input_shape[0], input_shape[1],input_shape[2]), padding='same'))\n",
        "model.add(BatchNormalization(momentum=0.7))\n",
        "model.add(Activation('relu'))\n",
        "model.add(MaxPooling2D(pool_size=(2, 2), padding='same'))\n",
        "model.add(Conv2D(128, kernel_size=(11, 11), padding='same'))\n",
        "model.add(BatchNormalization(momentum=0.7))\n",
        "model.add(Activation('relu'))\n",
        "model.add(MaxPooling2D(pool_size=(2, 2), padding='same'))\n",
        "model.add(Conv2D(256, kernel_size=(11, 11), padding='same'))\n",
        "model.add(BatchNormalization(momentum=0.7))\n",
        "model.add(Activation('relu'))\n",
        "model.add(MaxPooling2D(pool_size=(2, 2), padding='same'))\n",
        "model.add(Flatten())\n",
        "model.add(Dense(256))\n",
        "model.add(Activation('relu'))\n",
        "model.add(Dense(1))"
      ],
      "metadata": {
        "id": "YbyYSpojaL3x"
      },
      "execution_count": null,
      "outputs": []
    },
    {
      "cell_type": "code",
      "source": [
        "model.compile(loss='mean_squared_error', optimizer=keras.optimizers.Adam(lr=0.01), metrics=['accuracy'])\n",
        "history = model.fit(train_generator, batch_size=batch_size, epochs=20, verbose=1)\n",
        "# Save the trained model\n",
        "model.save('./Models/cme_classifier_Model-1.h5')\n",
        "model.summary()\n",
        "tf.keras.utils.plot_model(model, to_file=\"./Models/Model-1_Wang.png\", show_shapes=True)"
      ],
      "metadata": {
        "id": "V-nKoqsobjyt"
      },
      "execution_count": null,
      "outputs": []
    },
    {
      "cell_type": "markdown",
      "source": [
        "### Model 2"
      ],
      "metadata": {
        "id": "xN6S1Ssk9att"
      }
    },
    {
      "cell_type": "code",
      "source": [
        "model = Sequential()\n",
        "model.add(Conv2D(32, (3, 3), activation='relu', input_shape=(input_shape[0], input_shape[1], input_shape[2])))\n",
        "model.add(MaxPooling2D((2, 2)))\n",
        "model.add(Conv2D(64, (3, 3), activation='relu'))\n",
        "model.add(MaxPooling2D((2, 2)))\n",
        "model.add(Conv2D(128, (3, 3), activation='relu'))\n",
        "model.add(MaxPooling2D((2, 2)))\n",
        "model.add(Flatten())\n",
        "model.add(Dense(128, activation='relu'))\n",
        "model.add(Dense(1, activation='sigmoid'))\n",
        "\n",
        "# Compile the model\n",
        "model.compile(optimizer='adam', loss='binary_crossentropy', metrics=['accuracy'])\n",
        "\n",
        "# Train the model\n",
        "model.fit(train_generator, epochs=epochs, validation_data=val_generator)\n",
        "\n",
        "# Save the trained model\n",
        "model.save('./models/cme_classifier_Model-2.h5')\n",
        "model.summary()\n",
        "#tf.keras.utils.plot_model(model, to_file=\"./data/datasets/Test_2/model-2.png\", show_shapes=True)"
      ],
      "metadata": {
        "id": "gY9qzpANU5DC"
      },
      "execution_count": null,
      "outputs": []
    },
    {
      "cell_type": "markdown",
      "source": [
        "### Model 3: Data Augmentation"
      ],
      "metadata": {
        "id": "A4Clbb6u9XNM"
      }
    },
    {
      "cell_type": "code",
      "source": [
        "# Step 1: Split data into train, test, and validation sets\n",
        "#def split_data(input_dir, output_dir, test_ratio, val_ratio):\n",
        "    # Use the split_data_into_sets function here\n",
        "    # ... (the function we previously defined)\n",
        "\n",
        "# Replace 'dataset_path' with the path to your 'dataset' folder.\n",
        "# The function will create 'train', 'test', and 'validation' folders inside the 'dataset' folder.\n",
        "# It will then split the data from 'positive' and 'negative' folders into these sets.\n",
        "#dataset_path = './data/datasets/Test_1/'\n",
        "#split_data(dataset_path, dataset_path, test_ratio, val_ratio)\n",
        "\n",
        "# Step 2: Data Augmentation\n",
        "# train_data_gen =  (\n",
        "#     rescale=1.0/255.0,\n",
        "#     rotation_range=20,\n",
        "#     width_shift_range=0.2,\n",
        "#     height_shift_range=0.2,\n",
        "#     shear_range=0.2,\n",
        "#     zoom_range=0.2,\n",
        "#     horizontal_flip=True,\n",
        "#     fill_mode='nearest'\n",
        "# )\n",
        "\n",
        "# test_data_gen = ImageDataGenerator(rescale=1.0/255.0)\n",
        "\n",
        "# # Step 3: Create Data Generators for Train, Test, and Validation Sets\n",
        "# train_generator = train_data_gen.flow_from_directory(\n",
        "#     os.path.join(dataset_path, 'train'),\n",
        "#     target_size=(input_shape[0], input_shape[1]),\n",
        "#     batch_size=batch_size,\n",
        "#     class_mode='categorical'\n",
        "# )\n",
        "\n",
        "# test_generator = test_data_gen.flow_from_directory(\n",
        "#     os.path.join(dataset_path, 'test'),\n",
        "#     target_size=(input_shape[0], input_shape[1]),\n",
        "#     batch_size=batch_size,\n",
        "#     class_mode='categorical',\n",
        "#     shuffle=False\n",
        "# )\n",
        "\n",
        "# val_generator = test_data_gen.flow_from_directory(\n",
        "#     os.path.join(dataset_path, 'validation'),\n",
        "#     target_size=(input_shape[0], input_shape[1]),\n",
        "#     batch_size=batch_size,\n",
        "#     class_mode='categorical',\n",
        "#     shuffle=False\n",
        "# )\n",
        "\n",
        "# Step 4: Build the CNN Model\n",
        "model = Sequential()\n",
        "model.add(Conv2D(32, (3, 3), activation='relu', input_shape=input_shape))\n",
        "model.add(MaxPooling2D((2, 2)))\n",
        "model.add(Conv2D(64, (3, 3), activation='relu'))\n",
        "model.add(MaxPooling2D((2, 2)))\n",
        "model.add(Flatten())\n",
        "model.add(Dense(64, activation='relu'))\n",
        "model.add(Dropout(0.5))\n",
        "model.add(Dense(num_classes, activation='softmax'))\n",
        "\n",
        "# Step 5: Compile and Train the Model\n",
        "model.compile(optimizer='adam', loss='categorical_crossentropy', metrics=['accuracy'])\n",
        "\n",
        "# Since the dataset is small, we'll use the fit() method directly instead of using fit_generator().\n",
        "history = model.fit(\n",
        "    train_generator,\n",
        "    steps_per_epoch=train_generator.samples // batch_size,\n",
        "    epochs=epochs,\n",
        "    validation_data=val_generator,\n",
        "    validation_steps=val_generator.samples // batch_size\n",
        ")\n",
        "\n",
        "# Step 6: Evaluate the Model on the Test Set\n",
        "test_loss, test_accuracy = model.evaluate(test_generator, steps=test_generator.samples // batch_size)\n",
        "print(\"Test Accuracy:\", test_accuracy)\n",
        "\n",
        "# Save the trained model\n",
        "model.save('cme_classifier.h5')\n",
        "model.plot()"
      ],
      "metadata": {
        "id": "7CPLi4PG4D3B"
      },
      "execution_count": null,
      "outputs": []
    },
    {
      "cell_type": "markdown",
      "source": [
        "## Evaluation"
      ],
      "metadata": {
        "id": "Rdw_ddkBi8NA"
      }
    },
    {
      "cell_type": "code",
      "source": [],
      "metadata": {
        "id": "XWsfyPfsir9C"
      },
      "execution_count": null,
      "outputs": []
    },
    {
      "cell_type": "markdown",
      "source": [
        "# Testground"
      ],
      "metadata": {
        "id": "j43SzRRS1nTO"
      }
    },
    {
      "cell_type": "code",
      "source": [
        "# testing the function on a portion of the dataset\n",
        "df_cme_test_12_neg_part =  df_cme_test_12_neg.head(10)\n",
        "df_cme_test_12_neg_part"
      ],
      "metadata": {
        "id": "bvKDSYsB1pl5"
      },
      "execution_count": null,
      "outputs": []
    },
    {
      "cell_type": "code",
      "source": [
        "#create_sdo_aia_dataset(output_dir = './data/Liu2020_sampled/TEST2/', start_idx=5, event_list = df_cme_test_12_neg_part, dt = '10min', wavelength = '171')"
      ],
      "metadata": {
        "id": "ElD2LVfb1wX_"
      },
      "execution_count": null,
      "outputs": []
    },
    {
      "cell_type": "code",
      "source": [
        "os.listdir('./data/Liu2020_sampled/TEST2/')"
      ],
      "metadata": {
        "id": "BnerMShe1yx-"
      },
      "execution_count": null,
      "outputs": []
    },
    {
      "cell_type": "code",
      "source": [
        "dataframe_names = df_cme_test_12_neg_part['Timestamp'].tolist()\n",
        "dataframe_names"
      ],
      "metadata": {
        "id": "WVSzL9Th11P6"
      },
      "execution_count": null,
      "outputs": []
    },
    {
      "cell_type": "code",
      "source": [
        "directory_TEST = './data/Liu2020_sampled/TEST2/'\n",
        "result_TEST = compare_filenames_with_dataframe(directory_TEST, df_cme_test_12_neg_part,171)\n",
        "result_TEST"
      ],
      "metadata": {
        "id": "Fr98IyxN1448"
      },
      "execution_count": null,
      "outputs": []
    }
  ]
}