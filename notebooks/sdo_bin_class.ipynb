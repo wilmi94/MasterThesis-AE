{
  "nbformat": 4,
  "nbformat_minor": 0,
  "metadata": {
    "colab": {
      "provenance": [],
      "machine_shape": "hm",
      "gpuType": "A100",
      "cell_execution_strategy": "setup",
      "toc_visible": true,
      "authorship_tag": "ABX9TyMdBkbbEdF3HBAvUILXWbwx",
      "include_colab_link": true
    },
    "kernelspec": {
      "name": "python3",
      "display_name": "Python 3"
    },
    "language_info": {
      "name": "python"
    }
  },
  "cells": [
    {
      "cell_type": "markdown",
      "metadata": {
        "id": "view-in-github",
        "colab_type": "text"
      },
      "source": [
        "<a href=\"https://colab.research.google.com/github/wilmi94/MasterThesis-AE/blob/main/notebooks/sdo_bin_class.ipynb\" target=\"_parent\"><img src=\"https://colab.research.google.com/assets/colab-badge.svg\" alt=\"Open In Colab\"/></a>"
      ]
    },
    {
      "cell_type": "markdown",
      "source": [
        "# Binary Classification of full-disk SDO/AIA Data\n",
        "\n",
        "> This notebook is part of the Master Thesis *Predicting Coronal Mass Ejections using Machine Learning methods* by Wilmar Ender, FH Wiener Neustadt, 2023.\n",
        "\n",
        "This notebook is part of the Data Exploration phase (section 4.3 in thesis) and aims to apply a simple binary image classifier on the used SDO/AIA dataset.\n",
        "\n",
        "**Objectives:** \\\\\n",
        "* perform data exploration and getting used to the dataset\n",
        "* develop helper functions and code for subsequent prediction model\n",
        "* test and apply \"simple\" binary classification models\n",
        "* evaluate the models to get a baseline in terms of performance.\n",
        "\n",
        "**Solar event list:** \\\\\n",
        "The solar event list is taken from the following paper: \\\\\n",
        "*Liu et al. 2020, Predicting Coronal Mass Ejections Using SDO/HMI Vector Magnetic Data Products and Recurrent Neural Networks* \\\\\n",
        "This list/catalog conists of:\n",
        "* 129 M- and X-class Flares that are associated with CMEs and\n",
        "* 610 M- and X-class Flares that are **not** associated with CMEs.\n",
        "\n",
        "**Image Dataset:** \\\\\n",
        "The used Image Data is taken from the following paper: \\\\\n",
        "*Ahmadzadeh et al. 2019, A Curated Image Parameter Data Set from the Solar Dynamics Observatory Mission*. \\\\\n",
        "The data iself is accessed via the so-called *sdo-cli* (https://github.com/i4Ds/sdo-cli) developed by Marius Giger.\n"
      ],
      "metadata": {
        "id": "5nfY5_PU_sVH"
      }
    },
    {
      "cell_type": "markdown",
      "source": [
        "## Setting up the Notebook"
      ],
      "metadata": {
        "id": "LJ5-f3ql1QwX"
      }
    },
    {
      "cell_type": "code",
      "source": [
        "%%capture\n",
        "pip install -U sdo-cli"
      ],
      "metadata": {
        "id": "-BBPtXTaAHYr"
      },
      "execution_count": 3,
      "outputs": []
    },
    {
      "cell_type": "code",
      "execution_count": 4,
      "metadata": {
        "id": "ejAe2B7M_lX6"
      },
      "outputs": [],
      "source": [
        "from pathlib import Path\n",
        "import os\n",
        "import requests\n",
        "import subprocess\n",
        "import shutil\n",
        "import random\n",
        "\n",
        "import numpy as np\n",
        "import pandas as pd\n",
        "from PIL import Image\n",
        "import matplotlib.pyplot as plt\n",
        "import matplotlib.image as mpimg\n",
        "\n",
        "import keras\n",
        "import tensorflow as tf\n",
        "from tensorflow.keras.preprocessing.image import ImageDataGenerator\n",
        "from tensorflow.keras.models import Sequential\n",
        "from tensorflow.keras.layers import Conv2D, MaxPooling2D, Flatten, Dense, Dropout, BatchNormalization\n",
        "from tensorflow.keras.applications import VGG16\n",
        "from keras.layers import Activation, Dropout, Flatten, Conv2D, MaxPooling2D, Dense\n",
        "from keras.applications.inception_resnet_v2 import InceptionResNetV2\n",
        "from keras.layers import Input, GlobalAveragePooling2D"
      ]
    },
    {
      "cell_type": "code",
      "source": [
        "# mount Google drive\n",
        "from google.colab import drive\n",
        "drive.mount('/content/drive')"
      ],
      "metadata": {
        "colab": {
          "base_uri": "https://localhost:8080/"
        },
        "id": "S-8USKsHAJtT",
        "outputId": "82e75263-5ba0-4150-c57e-4b794ef534e1"
      },
      "execution_count": 5,
      "outputs": [
        {
          "output_type": "stream",
          "name": "stdout",
          "text": [
            "Mounted at /content/drive\n"
          ]
        }
      ]
    },
    {
      "cell_type": "code",
      "source": [
        "# Change present working directory\n",
        "%cd /content/drive/MyDrive/Academia/MSc. Aerospace Engineering - FH Wiener Neustadt/4. Master Thesis/03-Work/"
      ],
      "metadata": {
        "colab": {
          "base_uri": "https://localhost:8080/"
        },
        "id": "wyW6oXg1AMNr",
        "outputId": "15c884c6-52dc-400a-833a-53468cdd0f7f"
      },
      "execution_count": 6,
      "outputs": [
        {
          "output_type": "stream",
          "name": "stdout",
          "text": [
            "/content/drive/MyDrive/Academia/MSc. Aerospace Engineering - FH Wiener Neustadt/4. Master Thesis/03-Work\n"
          ]
        }
      ]
    },
    {
      "cell_type": "code",
      "source": [
        "!ls -a"
      ],
      "metadata": {
        "colab": {
          "base_uri": "https://localhost:8080/"
        },
        "id": "NMzwC45J53YJ",
        "outputId": "e17808d0-dbef-4a86-c257-601d6ef14a98"
      },
      "execution_count": 7,
      "outputs": [
        {
          "output_type": "stream",
          "name": "stdout",
          "text": [
            " 00_Dataset\t\t   03_sdo_ConvLSTM\t\t\t      .sdo-cli\n",
            " 01_sdo_data_exploration   04_Tests\n",
            " 02_sdo_binclass\t  'Master Thesis-ML-Project-Checklist.gdoc'\n"
          ]
        }
      ]
    },
    {
      "cell_type": "markdown",
      "source": [
        "## Helper Functions"
      ],
      "metadata": {
        "id": "j2yYMdZt1Utp"
      }
    },
    {
      "cell_type": "code",
      "source": [
        "def create_sdo_aia_dataset(output_dir, start_idx, event_list, dt, wavelength ):\n",
        "  '''\n",
        "  download with the help of sdo-cli AIA images wrt. wavelength and time timeinterval\n",
        "  Note: this function can be adjusted such that the start, end time and intervall could be separately adjusted.\n",
        "  input:\n",
        "  output_dir = as a string where the images should be saved (repository path)\n",
        "  eventlist  = dataframe which provides CME data like start, peak and end time\n",
        "  start_idx  = from where the query should start\n",
        "  dt         = string, time step between images (if possible), e.g. '6min'\n",
        "  wavelength = string, corresponing wavelegth channel of AIA e.g. '171' for 171 Angström channel\n",
        "\n",
        "  output:\n",
        "  images (51x512) within folder output_dir folder\n",
        "  '''\n",
        "\n",
        "  for idx in range(start_idx, event_list.shape[0]):\n",
        "    start_time = event_list['Peak Time'][idx]\n",
        "    end_time = start_time\n",
        "    command = f\"sdo-cli data download --path={output_dir} --start={start_time} --end={end_time} --freq={dt} --wavelength={wavelength}\"\n",
        "    subprocess.call(command, shell=True)\n",
        "    print(\"\\r\", idx, ': downloading CME from ', start_time, end=\"\")"
      ],
      "metadata": {
        "id": "JqwpW-Hg1W7u"
      },
      "execution_count": 53,
      "outputs": []
    },
    {
      "cell_type": "code",
      "source": [
        "def compare_filenames_with_dataframe(directory, dataframe, wavelength):\n",
        "  '''\n",
        "  compare the filenames within a folder with a provided list.\n",
        "\n",
        "  input:\n",
        "  directory  = string where the images are saved (repository path)\n",
        "  dataframe  = a dataframe where the events/images are stored\n",
        "  wavelength = wavelength challel (only for filename neccessary)\n",
        "\n",
        "  output:\n",
        "  statistics = a dictionary where statistical data is stored\n",
        "  df_missing = a dataframe with all the missing images\n",
        "  '''\n",
        "\n",
        "\n",
        "  file_end = '_' + str(wavelength) + '.jpeg'\n",
        "  # Get list of filenames from the directory\n",
        "  directory_filenames = [filename for filename in os.listdir(directory) if filename.endswith(file_end)]\n",
        "\n",
        "  # Get list of names from the DataFrame\n",
        "  df_check = dataframe.copy()\n",
        "  df_check['Peak Time'] = pd.to_datetime(df_check['Peak Time']).dt.strftime('%Y-%m-%dT%H%M%S__171.jpeg') # Warning! wavelength is now hard coded\n",
        "\n",
        "  dataframe_names = df_check['Peak Time'].tolist()  # the name of the image should correspond to the timestamp\n",
        "\n",
        "  # Compare filenames\n",
        "  common_filenames = set(directory_filenames) & set(dataframe_names)\n",
        "  missing_filenames = set(dataframe_names) - set(directory_filenames)\n",
        "  extra_filenames = set(directory_filenames) - set(dataframe_names)\n",
        "\n",
        "  df_missing = pd.DataFrame (data = missing_filenames,  columns=['Peak Time'])\n",
        "  df_missing['Peak Time'] = df_missing['Peak Time'].str.replace(r'__171.jpeg', '', regex=True)\n",
        "  df_missing['Peak Time'] = pd.to_datetime(df_missing['Peak Time']).dt.strftime('%Y-%m-%dT%H:%M:%S')\n",
        "\n",
        "  # Calculate statistics\n",
        "  total_directory_files = len(directory_filenames)\n",
        "  total_dataframe_names = len(dataframe_names)\n",
        "  total_common_files = len(common_filenames)\n",
        "  total_missing_files = len(missing_filenames)\n",
        "  total_extra_files = len(extra_filenames)\n",
        "  print('Total Directory Files: ', total_directory_files)\n",
        "  print('Total DataFrame Names: ', total_dataframe_names)\n",
        "  print('Common Files: ', total_common_files)\n",
        "  print('Missing Files: ', total_missing_files)\n",
        "  print('Extra Files: ', total_extra_files)\n",
        "\n",
        "  statistics = {\n",
        "      'Total Directory Files': total_directory_files,\n",
        "      'Total DataFrame Names': total_dataframe_names,\n",
        "      'Common Files': total_common_files,\n",
        "      'Missing Files': total_missing_files,\n",
        "      'Extra Files': total_extra_files,\n",
        "      #'Common File Names': common_filenames,\n",
        "      'Missing File Names': missing_filenames,\n",
        "      'Extra File Names': extra_filenames\n",
        "  }\n",
        "\n",
        "  return statistics, df_missing"
      ],
      "metadata": {
        "id": "P8AQCNvi1bT-"
      },
      "execution_count": 72,
      "outputs": []
    },
    {
      "cell_type": "markdown",
      "source": [
        "## Get Solar Events\n",
        "\n",
        "The following lists (stored as a .csv file) from *Liu et al. 2020* holds all the events (129) and non-events (610) presented in the study. \\\\\n",
        "First, the csv file is imported and stored as a pandas dataframe.\n"
      ],
      "metadata": {
        "id": "2vS2fXGbRau-"
      }
    },
    {
      "cell_type": "code",
      "source": [
        "# load list with both (neg, pos) labels\n",
        "df_events = pd.read_csv(r'00_Dataset/event_lists/all_cme_events.csv', delimiter =';')\n",
        "# show numer of events and display the first twelfe samples\n",
        "print('There are', df_events.shape[0], 'events stored in the list.\\n')\n",
        "df_events.head(12)"
      ],
      "metadata": {
        "id": "0Ya_vLoMRlWS",
        "colab": {
          "base_uri": "https://localhost:8080/",
          "height": 460
        },
        "outputId": "3ff1ec06-d009-43b2-83f7-06b2d799c5e4"
      },
      "execution_count": 45,
      "outputs": [
        {
          "output_type": "stream",
          "name": "stdout",
          "text": [
            "There are 739 events stored in the list.\n",
            "\n"
          ]
        },
        {
          "output_type": "execute_result",
          "data": {
            "text/plain": [
              "   Flare Class         Start Time          Peak Time           End Time  \\\n",
              "0         M1.2  2010-05-05T17:13Z  2010-05-05T17:19Z  2010-05-05T17:22Z   \n",
              "1         M1.0  2010-06-13T05:30Z  2010-06-13T05:39Z  2010-06-13T05:44Z   \n",
              "2         M2.0  2010-06-12T00:30Z  2010-06-12T00:57Z  2010-06-12T01:02Z   \n",
              "3         M1.0  2010-08-07T17:55Z  2010-08-07T18:24Z  2010-08-07T18:47Z   \n",
              "4         M2.9  2010-10-16T19:07Z  2010-10-16T19:12Z  2010-10-16T19:15Z   \n",
              "5         M5.4  2010-11-06T15:27Z  2010-11-06T15:36Z  2010-11-06T15:44Z   \n",
              "6         M1.6  2010-11-04T23:30Z  2010-11-04T23:58Z  2010-11-05T00:12Z   \n",
              "7         M1.0  2010-11-05T12:43Z  2010-11-05T13:29Z  2010-11-05T14:06Z   \n",
              "8         M1.3  2011-01-28T00:44Z  2011-01-28T01:03Z  2011-01-28T01:10Z   \n",
              "9         M1.9  2011-02-09T01:23Z  2011-02-09T01:31Z  2011-02-09T01:35Z   \n",
              "10        X2.2  2011-02-15T01:44Z  2011-02-15T01:56Z  2011-02-15T02:06Z   \n",
              "11        M6.6  2011-02-13T17:28Z  2011-02-13T17:38Z  2011-02-13T17:47Z   \n",
              "\n",
              "    Active Region Number  Harp Number                          CME  \n",
              "0                  11069            8                           No  \n",
              "1                  11079           49                           No  \n",
              "2                  11081           54                           No  \n",
              "3                  11093          115                           No  \n",
              "4                  11112          211                           No  \n",
              "5                  11121          245                           No  \n",
              "6                  11121          245                           No  \n",
              "7                  11121          245                           No  \n",
              "8                  11149          345                           No  \n",
              "9                  11153          362                           No  \n",
              "10                 11158          377  2011-02-15T02:25:00-CME-001  \n",
              "11                 11158          377                           No  "
            ],
            "text/html": [
              "\n",
              "  <div id=\"df-6757d5a7-560c-463f-924f-6a47fa33029b\" class=\"colab-df-container\">\n",
              "    <div>\n",
              "<style scoped>\n",
              "    .dataframe tbody tr th:only-of-type {\n",
              "        vertical-align: middle;\n",
              "    }\n",
              "\n",
              "    .dataframe tbody tr th {\n",
              "        vertical-align: top;\n",
              "    }\n",
              "\n",
              "    .dataframe thead th {\n",
              "        text-align: right;\n",
              "    }\n",
              "</style>\n",
              "<table border=\"1\" class=\"dataframe\">\n",
              "  <thead>\n",
              "    <tr style=\"text-align: right;\">\n",
              "      <th></th>\n",
              "      <th>Flare Class</th>\n",
              "      <th>Start Time</th>\n",
              "      <th>Peak Time</th>\n",
              "      <th>End Time</th>\n",
              "      <th>Active Region Number</th>\n",
              "      <th>Harp Number</th>\n",
              "      <th>CME</th>\n",
              "    </tr>\n",
              "  </thead>\n",
              "  <tbody>\n",
              "    <tr>\n",
              "      <th>0</th>\n",
              "      <td>M1.2</td>\n",
              "      <td>2010-05-05T17:13Z</td>\n",
              "      <td>2010-05-05T17:19Z</td>\n",
              "      <td>2010-05-05T17:22Z</td>\n",
              "      <td>11069</td>\n",
              "      <td>8</td>\n",
              "      <td>No</td>\n",
              "    </tr>\n",
              "    <tr>\n",
              "      <th>1</th>\n",
              "      <td>M1.0</td>\n",
              "      <td>2010-06-13T05:30Z</td>\n",
              "      <td>2010-06-13T05:39Z</td>\n",
              "      <td>2010-06-13T05:44Z</td>\n",
              "      <td>11079</td>\n",
              "      <td>49</td>\n",
              "      <td>No</td>\n",
              "    </tr>\n",
              "    <tr>\n",
              "      <th>2</th>\n",
              "      <td>M2.0</td>\n",
              "      <td>2010-06-12T00:30Z</td>\n",
              "      <td>2010-06-12T00:57Z</td>\n",
              "      <td>2010-06-12T01:02Z</td>\n",
              "      <td>11081</td>\n",
              "      <td>54</td>\n",
              "      <td>No</td>\n",
              "    </tr>\n",
              "    <tr>\n",
              "      <th>3</th>\n",
              "      <td>M1.0</td>\n",
              "      <td>2010-08-07T17:55Z</td>\n",
              "      <td>2010-08-07T18:24Z</td>\n",
              "      <td>2010-08-07T18:47Z</td>\n",
              "      <td>11093</td>\n",
              "      <td>115</td>\n",
              "      <td>No</td>\n",
              "    </tr>\n",
              "    <tr>\n",
              "      <th>4</th>\n",
              "      <td>M2.9</td>\n",
              "      <td>2010-10-16T19:07Z</td>\n",
              "      <td>2010-10-16T19:12Z</td>\n",
              "      <td>2010-10-16T19:15Z</td>\n",
              "      <td>11112</td>\n",
              "      <td>211</td>\n",
              "      <td>No</td>\n",
              "    </tr>\n",
              "    <tr>\n",
              "      <th>5</th>\n",
              "      <td>M5.4</td>\n",
              "      <td>2010-11-06T15:27Z</td>\n",
              "      <td>2010-11-06T15:36Z</td>\n",
              "      <td>2010-11-06T15:44Z</td>\n",
              "      <td>11121</td>\n",
              "      <td>245</td>\n",
              "      <td>No</td>\n",
              "    </tr>\n",
              "    <tr>\n",
              "      <th>6</th>\n",
              "      <td>M1.6</td>\n",
              "      <td>2010-11-04T23:30Z</td>\n",
              "      <td>2010-11-04T23:58Z</td>\n",
              "      <td>2010-11-05T00:12Z</td>\n",
              "      <td>11121</td>\n",
              "      <td>245</td>\n",
              "      <td>No</td>\n",
              "    </tr>\n",
              "    <tr>\n",
              "      <th>7</th>\n",
              "      <td>M1.0</td>\n",
              "      <td>2010-11-05T12:43Z</td>\n",
              "      <td>2010-11-05T13:29Z</td>\n",
              "      <td>2010-11-05T14:06Z</td>\n",
              "      <td>11121</td>\n",
              "      <td>245</td>\n",
              "      <td>No</td>\n",
              "    </tr>\n",
              "    <tr>\n",
              "      <th>8</th>\n",
              "      <td>M1.3</td>\n",
              "      <td>2011-01-28T00:44Z</td>\n",
              "      <td>2011-01-28T01:03Z</td>\n",
              "      <td>2011-01-28T01:10Z</td>\n",
              "      <td>11149</td>\n",
              "      <td>345</td>\n",
              "      <td>No</td>\n",
              "    </tr>\n",
              "    <tr>\n",
              "      <th>9</th>\n",
              "      <td>M1.9</td>\n",
              "      <td>2011-02-09T01:23Z</td>\n",
              "      <td>2011-02-09T01:31Z</td>\n",
              "      <td>2011-02-09T01:35Z</td>\n",
              "      <td>11153</td>\n",
              "      <td>362</td>\n",
              "      <td>No</td>\n",
              "    </tr>\n",
              "    <tr>\n",
              "      <th>10</th>\n",
              "      <td>X2.2</td>\n",
              "      <td>2011-02-15T01:44Z</td>\n",
              "      <td>2011-02-15T01:56Z</td>\n",
              "      <td>2011-02-15T02:06Z</td>\n",
              "      <td>11158</td>\n",
              "      <td>377</td>\n",
              "      <td>2011-02-15T02:25:00-CME-001</td>\n",
              "    </tr>\n",
              "    <tr>\n",
              "      <th>11</th>\n",
              "      <td>M6.6</td>\n",
              "      <td>2011-02-13T17:28Z</td>\n",
              "      <td>2011-02-13T17:38Z</td>\n",
              "      <td>2011-02-13T17:47Z</td>\n",
              "      <td>11158</td>\n",
              "      <td>377</td>\n",
              "      <td>No</td>\n",
              "    </tr>\n",
              "  </tbody>\n",
              "</table>\n",
              "</div>\n",
              "    <div class=\"colab-df-buttons\">\n",
              "\n",
              "  <div class=\"colab-df-container\">\n",
              "    <button class=\"colab-df-convert\" onclick=\"convertToInteractive('df-6757d5a7-560c-463f-924f-6a47fa33029b')\"\n",
              "            title=\"Convert this dataframe to an interactive table.\"\n",
              "            style=\"display:none;\">\n",
              "\n",
              "  <svg xmlns=\"http://www.w3.org/2000/svg\" height=\"24px\" viewBox=\"0 -960 960 960\">\n",
              "    <path d=\"M120-120v-720h720v720H120Zm60-500h600v-160H180v160Zm220 220h160v-160H400v160Zm0 220h160v-160H400v160ZM180-400h160v-160H180v160Zm440 0h160v-160H620v160ZM180-180h160v-160H180v160Zm440 0h160v-160H620v160Z\"/>\n",
              "  </svg>\n",
              "    </button>\n",
              "\n",
              "  <style>\n",
              "    .colab-df-container {\n",
              "      display:flex;\n",
              "      gap: 12px;\n",
              "    }\n",
              "\n",
              "    .colab-df-convert {\n",
              "      background-color: #E8F0FE;\n",
              "      border: none;\n",
              "      border-radius: 50%;\n",
              "      cursor: pointer;\n",
              "      display: none;\n",
              "      fill: #1967D2;\n",
              "      height: 32px;\n",
              "      padding: 0 0 0 0;\n",
              "      width: 32px;\n",
              "    }\n",
              "\n",
              "    .colab-df-convert:hover {\n",
              "      background-color: #E2EBFA;\n",
              "      box-shadow: 0px 1px 2px rgba(60, 64, 67, 0.3), 0px 1px 3px 1px rgba(60, 64, 67, 0.15);\n",
              "      fill: #174EA6;\n",
              "    }\n",
              "\n",
              "    .colab-df-buttons div {\n",
              "      margin-bottom: 4px;\n",
              "    }\n",
              "\n",
              "    [theme=dark] .colab-df-convert {\n",
              "      background-color: #3B4455;\n",
              "      fill: #D2E3FC;\n",
              "    }\n",
              "\n",
              "    [theme=dark] .colab-df-convert:hover {\n",
              "      background-color: #434B5C;\n",
              "      box-shadow: 0px 1px 3px 1px rgba(0, 0, 0, 0.15);\n",
              "      filter: drop-shadow(0px 1px 2px rgba(0, 0, 0, 0.3));\n",
              "      fill: #FFFFFF;\n",
              "    }\n",
              "  </style>\n",
              "\n",
              "    <script>\n",
              "      const buttonEl =\n",
              "        document.querySelector('#df-6757d5a7-560c-463f-924f-6a47fa33029b button.colab-df-convert');\n",
              "      buttonEl.style.display =\n",
              "        google.colab.kernel.accessAllowed ? 'block' : 'none';\n",
              "\n",
              "      async function convertToInteractive(key) {\n",
              "        const element = document.querySelector('#df-6757d5a7-560c-463f-924f-6a47fa33029b');\n",
              "        const dataTable =\n",
              "          await google.colab.kernel.invokeFunction('convertToInteractive',\n",
              "                                                    [key], {});\n",
              "        if (!dataTable) return;\n",
              "\n",
              "        const docLinkHtml = 'Like what you see? Visit the ' +\n",
              "          '<a target=\"_blank\" href=https://colab.research.google.com/notebooks/data_table.ipynb>data table notebook</a>'\n",
              "          + ' to learn more about interactive tables.';\n",
              "        element.innerHTML = '';\n",
              "        dataTable['output_type'] = 'display_data';\n",
              "        await google.colab.output.renderOutput(dataTable, element);\n",
              "        const docLink = document.createElement('div');\n",
              "        docLink.innerHTML = docLinkHtml;\n",
              "        element.appendChild(docLink);\n",
              "      }\n",
              "    </script>\n",
              "  </div>\n",
              "\n",
              "\n",
              "<div id=\"df-4d4de7f3-0f75-4cbd-8d71-631007069740\">\n",
              "  <button class=\"colab-df-quickchart\" onclick=\"quickchart('df-4d4de7f3-0f75-4cbd-8d71-631007069740')\"\n",
              "            title=\"Suggest charts.\"\n",
              "            style=\"display:none;\">\n",
              "\n",
              "<svg xmlns=\"http://www.w3.org/2000/svg\" height=\"24px\"viewBox=\"0 0 24 24\"\n",
              "     width=\"24px\">\n",
              "    <g>\n",
              "        <path d=\"M19 3H5c-1.1 0-2 .9-2 2v14c0 1.1.9 2 2 2h14c1.1 0 2-.9 2-2V5c0-1.1-.9-2-2-2zM9 17H7v-7h2v7zm4 0h-2V7h2v10zm4 0h-2v-4h2v4z\"/>\n",
              "    </g>\n",
              "</svg>\n",
              "  </button>\n",
              "\n",
              "<style>\n",
              "  .colab-df-quickchart {\n",
              "    background-color: #E8F0FE;\n",
              "    border: none;\n",
              "    border-radius: 50%;\n",
              "    cursor: pointer;\n",
              "    display: none;\n",
              "    fill: #1967D2;\n",
              "    height: 32px;\n",
              "    padding: 0 0 0 0;\n",
              "    width: 32px;\n",
              "  }\n",
              "\n",
              "  .colab-df-quickchart:hover {\n",
              "    background-color: #E2EBFA;\n",
              "    box-shadow: 0px 1px 2px rgba(60, 64, 67, 0.3), 0px 1px 3px 1px rgba(60, 64, 67, 0.15);\n",
              "    fill: #174EA6;\n",
              "  }\n",
              "\n",
              "  [theme=dark] .colab-df-quickchart {\n",
              "    background-color: #3B4455;\n",
              "    fill: #D2E3FC;\n",
              "  }\n",
              "\n",
              "  [theme=dark] .colab-df-quickchart:hover {\n",
              "    background-color: #434B5C;\n",
              "    box-shadow: 0px 1px 3px 1px rgba(0, 0, 0, 0.15);\n",
              "    filter: drop-shadow(0px 1px 2px rgba(0, 0, 0, 0.3));\n",
              "    fill: #FFFFFF;\n",
              "  }\n",
              "</style>\n",
              "\n",
              "  <script>\n",
              "    async function quickchart(key) {\n",
              "      const charts = await google.colab.kernel.invokeFunction(\n",
              "          'suggestCharts', [key], {});\n",
              "    }\n",
              "    (() => {\n",
              "      let quickchartButtonEl =\n",
              "        document.querySelector('#df-4d4de7f3-0f75-4cbd-8d71-631007069740 button');\n",
              "      quickchartButtonEl.style.display =\n",
              "        google.colab.kernel.accessAllowed ? 'block' : 'none';\n",
              "    })();\n",
              "  </script>\n",
              "</div>\n",
              "    </div>\n",
              "  </div>\n"
            ]
          },
          "metadata": {},
          "execution_count": 45
        }
      ]
    },
    {
      "cell_type": "markdown",
      "source": [
        "As one can see, the list shows the Flare Class, the Start-, Peak- and End-Time and where the Event happed in terms of an Active Region and Harp Number. The last column labels the event as `No`, for a Flare event which was not associated to a CME or otherwise a time stamp (e.g. `2011-02-15T02:25:00-CME-001`) of the associated subsequent CME event."
      ],
      "metadata": {
        "id": "vfod_rHmLaUt"
      }
    },
    {
      "cell_type": "markdown",
      "source": [
        "### Extract CME Events from the list\n",
        "\n",
        "Extract all CME events form `df_events` and store them in a new dataframe called `df_cme_list`:\n",
        "\n",
        "\n",
        "\n"
      ],
      "metadata": {
        "id": "IR88qCU7IeGv"
      }
    },
    {
      "cell_type": "code",
      "source": [
        "# store only cme events\n",
        "df_cme_list = df_events.loc[df_events['CME'] != 'No']\n",
        "# reindex the list\n",
        "df_cme_list = df_cme_list.reset_index(drop=True)\n",
        "# show numer of events and display the first five samples\n",
        "print('There are', df_cme_list.shape[0], 'CME events in the list.\\n')\n",
        "df_cme_list.head()"
      ],
      "metadata": {
        "colab": {
          "base_uri": "https://localhost:8080/",
          "height": 241
        },
        "id": "BCJQrNTDAtMz",
        "outputId": "5d544234-a76c-413d-c8fe-ff84839f8954"
      },
      "execution_count": 42,
      "outputs": [
        {
          "output_type": "stream",
          "name": "stdout",
          "text": [
            "There are 129 CME events in the list.\n",
            "\n"
          ]
        },
        {
          "output_type": "execute_result",
          "data": {
            "text/plain": [
              "  Flare Class         Start Time          Peak Time           End Time  \\\n",
              "0        X2.2  2011-02-15T01:44Z  2011-02-15T01:56Z  2011-02-15T02:06Z   \n",
              "1        M3.5  2011-02-24T07:23Z  2011-02-24T07:35Z  2011-02-24T07:42Z   \n",
              "2        M3.7  2011-03-07T19:43Z  2011-03-07T20:12Z  2011-03-07T20:58Z   \n",
              "3        M2.0  2011-03-07T13:45Z  2011-03-07T14:30Z  2011-03-07T14:56Z   \n",
              "4        M1.5  2011-03-08T03:37Z  2011-03-08T03:58Z  2011-03-08T04:20Z   \n",
              "\n",
              "   Active Region Number  Harp Number                          CME  \n",
              "0                 11158          377  2011-02-15T02:25:00-CME-001  \n",
              "1                 11163          392  2011-02-24T08:00:00-CME-001  \n",
              "2                 11164          393  2011-03-07T20:12:00-CME-001  \n",
              "3                 11166          401  2011-03-07T14:40:00-CME-001  \n",
              "4                 11171          415  2011-03-08T05:00:00-CME-001  "
            ],
            "text/html": [
              "\n",
              "  <div id=\"df-dc87e1b4-c41b-46ec-97bf-fc882726b4c8\" class=\"colab-df-container\">\n",
              "    <div>\n",
              "<style scoped>\n",
              "    .dataframe tbody tr th:only-of-type {\n",
              "        vertical-align: middle;\n",
              "    }\n",
              "\n",
              "    .dataframe tbody tr th {\n",
              "        vertical-align: top;\n",
              "    }\n",
              "\n",
              "    .dataframe thead th {\n",
              "        text-align: right;\n",
              "    }\n",
              "</style>\n",
              "<table border=\"1\" class=\"dataframe\">\n",
              "  <thead>\n",
              "    <tr style=\"text-align: right;\">\n",
              "      <th></th>\n",
              "      <th>Flare Class</th>\n",
              "      <th>Start Time</th>\n",
              "      <th>Peak Time</th>\n",
              "      <th>End Time</th>\n",
              "      <th>Active Region Number</th>\n",
              "      <th>Harp Number</th>\n",
              "      <th>CME</th>\n",
              "    </tr>\n",
              "  </thead>\n",
              "  <tbody>\n",
              "    <tr>\n",
              "      <th>0</th>\n",
              "      <td>X2.2</td>\n",
              "      <td>2011-02-15T01:44Z</td>\n",
              "      <td>2011-02-15T01:56Z</td>\n",
              "      <td>2011-02-15T02:06Z</td>\n",
              "      <td>11158</td>\n",
              "      <td>377</td>\n",
              "      <td>2011-02-15T02:25:00-CME-001</td>\n",
              "    </tr>\n",
              "    <tr>\n",
              "      <th>1</th>\n",
              "      <td>M3.5</td>\n",
              "      <td>2011-02-24T07:23Z</td>\n",
              "      <td>2011-02-24T07:35Z</td>\n",
              "      <td>2011-02-24T07:42Z</td>\n",
              "      <td>11163</td>\n",
              "      <td>392</td>\n",
              "      <td>2011-02-24T08:00:00-CME-001</td>\n",
              "    </tr>\n",
              "    <tr>\n",
              "      <th>2</th>\n",
              "      <td>M3.7</td>\n",
              "      <td>2011-03-07T19:43Z</td>\n",
              "      <td>2011-03-07T20:12Z</td>\n",
              "      <td>2011-03-07T20:58Z</td>\n",
              "      <td>11164</td>\n",
              "      <td>393</td>\n",
              "      <td>2011-03-07T20:12:00-CME-001</td>\n",
              "    </tr>\n",
              "    <tr>\n",
              "      <th>3</th>\n",
              "      <td>M2.0</td>\n",
              "      <td>2011-03-07T13:45Z</td>\n",
              "      <td>2011-03-07T14:30Z</td>\n",
              "      <td>2011-03-07T14:56Z</td>\n",
              "      <td>11166</td>\n",
              "      <td>401</td>\n",
              "      <td>2011-03-07T14:40:00-CME-001</td>\n",
              "    </tr>\n",
              "    <tr>\n",
              "      <th>4</th>\n",
              "      <td>M1.5</td>\n",
              "      <td>2011-03-08T03:37Z</td>\n",
              "      <td>2011-03-08T03:58Z</td>\n",
              "      <td>2011-03-08T04:20Z</td>\n",
              "      <td>11171</td>\n",
              "      <td>415</td>\n",
              "      <td>2011-03-08T05:00:00-CME-001</td>\n",
              "    </tr>\n",
              "  </tbody>\n",
              "</table>\n",
              "</div>\n",
              "    <div class=\"colab-df-buttons\">\n",
              "\n",
              "  <div class=\"colab-df-container\">\n",
              "    <button class=\"colab-df-convert\" onclick=\"convertToInteractive('df-dc87e1b4-c41b-46ec-97bf-fc882726b4c8')\"\n",
              "            title=\"Convert this dataframe to an interactive table.\"\n",
              "            style=\"display:none;\">\n",
              "\n",
              "  <svg xmlns=\"http://www.w3.org/2000/svg\" height=\"24px\" viewBox=\"0 -960 960 960\">\n",
              "    <path d=\"M120-120v-720h720v720H120Zm60-500h600v-160H180v160Zm220 220h160v-160H400v160Zm0 220h160v-160H400v160ZM180-400h160v-160H180v160Zm440 0h160v-160H620v160ZM180-180h160v-160H180v160Zm440 0h160v-160H620v160Z\"/>\n",
              "  </svg>\n",
              "    </button>\n",
              "\n",
              "  <style>\n",
              "    .colab-df-container {\n",
              "      display:flex;\n",
              "      gap: 12px;\n",
              "    }\n",
              "\n",
              "    .colab-df-convert {\n",
              "      background-color: #E8F0FE;\n",
              "      border: none;\n",
              "      border-radius: 50%;\n",
              "      cursor: pointer;\n",
              "      display: none;\n",
              "      fill: #1967D2;\n",
              "      height: 32px;\n",
              "      padding: 0 0 0 0;\n",
              "      width: 32px;\n",
              "    }\n",
              "\n",
              "    .colab-df-convert:hover {\n",
              "      background-color: #E2EBFA;\n",
              "      box-shadow: 0px 1px 2px rgba(60, 64, 67, 0.3), 0px 1px 3px 1px rgba(60, 64, 67, 0.15);\n",
              "      fill: #174EA6;\n",
              "    }\n",
              "\n",
              "    .colab-df-buttons div {\n",
              "      margin-bottom: 4px;\n",
              "    }\n",
              "\n",
              "    [theme=dark] .colab-df-convert {\n",
              "      background-color: #3B4455;\n",
              "      fill: #D2E3FC;\n",
              "    }\n",
              "\n",
              "    [theme=dark] .colab-df-convert:hover {\n",
              "      background-color: #434B5C;\n",
              "      box-shadow: 0px 1px 3px 1px rgba(0, 0, 0, 0.15);\n",
              "      filter: drop-shadow(0px 1px 2px rgba(0, 0, 0, 0.3));\n",
              "      fill: #FFFFFF;\n",
              "    }\n",
              "  </style>\n",
              "\n",
              "    <script>\n",
              "      const buttonEl =\n",
              "        document.querySelector('#df-dc87e1b4-c41b-46ec-97bf-fc882726b4c8 button.colab-df-convert');\n",
              "      buttonEl.style.display =\n",
              "        google.colab.kernel.accessAllowed ? 'block' : 'none';\n",
              "\n",
              "      async function convertToInteractive(key) {\n",
              "        const element = document.querySelector('#df-dc87e1b4-c41b-46ec-97bf-fc882726b4c8');\n",
              "        const dataTable =\n",
              "          await google.colab.kernel.invokeFunction('convertToInteractive',\n",
              "                                                    [key], {});\n",
              "        if (!dataTable) return;\n",
              "\n",
              "        const docLinkHtml = 'Like what you see? Visit the ' +\n",
              "          '<a target=\"_blank\" href=https://colab.research.google.com/notebooks/data_table.ipynb>data table notebook</a>'\n",
              "          + ' to learn more about interactive tables.';\n",
              "        element.innerHTML = '';\n",
              "        dataTable['output_type'] = 'display_data';\n",
              "        await google.colab.output.renderOutput(dataTable, element);\n",
              "        const docLink = document.createElement('div');\n",
              "        docLink.innerHTML = docLinkHtml;\n",
              "        element.appendChild(docLink);\n",
              "      }\n",
              "    </script>\n",
              "  </div>\n",
              "\n",
              "\n",
              "<div id=\"df-5ee131c2-68b9-49fe-b7a9-91c04ded7dd9\">\n",
              "  <button class=\"colab-df-quickchart\" onclick=\"quickchart('df-5ee131c2-68b9-49fe-b7a9-91c04ded7dd9')\"\n",
              "            title=\"Suggest charts.\"\n",
              "            style=\"display:none;\">\n",
              "\n",
              "<svg xmlns=\"http://www.w3.org/2000/svg\" height=\"24px\"viewBox=\"0 0 24 24\"\n",
              "     width=\"24px\">\n",
              "    <g>\n",
              "        <path d=\"M19 3H5c-1.1 0-2 .9-2 2v14c0 1.1.9 2 2 2h14c1.1 0 2-.9 2-2V5c0-1.1-.9-2-2-2zM9 17H7v-7h2v7zm4 0h-2V7h2v10zm4 0h-2v-4h2v4z\"/>\n",
              "    </g>\n",
              "</svg>\n",
              "  </button>\n",
              "\n",
              "<style>\n",
              "  .colab-df-quickchart {\n",
              "    background-color: #E8F0FE;\n",
              "    border: none;\n",
              "    border-radius: 50%;\n",
              "    cursor: pointer;\n",
              "    display: none;\n",
              "    fill: #1967D2;\n",
              "    height: 32px;\n",
              "    padding: 0 0 0 0;\n",
              "    width: 32px;\n",
              "  }\n",
              "\n",
              "  .colab-df-quickchart:hover {\n",
              "    background-color: #E2EBFA;\n",
              "    box-shadow: 0px 1px 2px rgba(60, 64, 67, 0.3), 0px 1px 3px 1px rgba(60, 64, 67, 0.15);\n",
              "    fill: #174EA6;\n",
              "  }\n",
              "\n",
              "  [theme=dark] .colab-df-quickchart {\n",
              "    background-color: #3B4455;\n",
              "    fill: #D2E3FC;\n",
              "  }\n",
              "\n",
              "  [theme=dark] .colab-df-quickchart:hover {\n",
              "    background-color: #434B5C;\n",
              "    box-shadow: 0px 1px 3px 1px rgba(0, 0, 0, 0.15);\n",
              "    filter: drop-shadow(0px 1px 2px rgba(0, 0, 0, 0.3));\n",
              "    fill: #FFFFFF;\n",
              "  }\n",
              "</style>\n",
              "\n",
              "  <script>\n",
              "    async function quickchart(key) {\n",
              "      const charts = await google.colab.kernel.invokeFunction(\n",
              "          'suggestCharts', [key], {});\n",
              "    }\n",
              "    (() => {\n",
              "      let quickchartButtonEl =\n",
              "        document.querySelector('#df-5ee131c2-68b9-49fe-b7a9-91c04ded7dd9 button');\n",
              "      quickchartButtonEl.style.display =\n",
              "        google.colab.kernel.accessAllowed ? 'block' : 'none';\n",
              "    })();\n",
              "  </script>\n",
              "</div>\n",
              "    </div>\n",
              "  </div>\n"
            ]
          },
          "metadata": {},
          "execution_count": 42
        }
      ]
    },
    {
      "cell_type": "markdown",
      "source": [
        "In the next step, the Times (start, end and peak) have to be converted into a ` sdo-cli ` readable format:"
      ],
      "metadata": {
        "id": "2Brhhx9T0AFl"
      }
    },
    {
      "cell_type": "code",
      "source": [
        "# convert time stamp such that sdo-cli can read them\n",
        "df_cme_list['Start Time'] = pd.to_datetime(df_cme_list['Start Time']).dt.strftime('%Y-%m-%dT%H:%M:%S')\n",
        "df_cme_list['Peak Time'] = pd.to_datetime(df_cme_list['Peak Time']).dt.strftime('%Y-%m-%dT%H:%M:%S')\n",
        "df_cme_list['End Time'] = pd.to_datetime(df_cme_list['End Time']).dt.strftime('%Y-%m-%dT%H:%M:%S')\n",
        "df_cme_list.head()"
      ],
      "metadata": {
        "colab": {
          "base_uri": "https://localhost:8080/",
          "height": 206
        },
        "id": "C5DFOtvCCQVk",
        "outputId": "0584a032-c604-4af1-808c-8ea49be2f087"
      },
      "execution_count": 43,
      "outputs": [
        {
          "output_type": "execute_result",
          "data": {
            "text/plain": [
              "  Flare Class           Start Time            Peak Time             End Time  \\\n",
              "0        X2.2  2011-02-15T01:44:00  2011-02-15T01:56:00  2011-02-15T02:06:00   \n",
              "1        M3.5  2011-02-24T07:23:00  2011-02-24T07:35:00  2011-02-24T07:42:00   \n",
              "2        M3.7  2011-03-07T19:43:00  2011-03-07T20:12:00  2011-03-07T20:58:00   \n",
              "3        M2.0  2011-03-07T13:45:00  2011-03-07T14:30:00  2011-03-07T14:56:00   \n",
              "4        M1.5  2011-03-08T03:37:00  2011-03-08T03:58:00  2011-03-08T04:20:00   \n",
              "\n",
              "   Active Region Number  Harp Number                          CME  \n",
              "0                 11158          377  2011-02-15T02:25:00-CME-001  \n",
              "1                 11163          392  2011-02-24T08:00:00-CME-001  \n",
              "2                 11164          393  2011-03-07T20:12:00-CME-001  \n",
              "3                 11166          401  2011-03-07T14:40:00-CME-001  \n",
              "4                 11171          415  2011-03-08T05:00:00-CME-001  "
            ],
            "text/html": [
              "\n",
              "  <div id=\"df-912a0fdb-6725-4679-8796-a1f632734bb8\" class=\"colab-df-container\">\n",
              "    <div>\n",
              "<style scoped>\n",
              "    .dataframe tbody tr th:only-of-type {\n",
              "        vertical-align: middle;\n",
              "    }\n",
              "\n",
              "    .dataframe tbody tr th {\n",
              "        vertical-align: top;\n",
              "    }\n",
              "\n",
              "    .dataframe thead th {\n",
              "        text-align: right;\n",
              "    }\n",
              "</style>\n",
              "<table border=\"1\" class=\"dataframe\">\n",
              "  <thead>\n",
              "    <tr style=\"text-align: right;\">\n",
              "      <th></th>\n",
              "      <th>Flare Class</th>\n",
              "      <th>Start Time</th>\n",
              "      <th>Peak Time</th>\n",
              "      <th>End Time</th>\n",
              "      <th>Active Region Number</th>\n",
              "      <th>Harp Number</th>\n",
              "      <th>CME</th>\n",
              "    </tr>\n",
              "  </thead>\n",
              "  <tbody>\n",
              "    <tr>\n",
              "      <th>0</th>\n",
              "      <td>X2.2</td>\n",
              "      <td>2011-02-15T01:44:00</td>\n",
              "      <td>2011-02-15T01:56:00</td>\n",
              "      <td>2011-02-15T02:06:00</td>\n",
              "      <td>11158</td>\n",
              "      <td>377</td>\n",
              "      <td>2011-02-15T02:25:00-CME-001</td>\n",
              "    </tr>\n",
              "    <tr>\n",
              "      <th>1</th>\n",
              "      <td>M3.5</td>\n",
              "      <td>2011-02-24T07:23:00</td>\n",
              "      <td>2011-02-24T07:35:00</td>\n",
              "      <td>2011-02-24T07:42:00</td>\n",
              "      <td>11163</td>\n",
              "      <td>392</td>\n",
              "      <td>2011-02-24T08:00:00-CME-001</td>\n",
              "    </tr>\n",
              "    <tr>\n",
              "      <th>2</th>\n",
              "      <td>M3.7</td>\n",
              "      <td>2011-03-07T19:43:00</td>\n",
              "      <td>2011-03-07T20:12:00</td>\n",
              "      <td>2011-03-07T20:58:00</td>\n",
              "      <td>11164</td>\n",
              "      <td>393</td>\n",
              "      <td>2011-03-07T20:12:00-CME-001</td>\n",
              "    </tr>\n",
              "    <tr>\n",
              "      <th>3</th>\n",
              "      <td>M2.0</td>\n",
              "      <td>2011-03-07T13:45:00</td>\n",
              "      <td>2011-03-07T14:30:00</td>\n",
              "      <td>2011-03-07T14:56:00</td>\n",
              "      <td>11166</td>\n",
              "      <td>401</td>\n",
              "      <td>2011-03-07T14:40:00-CME-001</td>\n",
              "    </tr>\n",
              "    <tr>\n",
              "      <th>4</th>\n",
              "      <td>M1.5</td>\n",
              "      <td>2011-03-08T03:37:00</td>\n",
              "      <td>2011-03-08T03:58:00</td>\n",
              "      <td>2011-03-08T04:20:00</td>\n",
              "      <td>11171</td>\n",
              "      <td>415</td>\n",
              "      <td>2011-03-08T05:00:00-CME-001</td>\n",
              "    </tr>\n",
              "  </tbody>\n",
              "</table>\n",
              "</div>\n",
              "    <div class=\"colab-df-buttons\">\n",
              "\n",
              "  <div class=\"colab-df-container\">\n",
              "    <button class=\"colab-df-convert\" onclick=\"convertToInteractive('df-912a0fdb-6725-4679-8796-a1f632734bb8')\"\n",
              "            title=\"Convert this dataframe to an interactive table.\"\n",
              "            style=\"display:none;\">\n",
              "\n",
              "  <svg xmlns=\"http://www.w3.org/2000/svg\" height=\"24px\" viewBox=\"0 -960 960 960\">\n",
              "    <path d=\"M120-120v-720h720v720H120Zm60-500h600v-160H180v160Zm220 220h160v-160H400v160Zm0 220h160v-160H400v160ZM180-400h160v-160H180v160Zm440 0h160v-160H620v160ZM180-180h160v-160H180v160Zm440 0h160v-160H620v160Z\"/>\n",
              "  </svg>\n",
              "    </button>\n",
              "\n",
              "  <style>\n",
              "    .colab-df-container {\n",
              "      display:flex;\n",
              "      gap: 12px;\n",
              "    }\n",
              "\n",
              "    .colab-df-convert {\n",
              "      background-color: #E8F0FE;\n",
              "      border: none;\n",
              "      border-radius: 50%;\n",
              "      cursor: pointer;\n",
              "      display: none;\n",
              "      fill: #1967D2;\n",
              "      height: 32px;\n",
              "      padding: 0 0 0 0;\n",
              "      width: 32px;\n",
              "    }\n",
              "\n",
              "    .colab-df-convert:hover {\n",
              "      background-color: #E2EBFA;\n",
              "      box-shadow: 0px 1px 2px rgba(60, 64, 67, 0.3), 0px 1px 3px 1px rgba(60, 64, 67, 0.15);\n",
              "      fill: #174EA6;\n",
              "    }\n",
              "\n",
              "    .colab-df-buttons div {\n",
              "      margin-bottom: 4px;\n",
              "    }\n",
              "\n",
              "    [theme=dark] .colab-df-convert {\n",
              "      background-color: #3B4455;\n",
              "      fill: #D2E3FC;\n",
              "    }\n",
              "\n",
              "    [theme=dark] .colab-df-convert:hover {\n",
              "      background-color: #434B5C;\n",
              "      box-shadow: 0px 1px 3px 1px rgba(0, 0, 0, 0.15);\n",
              "      filter: drop-shadow(0px 1px 2px rgba(0, 0, 0, 0.3));\n",
              "      fill: #FFFFFF;\n",
              "    }\n",
              "  </style>\n",
              "\n",
              "    <script>\n",
              "      const buttonEl =\n",
              "        document.querySelector('#df-912a0fdb-6725-4679-8796-a1f632734bb8 button.colab-df-convert');\n",
              "      buttonEl.style.display =\n",
              "        google.colab.kernel.accessAllowed ? 'block' : 'none';\n",
              "\n",
              "      async function convertToInteractive(key) {\n",
              "        const element = document.querySelector('#df-912a0fdb-6725-4679-8796-a1f632734bb8');\n",
              "        const dataTable =\n",
              "          await google.colab.kernel.invokeFunction('convertToInteractive',\n",
              "                                                    [key], {});\n",
              "        if (!dataTable) return;\n",
              "\n",
              "        const docLinkHtml = 'Like what you see? Visit the ' +\n",
              "          '<a target=\"_blank\" href=https://colab.research.google.com/notebooks/data_table.ipynb>data table notebook</a>'\n",
              "          + ' to learn more about interactive tables.';\n",
              "        element.innerHTML = '';\n",
              "        dataTable['output_type'] = 'display_data';\n",
              "        await google.colab.output.renderOutput(dataTable, element);\n",
              "        const docLink = document.createElement('div');\n",
              "        docLink.innerHTML = docLinkHtml;\n",
              "        element.appendChild(docLink);\n",
              "      }\n",
              "    </script>\n",
              "  </div>\n",
              "\n",
              "\n",
              "<div id=\"df-e6990193-933e-4e40-8747-e3d1b9e13a3e\">\n",
              "  <button class=\"colab-df-quickchart\" onclick=\"quickchart('df-e6990193-933e-4e40-8747-e3d1b9e13a3e')\"\n",
              "            title=\"Suggest charts.\"\n",
              "            style=\"display:none;\">\n",
              "\n",
              "<svg xmlns=\"http://www.w3.org/2000/svg\" height=\"24px\"viewBox=\"0 0 24 24\"\n",
              "     width=\"24px\">\n",
              "    <g>\n",
              "        <path d=\"M19 3H5c-1.1 0-2 .9-2 2v14c0 1.1.9 2 2 2h14c1.1 0 2-.9 2-2V5c0-1.1-.9-2-2-2zM9 17H7v-7h2v7zm4 0h-2V7h2v10zm4 0h-2v-4h2v4z\"/>\n",
              "    </g>\n",
              "</svg>\n",
              "  </button>\n",
              "\n",
              "<style>\n",
              "  .colab-df-quickchart {\n",
              "    background-color: #E8F0FE;\n",
              "    border: none;\n",
              "    border-radius: 50%;\n",
              "    cursor: pointer;\n",
              "    display: none;\n",
              "    fill: #1967D2;\n",
              "    height: 32px;\n",
              "    padding: 0 0 0 0;\n",
              "    width: 32px;\n",
              "  }\n",
              "\n",
              "  .colab-df-quickchart:hover {\n",
              "    background-color: #E2EBFA;\n",
              "    box-shadow: 0px 1px 2px rgba(60, 64, 67, 0.3), 0px 1px 3px 1px rgba(60, 64, 67, 0.15);\n",
              "    fill: #174EA6;\n",
              "  }\n",
              "\n",
              "  [theme=dark] .colab-df-quickchart {\n",
              "    background-color: #3B4455;\n",
              "    fill: #D2E3FC;\n",
              "  }\n",
              "\n",
              "  [theme=dark] .colab-df-quickchart:hover {\n",
              "    background-color: #434B5C;\n",
              "    box-shadow: 0px 1px 3px 1px rgba(0, 0, 0, 0.15);\n",
              "    filter: drop-shadow(0px 1px 2px rgba(0, 0, 0, 0.3));\n",
              "    fill: #FFFFFF;\n",
              "  }\n",
              "</style>\n",
              "\n",
              "  <script>\n",
              "    async function quickchart(key) {\n",
              "      const charts = await google.colab.kernel.invokeFunction(\n",
              "          'suggestCharts', [key], {});\n",
              "    }\n",
              "    (() => {\n",
              "      let quickchartButtonEl =\n",
              "        document.querySelector('#df-e6990193-933e-4e40-8747-e3d1b9e13a3e button');\n",
              "      quickchartButtonEl.style.display =\n",
              "        google.colab.kernel.accessAllowed ? 'block' : 'none';\n",
              "    })();\n",
              "  </script>\n",
              "</div>\n",
              "    </div>\n",
              "  </div>\n"
            ]
          },
          "metadata": {},
          "execution_count": 43
        }
      ]
    },
    {
      "cell_type": "markdown",
      "source": [
        "### Extract all non-CME Events from the List\n",
        "The same steps from above have to be done for the non-CME events:"
      ],
      "metadata": {
        "id": "Lv1Ofc3JJjd0"
      }
    },
    {
      "cell_type": "code",
      "source": [
        "# store only non-cme events\n",
        "df_no_cme_list = df_events.loc[df_events['CME'] == 'No']\n",
        "# reindex the list\n",
        "df_no_cme_list = df_no_cme_list.reset_index(drop=True)\n",
        "# convert time stamp such that sdo-cli can read them\n",
        "df_no_cme_list['Start Time'] = pd.to_datetime(df_no_cme_list['Start Time']).dt.strftime('%Y-%m-%dT%H:%M:%S')\n",
        "df_no_cme_list['Peak Time'] = pd.to_datetime(df_no_cme_list['Peak Time']).dt.strftime('%Y-%m-%dT%H:%M:%S')\n",
        "df_no_cme_list['End Time'] = pd.to_datetime(df_no_cme_list['End Time']).dt.strftime('%Y-%m-%dT%H:%M:%S')\n",
        "# show numer of non-events and display the first five samples\n",
        "print('There are', df_no_cme_list.shape[0], 'non-CME events in the list.\\n')\n",
        "df_no_cme_list.head()"
      ],
      "metadata": {
        "id": "koZz60TqJv4p",
        "outputId": "f58155f1-80a2-40d0-d5c3-d9f0535d5ad1",
        "colab": {
          "base_uri": "https://localhost:8080/",
          "height": 241
        }
      },
      "execution_count": 44,
      "outputs": [
        {
          "output_type": "stream",
          "name": "stdout",
          "text": [
            "There are 610 non-CME events in the list.\n",
            "\n"
          ]
        },
        {
          "output_type": "execute_result",
          "data": {
            "text/plain": [
              "  Flare Class           Start Time            Peak Time             End Time  \\\n",
              "0        M1.2  2010-05-05T17:13:00  2010-05-05T17:19:00  2010-05-05T17:22:00   \n",
              "1        M1.0  2010-06-13T05:30:00  2010-06-13T05:39:00  2010-06-13T05:44:00   \n",
              "2        M2.0  2010-06-12T00:30:00  2010-06-12T00:57:00  2010-06-12T01:02:00   \n",
              "3        M1.0  2010-08-07T17:55:00  2010-08-07T18:24:00  2010-08-07T18:47:00   \n",
              "4        M2.9  2010-10-16T19:07:00  2010-10-16T19:12:00  2010-10-16T19:15:00   \n",
              "\n",
              "   Active Region Number  Harp Number CME  \n",
              "0                 11069            8  No  \n",
              "1                 11079           49  No  \n",
              "2                 11081           54  No  \n",
              "3                 11093          115  No  \n",
              "4                 11112          211  No  "
            ],
            "text/html": [
              "\n",
              "  <div id=\"df-85a3c9e7-93d6-4bf5-b572-3b899390f8fa\" class=\"colab-df-container\">\n",
              "    <div>\n",
              "<style scoped>\n",
              "    .dataframe tbody tr th:only-of-type {\n",
              "        vertical-align: middle;\n",
              "    }\n",
              "\n",
              "    .dataframe tbody tr th {\n",
              "        vertical-align: top;\n",
              "    }\n",
              "\n",
              "    .dataframe thead th {\n",
              "        text-align: right;\n",
              "    }\n",
              "</style>\n",
              "<table border=\"1\" class=\"dataframe\">\n",
              "  <thead>\n",
              "    <tr style=\"text-align: right;\">\n",
              "      <th></th>\n",
              "      <th>Flare Class</th>\n",
              "      <th>Start Time</th>\n",
              "      <th>Peak Time</th>\n",
              "      <th>End Time</th>\n",
              "      <th>Active Region Number</th>\n",
              "      <th>Harp Number</th>\n",
              "      <th>CME</th>\n",
              "    </tr>\n",
              "  </thead>\n",
              "  <tbody>\n",
              "    <tr>\n",
              "      <th>0</th>\n",
              "      <td>M1.2</td>\n",
              "      <td>2010-05-05T17:13:00</td>\n",
              "      <td>2010-05-05T17:19:00</td>\n",
              "      <td>2010-05-05T17:22:00</td>\n",
              "      <td>11069</td>\n",
              "      <td>8</td>\n",
              "      <td>No</td>\n",
              "    </tr>\n",
              "    <tr>\n",
              "      <th>1</th>\n",
              "      <td>M1.0</td>\n",
              "      <td>2010-06-13T05:30:00</td>\n",
              "      <td>2010-06-13T05:39:00</td>\n",
              "      <td>2010-06-13T05:44:00</td>\n",
              "      <td>11079</td>\n",
              "      <td>49</td>\n",
              "      <td>No</td>\n",
              "    </tr>\n",
              "    <tr>\n",
              "      <th>2</th>\n",
              "      <td>M2.0</td>\n",
              "      <td>2010-06-12T00:30:00</td>\n",
              "      <td>2010-06-12T00:57:00</td>\n",
              "      <td>2010-06-12T01:02:00</td>\n",
              "      <td>11081</td>\n",
              "      <td>54</td>\n",
              "      <td>No</td>\n",
              "    </tr>\n",
              "    <tr>\n",
              "      <th>3</th>\n",
              "      <td>M1.0</td>\n",
              "      <td>2010-08-07T17:55:00</td>\n",
              "      <td>2010-08-07T18:24:00</td>\n",
              "      <td>2010-08-07T18:47:00</td>\n",
              "      <td>11093</td>\n",
              "      <td>115</td>\n",
              "      <td>No</td>\n",
              "    </tr>\n",
              "    <tr>\n",
              "      <th>4</th>\n",
              "      <td>M2.9</td>\n",
              "      <td>2010-10-16T19:07:00</td>\n",
              "      <td>2010-10-16T19:12:00</td>\n",
              "      <td>2010-10-16T19:15:00</td>\n",
              "      <td>11112</td>\n",
              "      <td>211</td>\n",
              "      <td>No</td>\n",
              "    </tr>\n",
              "  </tbody>\n",
              "</table>\n",
              "</div>\n",
              "    <div class=\"colab-df-buttons\">\n",
              "\n",
              "  <div class=\"colab-df-container\">\n",
              "    <button class=\"colab-df-convert\" onclick=\"convertToInteractive('df-85a3c9e7-93d6-4bf5-b572-3b899390f8fa')\"\n",
              "            title=\"Convert this dataframe to an interactive table.\"\n",
              "            style=\"display:none;\">\n",
              "\n",
              "  <svg xmlns=\"http://www.w3.org/2000/svg\" height=\"24px\" viewBox=\"0 -960 960 960\">\n",
              "    <path d=\"M120-120v-720h720v720H120Zm60-500h600v-160H180v160Zm220 220h160v-160H400v160Zm0 220h160v-160H400v160ZM180-400h160v-160H180v160Zm440 0h160v-160H620v160ZM180-180h160v-160H180v160Zm440 0h160v-160H620v160Z\"/>\n",
              "  </svg>\n",
              "    </button>\n",
              "\n",
              "  <style>\n",
              "    .colab-df-container {\n",
              "      display:flex;\n",
              "      gap: 12px;\n",
              "    }\n",
              "\n",
              "    .colab-df-convert {\n",
              "      background-color: #E8F0FE;\n",
              "      border: none;\n",
              "      border-radius: 50%;\n",
              "      cursor: pointer;\n",
              "      display: none;\n",
              "      fill: #1967D2;\n",
              "      height: 32px;\n",
              "      padding: 0 0 0 0;\n",
              "      width: 32px;\n",
              "    }\n",
              "\n",
              "    .colab-df-convert:hover {\n",
              "      background-color: #E2EBFA;\n",
              "      box-shadow: 0px 1px 2px rgba(60, 64, 67, 0.3), 0px 1px 3px 1px rgba(60, 64, 67, 0.15);\n",
              "      fill: #174EA6;\n",
              "    }\n",
              "\n",
              "    .colab-df-buttons div {\n",
              "      margin-bottom: 4px;\n",
              "    }\n",
              "\n",
              "    [theme=dark] .colab-df-convert {\n",
              "      background-color: #3B4455;\n",
              "      fill: #D2E3FC;\n",
              "    }\n",
              "\n",
              "    [theme=dark] .colab-df-convert:hover {\n",
              "      background-color: #434B5C;\n",
              "      box-shadow: 0px 1px 3px 1px rgba(0, 0, 0, 0.15);\n",
              "      filter: drop-shadow(0px 1px 2px rgba(0, 0, 0, 0.3));\n",
              "      fill: #FFFFFF;\n",
              "    }\n",
              "  </style>\n",
              "\n",
              "    <script>\n",
              "      const buttonEl =\n",
              "        document.querySelector('#df-85a3c9e7-93d6-4bf5-b572-3b899390f8fa button.colab-df-convert');\n",
              "      buttonEl.style.display =\n",
              "        google.colab.kernel.accessAllowed ? 'block' : 'none';\n",
              "\n",
              "      async function convertToInteractive(key) {\n",
              "        const element = document.querySelector('#df-85a3c9e7-93d6-4bf5-b572-3b899390f8fa');\n",
              "        const dataTable =\n",
              "          await google.colab.kernel.invokeFunction('convertToInteractive',\n",
              "                                                    [key], {});\n",
              "        if (!dataTable) return;\n",
              "\n",
              "        const docLinkHtml = 'Like what you see? Visit the ' +\n",
              "          '<a target=\"_blank\" href=https://colab.research.google.com/notebooks/data_table.ipynb>data table notebook</a>'\n",
              "          + ' to learn more about interactive tables.';\n",
              "        element.innerHTML = '';\n",
              "        dataTable['output_type'] = 'display_data';\n",
              "        await google.colab.output.renderOutput(dataTable, element);\n",
              "        const docLink = document.createElement('div');\n",
              "        docLink.innerHTML = docLinkHtml;\n",
              "        element.appendChild(docLink);\n",
              "      }\n",
              "    </script>\n",
              "  </div>\n",
              "\n",
              "\n",
              "<div id=\"df-ed0f19d5-5180-4e17-82e1-6c79aba48981\">\n",
              "  <button class=\"colab-df-quickchart\" onclick=\"quickchart('df-ed0f19d5-5180-4e17-82e1-6c79aba48981')\"\n",
              "            title=\"Suggest charts.\"\n",
              "            style=\"display:none;\">\n",
              "\n",
              "<svg xmlns=\"http://www.w3.org/2000/svg\" height=\"24px\"viewBox=\"0 0 24 24\"\n",
              "     width=\"24px\">\n",
              "    <g>\n",
              "        <path d=\"M19 3H5c-1.1 0-2 .9-2 2v14c0 1.1.9 2 2 2h14c1.1 0 2-.9 2-2V5c0-1.1-.9-2-2-2zM9 17H7v-7h2v7zm4 0h-2V7h2v10zm4 0h-2v-4h2v4z\"/>\n",
              "    </g>\n",
              "</svg>\n",
              "  </button>\n",
              "\n",
              "<style>\n",
              "  .colab-df-quickchart {\n",
              "    background-color: #E8F0FE;\n",
              "    border: none;\n",
              "    border-radius: 50%;\n",
              "    cursor: pointer;\n",
              "    display: none;\n",
              "    fill: #1967D2;\n",
              "    height: 32px;\n",
              "    padding: 0 0 0 0;\n",
              "    width: 32px;\n",
              "  }\n",
              "\n",
              "  .colab-df-quickchart:hover {\n",
              "    background-color: #E2EBFA;\n",
              "    box-shadow: 0px 1px 2px rgba(60, 64, 67, 0.3), 0px 1px 3px 1px rgba(60, 64, 67, 0.15);\n",
              "    fill: #174EA6;\n",
              "  }\n",
              "\n",
              "  [theme=dark] .colab-df-quickchart {\n",
              "    background-color: #3B4455;\n",
              "    fill: #D2E3FC;\n",
              "  }\n",
              "\n",
              "  [theme=dark] .colab-df-quickchart:hover {\n",
              "    background-color: #434B5C;\n",
              "    box-shadow: 0px 1px 3px 1px rgba(0, 0, 0, 0.15);\n",
              "    filter: drop-shadow(0px 1px 2px rgba(0, 0, 0, 0.3));\n",
              "    fill: #FFFFFF;\n",
              "  }\n",
              "</style>\n",
              "\n",
              "  <script>\n",
              "    async function quickchart(key) {\n",
              "      const charts = await google.colab.kernel.invokeFunction(\n",
              "          'suggestCharts', [key], {});\n",
              "    }\n",
              "    (() => {\n",
              "      let quickchartButtonEl =\n",
              "        document.querySelector('#df-ed0f19d5-5180-4e17-82e1-6c79aba48981 button');\n",
              "      quickchartButtonEl.style.display =\n",
              "        google.colab.kernel.accessAllowed ? 'block' : 'none';\n",
              "    })();\n",
              "  </script>\n",
              "</div>\n",
              "    </div>\n",
              "  </div>\n"
            ]
          },
          "metadata": {},
          "execution_count": 44
        }
      ]
    },
    {
      "cell_type": "markdown",
      "source": [
        "## Download and Check Images\n",
        "\n",
        "Next, the events have to be downloaded and saved in the appropriate folders. \\\\\n",
        "\n",
        "First, the positive class, i.e. the CME events are downloaded:"
      ],
      "metadata": {
        "id": "QSmWrfFQBeQV"
      }
    },
    {
      "cell_type": "code",
      "source": [
        "# NOTE: after the image-data was downloaded the first time, the cell can be commented out.\n",
        "# Otherwise, when the notebook is started from the beginning the data would be downloaded again, which is not neccessary\n",
        "\n",
        "data_path_pos = '00_Dataset/Liu2020_events/raw/positive'\n",
        "#create_sdo_aia_dataset(output_dir = data_path_pos, start_idx = 0, event_list = df_cme_list, dt = '10min', wavelength = '171')"
      ],
      "metadata": {
        "id": "nHlrj-ObFLnJ"
      },
      "execution_count": 70,
      "outputs": []
    },
    {
      "cell_type": "markdown",
      "source": [
        "Check the content of the folder by comparing the image names (which are time stamps and the corresponding wavelength) with the corresponding list/dataframe."
      ],
      "metadata": {
        "id": "J26oaXcuP-FH"
      }
    },
    {
      "cell_type": "code",
      "source": [
        "result_raw_pos, missing_raw_pos = compare_filenames_with_dataframe(data_path_pos, df_cme_list, 171)\n",
        "missing_raw_pos"
      ],
      "metadata": {
        "id": "ztEdiwvTN8Xm",
        "outputId": "d0cb06ec-974f-4ac5-f000-a6905be1819a",
        "colab": {
          "base_uri": "https://localhost:8080/",
          "height": 230
        }
      },
      "execution_count": 77,
      "outputs": [
        {
          "output_type": "stream",
          "name": "stdout",
          "text": [
            "Total Directory Files:  125\n",
            "Total DataFrame Names:  129\n",
            "Common Files:  125\n",
            "Missing Files:  3\n",
            "Extra Files:  0\n"
          ]
        },
        {
          "output_type": "execute_result",
          "data": {
            "text/plain": [
              "             Peak Time\n",
              "0  2014-11-07T04:25:00\n",
              "1  2013-10-29T21:54:00\n",
              "2  2014-11-06T03:46:00"
            ],
            "text/html": [
              "\n",
              "  <div id=\"df-37e3a35c-ffa5-4aff-b745-6f5ac9db662c\" class=\"colab-df-container\">\n",
              "    <div>\n",
              "<style scoped>\n",
              "    .dataframe tbody tr th:only-of-type {\n",
              "        vertical-align: middle;\n",
              "    }\n",
              "\n",
              "    .dataframe tbody tr th {\n",
              "        vertical-align: top;\n",
              "    }\n",
              "\n",
              "    .dataframe thead th {\n",
              "        text-align: right;\n",
              "    }\n",
              "</style>\n",
              "<table border=\"1\" class=\"dataframe\">\n",
              "  <thead>\n",
              "    <tr style=\"text-align: right;\">\n",
              "      <th></th>\n",
              "      <th>Peak Time</th>\n",
              "    </tr>\n",
              "  </thead>\n",
              "  <tbody>\n",
              "    <tr>\n",
              "      <th>0</th>\n",
              "      <td>2014-11-07T04:25:00</td>\n",
              "    </tr>\n",
              "    <tr>\n",
              "      <th>1</th>\n",
              "      <td>2013-10-29T21:54:00</td>\n",
              "    </tr>\n",
              "    <tr>\n",
              "      <th>2</th>\n",
              "      <td>2014-11-06T03:46:00</td>\n",
              "    </tr>\n",
              "  </tbody>\n",
              "</table>\n",
              "</div>\n",
              "    <div class=\"colab-df-buttons\">\n",
              "\n",
              "  <div class=\"colab-df-container\">\n",
              "    <button class=\"colab-df-convert\" onclick=\"convertToInteractive('df-37e3a35c-ffa5-4aff-b745-6f5ac9db662c')\"\n",
              "            title=\"Convert this dataframe to an interactive table.\"\n",
              "            style=\"display:none;\">\n",
              "\n",
              "  <svg xmlns=\"http://www.w3.org/2000/svg\" height=\"24px\" viewBox=\"0 -960 960 960\">\n",
              "    <path d=\"M120-120v-720h720v720H120Zm60-500h600v-160H180v160Zm220 220h160v-160H400v160Zm0 220h160v-160H400v160ZM180-400h160v-160H180v160Zm440 0h160v-160H620v160ZM180-180h160v-160H180v160Zm440 0h160v-160H620v160Z\"/>\n",
              "  </svg>\n",
              "    </button>\n",
              "\n",
              "  <style>\n",
              "    .colab-df-container {\n",
              "      display:flex;\n",
              "      gap: 12px;\n",
              "    }\n",
              "\n",
              "    .colab-df-convert {\n",
              "      background-color: #E8F0FE;\n",
              "      border: none;\n",
              "      border-radius: 50%;\n",
              "      cursor: pointer;\n",
              "      display: none;\n",
              "      fill: #1967D2;\n",
              "      height: 32px;\n",
              "      padding: 0 0 0 0;\n",
              "      width: 32px;\n",
              "    }\n",
              "\n",
              "    .colab-df-convert:hover {\n",
              "      background-color: #E2EBFA;\n",
              "      box-shadow: 0px 1px 2px rgba(60, 64, 67, 0.3), 0px 1px 3px 1px rgba(60, 64, 67, 0.15);\n",
              "      fill: #174EA6;\n",
              "    }\n",
              "\n",
              "    .colab-df-buttons div {\n",
              "      margin-bottom: 4px;\n",
              "    }\n",
              "\n",
              "    [theme=dark] .colab-df-convert {\n",
              "      background-color: #3B4455;\n",
              "      fill: #D2E3FC;\n",
              "    }\n",
              "\n",
              "    [theme=dark] .colab-df-convert:hover {\n",
              "      background-color: #434B5C;\n",
              "      box-shadow: 0px 1px 3px 1px rgba(0, 0, 0, 0.15);\n",
              "      filter: drop-shadow(0px 1px 2px rgba(0, 0, 0, 0.3));\n",
              "      fill: #FFFFFF;\n",
              "    }\n",
              "  </style>\n",
              "\n",
              "    <script>\n",
              "      const buttonEl =\n",
              "        document.querySelector('#df-37e3a35c-ffa5-4aff-b745-6f5ac9db662c button.colab-df-convert');\n",
              "      buttonEl.style.display =\n",
              "        google.colab.kernel.accessAllowed ? 'block' : 'none';\n",
              "\n",
              "      async function convertToInteractive(key) {\n",
              "        const element = document.querySelector('#df-37e3a35c-ffa5-4aff-b745-6f5ac9db662c');\n",
              "        const dataTable =\n",
              "          await google.colab.kernel.invokeFunction('convertToInteractive',\n",
              "                                                    [key], {});\n",
              "        if (!dataTable) return;\n",
              "\n",
              "        const docLinkHtml = 'Like what you see? Visit the ' +\n",
              "          '<a target=\"_blank\" href=https://colab.research.google.com/notebooks/data_table.ipynb>data table notebook</a>'\n",
              "          + ' to learn more about interactive tables.';\n",
              "        element.innerHTML = '';\n",
              "        dataTable['output_type'] = 'display_data';\n",
              "        await google.colab.output.renderOutput(dataTable, element);\n",
              "        const docLink = document.createElement('div');\n",
              "        docLink.innerHTML = docLinkHtml;\n",
              "        element.appendChild(docLink);\n",
              "      }\n",
              "    </script>\n",
              "  </div>\n",
              "\n",
              "\n",
              "<div id=\"df-cd251d1f-bc9e-4f2a-b9e7-f2a790b56e50\">\n",
              "  <button class=\"colab-df-quickchart\" onclick=\"quickchart('df-cd251d1f-bc9e-4f2a-b9e7-f2a790b56e50')\"\n",
              "            title=\"Suggest charts.\"\n",
              "            style=\"display:none;\">\n",
              "\n",
              "<svg xmlns=\"http://www.w3.org/2000/svg\" height=\"24px\"viewBox=\"0 0 24 24\"\n",
              "     width=\"24px\">\n",
              "    <g>\n",
              "        <path d=\"M19 3H5c-1.1 0-2 .9-2 2v14c0 1.1.9 2 2 2h14c1.1 0 2-.9 2-2V5c0-1.1-.9-2-2-2zM9 17H7v-7h2v7zm4 0h-2V7h2v10zm4 0h-2v-4h2v4z\"/>\n",
              "    </g>\n",
              "</svg>\n",
              "  </button>\n",
              "\n",
              "<style>\n",
              "  .colab-df-quickchart {\n",
              "    background-color: #E8F0FE;\n",
              "    border: none;\n",
              "    border-radius: 50%;\n",
              "    cursor: pointer;\n",
              "    display: none;\n",
              "    fill: #1967D2;\n",
              "    height: 32px;\n",
              "    padding: 0 0 0 0;\n",
              "    width: 32px;\n",
              "  }\n",
              "\n",
              "  .colab-df-quickchart:hover {\n",
              "    background-color: #E2EBFA;\n",
              "    box-shadow: 0px 1px 2px rgba(60, 64, 67, 0.3), 0px 1px 3px 1px rgba(60, 64, 67, 0.15);\n",
              "    fill: #174EA6;\n",
              "  }\n",
              "\n",
              "  [theme=dark] .colab-df-quickchart {\n",
              "    background-color: #3B4455;\n",
              "    fill: #D2E3FC;\n",
              "  }\n",
              "\n",
              "  [theme=dark] .colab-df-quickchart:hover {\n",
              "    background-color: #434B5C;\n",
              "    box-shadow: 0px 1px 3px 1px rgba(0, 0, 0, 0.15);\n",
              "    filter: drop-shadow(0px 1px 2px rgba(0, 0, 0, 0.3));\n",
              "    fill: #FFFFFF;\n",
              "  }\n",
              "</style>\n",
              "\n",
              "  <script>\n",
              "    async function quickchart(key) {\n",
              "      const charts = await google.colab.kernel.invokeFunction(\n",
              "          'suggestCharts', [key], {});\n",
              "    }\n",
              "    (() => {\n",
              "      let quickchartButtonEl =\n",
              "        document.querySelector('#df-cd251d1f-bc9e-4f2a-b9e7-f2a790b56e50 button');\n",
              "      quickchartButtonEl.style.display =\n",
              "        google.colab.kernel.accessAllowed ? 'block' : 'none';\n",
              "    })();\n",
              "  </script>\n",
              "</div>\n",
              "    </div>\n",
              "  </div>\n"
            ]
          },
          "metadata": {},
          "execution_count": 77
        }
      ]
    },
    {
      "cell_type": "markdown",
      "source": [],
      "metadata": {
        "id": "vc10s1j4j5dp"
      }
    },
    {
      "cell_type": "code",
      "source": [
        "create_sdo_aia_dataset(output_dir = data_path_pos, start_idx = 0, event_list = missing_raw_pos, dt = '10min', wavelength = '171')"
      ],
      "metadata": {
        "id": "S4WkzE7lYK2L",
        "outputId": "d9181769-8403-45ad-9d0a-c94a92be8594",
        "colab": {
          "base_uri": "https://localhost:8080/"
        }
      },
      "execution_count": 74,
      "outputs": [
        {
          "output_type": "stream",
          "name": "stdout",
          "text": [
            " 2 : downloading CME from  2014-11-06T03:46:00"
          ]
        }
      ]
    },
    {
      "cell_type": "markdown",
      "source": [
        "Same for the negative class, i.e. Flares which are not associated to CMEs:\n",
        "\n"
      ],
      "metadata": {
        "id": "f2IN2A39N7-x"
      }
    },
    {
      "cell_type": "code",
      "source": [
        "# NOTE: after the image-data was downloaded the first time, the cell can be commented out.\n",
        "# Otherwise, when the notebook is started from the beginning the data would be downloaded again, which is not neccessary\n",
        "data_path_neg = '00_Dataset/Liu2020_events/raw/negative/'\n",
        "create_sdo_aia_dataset(output_dir = data_path_neg, start_idx = 0, event_list = df_no_cme_list, dt = '10min', wavelength = '171')"
      ],
      "metadata": {
        "id": "p4IoyW7ITR0r",
        "colab": {
          "base_uri": "https://localhost:8080/"
        },
        "outputId": "ce069335-7e42-41e4-9728-ae33e0fcb5ca"
      },
      "execution_count": null,
      "outputs": [
        {
          "output_type": "stream",
          "name": "stdout",
          "text": [
            " 525 : downloading CME from  2015-06-21T09:44:00"
          ]
        }
      ]
    },
    {
      "cell_type": "code",
      "source": [
        "result_raw_neg, missing_raw_neg = compare_filenames_with_dataframe(data_path_neg, df_no_cme_list, 171)\n",
        "missing_raw_neg"
      ],
      "metadata": {
        "id": "0sqE-j8_RvLF"
      },
      "execution_count": null,
      "outputs": []
    },
    {
      "cell_type": "markdown",
      "source": [
        "**SUMMARY**: \\\\\n",
        "* it was not possible to download all the events due to the following reasons:\n",
        "  * SDO data from *Ahmadzadeh et al. 2019* is only available from February 2011 until today. Hence XXXX events can't be considered\n",
        "  * ??? corrupted samples were deetected where no image data is available\n",
        "* DESCRIPE SOME SOLUTIONS!!!"
      ],
      "metadata": {
        "id": "auLX7cSOYq91"
      }
    },
    {
      "cell_type": "markdown",
      "source": [
        "## Prepare Dataset -- see if this is needed!!!\n",
        "\n",
        "Positive Class: create positive class, i.e. CMEs which are related to Flares\n",
        "\n",
        "Negative Class: create positive class, i.e. CMEs which are NOT related to Flares"
      ],
      "metadata": {
        "id": "-Q2DrHjk3MW6"
      }
    },
    {
      "cell_type": "markdown",
      "source": [
        "#### Resize the Images\n"
      ],
      "metadata": {
        "id": "4PBgakw_b74b"
      }
    },
    {
      "cell_type": "markdown",
      "source": [],
      "metadata": {
        "id": "XmDthD0ptmMz"
      }
    },
    {
      "cell_type": "code",
      "source": [
        "#!sdo-cli data resize --path='./data/raw/raw_512/positive/' --targetpath='./data/raw/raw_256/positive' --wavelength='171' --size=256"
      ],
      "metadata": {
        "id": "OkBcpbeGTcMx"
      },
      "execution_count": 16,
      "outputs": []
    },
    {
      "cell_type": "code",
      "source": [
        "#!sdo-cli data resize --path='./data/raw/raw_512/negative/' --targetpath='./data/raw/raw_256/negative' --wavelength='171' --size=256"
      ],
      "metadata": {
        "id": "nwn2vn7WUvRp"
      },
      "execution_count": 17,
      "outputs": []
    },
    {
      "cell_type": "markdown",
      "source": [
        "## Models: General Remarks\n",
        "\n",
        "Since we deal with a very small dataset some preliminary considerations have to be mentioned:\n",
        "* Small datasets lead to overfitting \\\\\n",
        "as one of the most relevant problems with ML models is the so called Bias-Variance tradeoff, or in other words the balance between over-simplification (high bias) and paying too much attention to the training set, such that the model doesn't generalize well.\n",
        "If a combination of a low bias and high variance is present, one speaks of overfitting the data. On the other hand, if the model shows a high bias and low variance the model underfits the data.\n",
        "* Using simple models: \\\\\n",
        "If only a limited amount of data is available, using a simple model architecture is often better suited as overly complex ones. Additionally regularization techniques can help to avoid overfitting.\n",
        "* Combining models: \\\\\n",
        "combinning some simple models could also help to reduce variance and improve the generalization.\n",
        "* Use data augmention techniques: \\\\\n",
        "As the suggests it, data augmentation techniques use the original data an augment the internal characteristics of the data. Examples in terms of images are: rotation of the image, zooming in/out, flipping the image horizontally or vertically, changning the brightness, etc.\n",
        "\n",
        "These considerations (and more) have to be made in advance to generate a useful model for a tiny dataset like the present one."
      ],
      "metadata": {
        "id": "j0ej0wmglBP3"
      }
    },
    {
      "cell_type": "markdown",
      "source": [
        "## Model 1: \"Keras tutorial\""
      ],
      "metadata": {
        "id": "Hqbrb9Ar3gGI"
      }
    },
    {
      "cell_type": "markdown",
      "source": [
        "### Prepare the Dataset"
      ],
      "metadata": {
        "id": "vt_5FuXATQlw"
      }
    },
    {
      "cell_type": "code",
      "source": [
        "#%cd /content/drive/MyDrive/Academia/MSc. Aerospace Engineering - FH Wiener Neustadt/4. Master Thesis/03-Work/sdo_binclass/data/raw/"
      ],
      "metadata": {
        "id": "7kIgPgw72SZm"
      },
      "execution_count": 18,
      "outputs": []
    },
    {
      "cell_type": "code",
      "source": [
        "#!ls raw_512"
      ],
      "metadata": {
        "id": "_cB0Sn882v9g"
      },
      "execution_count": 19,
      "outputs": []
    },
    {
      "cell_type": "code",
      "source": [
        "# num_skipped = 0\n",
        "# for folder_name in (\"negative\", \"positive\"):\n",
        "#     folder_path = os.path.join(\"raw_512\", folder_name)\n",
        "#     for fname in os.listdir(folder_path):\n",
        "#         fpath = os.path.join(folder_path, fname)\n",
        "#         try:\n",
        "#             fobj = open(fpath, \"rb\")\n",
        "#             is_jfif = tf.compat.as_bytes(\"JFIF\") in fobj.peek(10)\n",
        "#         finally:\n",
        "#             fobj.close()\n",
        "\n",
        "#         if not is_jfif:\n",
        "#             num_skipped += 1\n",
        "#             # Delete corrupted image\n",
        "#             os.remove(fpath)\n",
        "\n",
        "# print(\"Deleted %d images\" % num_skipped)"
      ],
      "metadata": {
        "id": "NzZyPgPj3kcm",
        "outputId": "2c40507c-17eb-49a1-cd6b-c05271118fea",
        "colab": {
          "base_uri": "https://localhost:8080/",
          "height": 245
        }
      },
      "execution_count": 20,
      "outputs": [
        {
          "output_type": "error",
          "ename": "FileNotFoundError",
          "evalue": "ignored",
          "traceback": [
            "\u001b[0;31m---------------------------------------------------------------------------\u001b[0m",
            "\u001b[0;31mFileNotFoundError\u001b[0m                         Traceback (most recent call last)",
            "\u001b[0;32m<ipython-input-20-11abacdb7049>\u001b[0m in \u001b[0;36m<cell line: 2>\u001b[0;34m()\u001b[0m\n\u001b[1;32m      2\u001b[0m \u001b[0;32mfor\u001b[0m \u001b[0mfolder_name\u001b[0m \u001b[0;32min\u001b[0m \u001b[0;34m(\u001b[0m\u001b[0;34m\"negative\"\u001b[0m\u001b[0;34m,\u001b[0m \u001b[0;34m\"positive\"\u001b[0m\u001b[0;34m)\u001b[0m\u001b[0;34m:\u001b[0m\u001b[0;34m\u001b[0m\u001b[0;34m\u001b[0m\u001b[0m\n\u001b[1;32m      3\u001b[0m     \u001b[0mfolder_path\u001b[0m \u001b[0;34m=\u001b[0m \u001b[0mos\u001b[0m\u001b[0;34m.\u001b[0m\u001b[0mpath\u001b[0m\u001b[0;34m.\u001b[0m\u001b[0mjoin\u001b[0m\u001b[0;34m(\u001b[0m\u001b[0;34m\"raw_512\"\u001b[0m\u001b[0;34m,\u001b[0m \u001b[0mfolder_name\u001b[0m\u001b[0;34m)\u001b[0m\u001b[0;34m\u001b[0m\u001b[0;34m\u001b[0m\u001b[0m\n\u001b[0;32m----> 4\u001b[0;31m     \u001b[0;32mfor\u001b[0m \u001b[0mfname\u001b[0m \u001b[0;32min\u001b[0m \u001b[0mos\u001b[0m\u001b[0;34m.\u001b[0m\u001b[0mlistdir\u001b[0m\u001b[0;34m(\u001b[0m\u001b[0mfolder_path\u001b[0m\u001b[0;34m)\u001b[0m\u001b[0;34m:\u001b[0m\u001b[0;34m\u001b[0m\u001b[0;34m\u001b[0m\u001b[0m\n\u001b[0m\u001b[1;32m      5\u001b[0m         \u001b[0mfpath\u001b[0m \u001b[0;34m=\u001b[0m \u001b[0mos\u001b[0m\u001b[0;34m.\u001b[0m\u001b[0mpath\u001b[0m\u001b[0;34m.\u001b[0m\u001b[0mjoin\u001b[0m\u001b[0;34m(\u001b[0m\u001b[0mfolder_path\u001b[0m\u001b[0;34m,\u001b[0m \u001b[0mfname\u001b[0m\u001b[0;34m)\u001b[0m\u001b[0;34m\u001b[0m\u001b[0;34m\u001b[0m\u001b[0m\n\u001b[1;32m      6\u001b[0m         \u001b[0;32mtry\u001b[0m\u001b[0;34m:\u001b[0m\u001b[0;34m\u001b[0m\u001b[0;34m\u001b[0m\u001b[0m\n",
            "\u001b[0;31mFileNotFoundError\u001b[0m: [Errno 2] No such file or directory: 'raw_512/negative'"
          ]
        }
      ]
    },
    {
      "cell_type": "code",
      "source": [
        "image_size = (180, 180)\n",
        "batch_size = 10\n",
        "\n",
        "train_ds, val_ds = tf.keras.utils.image_dataset_from_directory(\n",
        "    \"raw_512\",\n",
        "    validation_split=0.2,\n",
        "    subset=\"both\",\n",
        "    seed=1337,\n",
        "    image_size=image_size,\n",
        "    batch_size=batch_size,\n",
        ")"
      ],
      "metadata": {
        "id": "ZP8Z9S8M3kXI"
      },
      "execution_count": null,
      "outputs": []
    },
    {
      "cell_type": "code",
      "source": [
        "import matplotlib.pyplot as plt\n",
        "\n",
        "plt.figure(figsize=(10, 10))\n",
        "for images, labels in train_ds.take(1):\n",
        "    for i in range(9):\n",
        "        ax = plt.subplot(3, 3, i + 1)\n",
        "        plt.imshow(images[i].numpy().astype(\"uint8\"))\n",
        "        plt.title(int(labels[i]))\n",
        "        plt.axis(\"off\")"
      ],
      "metadata": {
        "id": "svBz7xdz3kUq"
      },
      "execution_count": null,
      "outputs": []
    },
    {
      "cell_type": "code",
      "source": [
        "from tensorflow.keras import layers\n",
        "data_augmentation = keras.Sequential(\n",
        "    [\n",
        "        layers.RandomFlip(\"horizontal\"),\n",
        "        layers.RandomRotation(0.1),\n",
        "    ]\n",
        ")"
      ],
      "metadata": {
        "id": "E2OOmEsK4tHL"
      },
      "execution_count": null,
      "outputs": []
    },
    {
      "cell_type": "code",
      "source": [
        "plt.figure(figsize=(10, 10))\n",
        "for images, _ in train_ds.take(1):\n",
        "    for i in range(9):\n",
        "        augmented_images = data_augmentation(images)\n",
        "        ax = plt.subplot(3, 3, i + 1)\n",
        "        plt.imshow(augmented_images[0].numpy().astype(\"uint8\"))\n",
        "        plt.axis(\"off\")"
      ],
      "metadata": {
        "id": "lf4XP4lw441L"
      },
      "execution_count": null,
      "outputs": []
    },
    {
      "cell_type": "code",
      "source": [
        "inputs = keras.Input(shape=image_size)\n",
        "x = data_augmentation(inputs)\n",
        "x = layers.Rescaling(1./255)(x)"
      ],
      "metadata": {
        "id": "cEKSM5yh59MH"
      },
      "execution_count": null,
      "outputs": []
    },
    {
      "cell_type": "code",
      "source": [
        "# Apply `data_augmentation` to the training images.\n",
        "train_ds = train_ds.map(\n",
        "    lambda img, label: (data_augmentation(img), label),\n",
        "    num_parallel_calls=tf.data.AUTOTUNE,\n",
        ")\n",
        "# Prefetching samples in GPU memory helps maximize GPU utilization.\n",
        "train_ds = train_ds.prefetch(tf.data.AUTOTUNE)\n",
        "val_ds = val_ds.prefetch(tf.data.AUTOTUNE)"
      ],
      "metadata": {
        "id": "FDtPmN3K59HM"
      },
      "execution_count": null,
      "outputs": []
    },
    {
      "cell_type": "markdown",
      "source": [
        "### Model"
      ],
      "metadata": {
        "id": "BoYZKG4CTU1f"
      }
    },
    {
      "cell_type": "code",
      "source": [
        "def make_model(input_shape, num_classes, hp):\n",
        "    inputs = keras.Input(shape=input_shape)\n",
        "\n",
        "    # Entry block\n",
        "    x = layers.Rescaling(1.0 / 255)(inputs)\n",
        "    x = layers.Conv2D(128, 3, strides=2, padding=\"same\")(x)\n",
        "    x = layers.BatchNormalization()(x)\n",
        "    x = layers.Activation(\"relu\")(x)\n",
        "\n",
        "    previous_block_activation = x  # Set aside residual\n",
        "\n",
        "    for size in [256, 512, 728]:\n",
        "        x = layers.Activation(\"relu\")(x)\n",
        "        x = layers.SeparableConv2D(size, 3, padding=\"same\")(x)\n",
        "        x = layers.BatchNormalization()(x)\n",
        "\n",
        "        x = layers.Activation(\"relu\")(x)\n",
        "        x = layers.SeparableConv2D(size, 3, padding=\"same\")(x)\n",
        "        x = layers.BatchNormalization()(x)\n",
        "\n",
        "        x = layers.MaxPooling2D(3, strides=2, padding=\"same\")(x)\n",
        "\n",
        "        # Project residual\n",
        "        residual = layers.Conv2D(size, 1, strides=2, padding=\"same\")(\n",
        "            previous_block_activation\n",
        "        )\n",
        "        x = layers.add([x, residual])  # Add back residual\n",
        "        previous_block_activation = x  # Set aside next residual\n",
        "\n",
        "    x = layers.SeparableConv2D(1024, 3, padding=\"same\")(x)\n",
        "    x = layers.BatchNormalization()(x)\n",
        "    x = layers.Activation(\"relu\")(x)\n",
        "\n",
        "    x = layers.GlobalAveragePooling2D()(x)\n",
        "    if num_classes == 2:\n",
        "        activation = \"sigmoid\"\n",
        "        units = 1\n",
        "    else:\n",
        "        activation = \"softmax\"\n",
        "        units = num_classes\n",
        "\n",
        "    x = layers.Dropout(0.5)(x)\n",
        "    outputs = layers.Dense(units, activation=activation)(x)\n",
        "    return keras.Model(inputs, outputs)\n",
        "\n"
      ],
      "metadata": {
        "id": "zINy699U59FA"
      },
      "execution_count": null,
      "outputs": []
    },
    {
      "cell_type": "code",
      "source": [
        "model = make_model(input_shape=image_size + (3,), num_classes=2)\n",
        "#keras.utils.plot_model(model, show_shapes=True)"
      ],
      "metadata": {
        "id": "VWJIbIms6Y7Q"
      },
      "execution_count": null,
      "outputs": []
    },
    {
      "cell_type": "markdown",
      "source": [
        "### Train and Test"
      ],
      "metadata": {
        "id": "69T9yTNjTeOS"
      }
    },
    {
      "cell_type": "code",
      "source": [
        "epochs = 25\n",
        "\n",
        "callbacks = [\n",
        "    keras.callbacks.ModelCheckpoint(\"save_at_{epoch}.keras\"),\n",
        "]\n",
        "model.compile(\n",
        "    optimizer=keras.optimizers.Adam(1e-3),\n",
        "    loss=\"binary_crossentropy\",\n",
        "    metrics=[\"accuracy\"],\n",
        ")\n",
        "model.fit(\n",
        "    train_ds,\n",
        "    epochs=epochs,\n",
        "    callbacks=callbacks,\n",
        "    validation_data=val_ds,\n",
        ")"
      ],
      "metadata": {
        "id": "Jb-LP4hI6dGn"
      },
      "execution_count": null,
      "outputs": []
    },
    {
      "cell_type": "markdown",
      "source": [
        "### Evaluate"
      ],
      "metadata": {
        "id": "Y1uTDbdfThxT"
      }
    },
    {
      "cell_type": "markdown",
      "source": [
        "## Model 2: ConvNet binary classifier"
      ],
      "metadata": {
        "id": "ns_J9cDSU8eq"
      }
    },
    {
      "cell_type": "markdown",
      "source": [
        "### Prepare the Dataset:\n",
        "\n",
        "Split Image-Data - OLD shit! \\\\\n",
        "The following function splits the downloaded data into three dataset, namely:\n",
        "\n",
        "\n",
        "*   training\n",
        "*   test\n",
        "*   validation\n",
        "\n",
        "with corresponding negative and positive samples.\n"
      ],
      "metadata": {
        "id": "t-kfRlwAb-R0"
      }
    },
    {
      "cell_type": "code",
      "source": [
        "def split_dataset(input_dir, output_dir, test_ratio, val_ratio, random_seed=None):\n",
        "  '''\n",
        "  - Replace 'input_dir' with the path to your 'dataset' folder and 'output_dir' with the desired output path.\n",
        "  - The function will create 'train', 'test', and 'validation' folders inside the 'output_dir' and split the data accordingly.\n",
        "  - Don't forget to specify the 'test_ratio', 'val_ratio', and 'random_seed' if desired.\n",
        "  '''\n",
        "\n",
        "  if random_seed is not None:\n",
        "      random.seed(random_seed)\n",
        "\n",
        "  # Create output directories for train, test, and validation\n",
        "  train_dir = os.path.join(output_dir, 'train')\n",
        "  test_dir = os.path.join(output_dir, 'test')\n",
        "  val_dir = os.path.join(output_dir, 'validation')\n",
        "\n",
        "  os.makedirs(train_dir, exist_ok=True)\n",
        "  os.makedirs(test_dir, exist_ok=True)\n",
        "  os.makedirs(val_dir, exist_ok=True)\n",
        "\n",
        "  # Get the list of class folders in the input directory\n",
        "  class_folders = os.listdir(input_dir)\n",
        "\n",
        "  for class_folder in class_folders:\n",
        "      # Get the path to the class folder\n",
        "      class_path = os.path.join(input_dir, class_folder)\n",
        "\n",
        "      # Get the list of image filenames in the class folder\n",
        "      image_filenames = os.listdir(class_path)\n",
        "\n",
        "      # Shuffle the image filenames randomly\n",
        "      random.shuffle(image_filenames)\n",
        "\n",
        "      # Calculate the number of images for testing and validation\n",
        "      print('For the ', class_folder, 'class:')\n",
        "      num_images = len(image_filenames)\n",
        "      print('There are in total', num_images, ' images.')\n",
        "\n",
        "      num_test_images = int(num_images * test_ratio)\n",
        "      print('With ', num_test_images, 'images for testing, and')\n",
        "\n",
        "      num_val_images = int(num_images * val_ratio)\n",
        "      print(num_val_images, 'images for validation.\\n')\n",
        "      print('===================================\\n')\n",
        "\n",
        "      # Split the image filenames into train, test, and validation sets\n",
        "      train_images = image_filenames[num_test_images + num_val_images:]\n",
        "      test_images = image_filenames[:num_test_images]\n",
        "      val_images = image_filenames[num_test_images:num_test_images + num_val_images]\n",
        "\n",
        "      # Copy images to the corresponding directories\n",
        "      for image_filename in train_images:\n",
        "          src = os.path.join(class_path, image_filename)\n",
        "          dst = os.path.join(train_dir, class_folder, image_filename)\n",
        "          os.makedirs(os.path.dirname(dst), exist_ok=True)\n",
        "          shutil.copy(src, dst)\n",
        "\n",
        "      for image_filename in test_images:\n",
        "          src = os.path.join(class_path, image_filename)\n",
        "          dst = os.path.join(test_dir, class_folder, image_filename)\n",
        "          os.makedirs(os.path.dirname(dst), exist_ok=True)\n",
        "          shutil.copy(src, dst)\n",
        "\n",
        "      for image_filename in val_images:\n",
        "          src = os.path.join(class_path, image_filename)\n",
        "          dst = os.path.join(val_dir, class_folder, image_filename)\n",
        "          os.makedirs(os.path.dirname(dst), exist_ok=True)\n",
        "          shutil.copy(src, dst)\n"
      ],
      "metadata": {
        "id": "9y0zJuUv0lOQ"
      },
      "execution_count": null,
      "outputs": []
    },
    {
      "cell_type": "code",
      "source": [
        "input_dir = './data/raw/raw_256/'\n",
        "output_dir = './data/datasets/Test_1/'\n",
        "test_ratio = 0.15\n",
        "val_ratio = 0.15\n",
        "random_seed = 42  # Optional, set to None for random shuffling each time.\n",
        "split_dataset(input_dir, output_dir, test_ratio, val_ratio, random_seed)"
      ],
      "metadata": {
        "id": "CREfnd2c0wBg"
      },
      "execution_count": null,
      "outputs": []
    },
    {
      "cell_type": "markdown",
      "source": [
        "Define Parameter"
      ],
      "metadata": {
        "id": "ExSnnqTbeVJ5"
      }
    },
    {
      "cell_type": "code",
      "source": [
        "# Set random seed for reproducibility\n",
        "random.seed(42)\n",
        "np.random.seed(42)\n",
        "tf.random.set_seed(42)\n",
        "\n",
        "# Define constants\n",
        "dataset_path = './data/datasets/Test_1/'\n",
        "input_shape = (256, 256, 3)\n",
        "num_classes = 2\n",
        "batch_size = 32\n",
        "epochs = 20\n",
        "train_ratio = 0.7\n",
        "test_ratio = 0.15\n",
        "val_ratio = 0.15\n",
        "\n",
        "# Create data generators for training and validation\n",
        "train_datagen = ImageDataGenerator(rescale=1./255, validation_split=0.2)\n",
        "\n",
        "train_generator = train_datagen.flow_from_directory(\n",
        "    os.path.join(dataset_path, 'train'),\n",
        "    target_size=(input_shape[0], input_shape[1]),\n",
        "    batch_size=batch_size,\n",
        "    class_mode='binary'\n",
        ")\n",
        "\n",
        "test_generator = train_datagen.flow_from_directory(\n",
        "    os.path.join(dataset_path, 'test'),\n",
        "    target_size=(input_shape[0], input_shape[1]),\n",
        "    batch_size=batch_size,\n",
        "    class_mode='binary',\n",
        "    shuffle=False\n",
        ")\n",
        "\n",
        "val_generator = train_datagen.flow_from_directory(\n",
        "    os.path.join(dataset_path, 'validation'),\n",
        "    target_size=(input_shape[0], input_shape[1]),\n",
        "    batch_size=batch_size,\n",
        "    class_mode='binary',\n",
        "    shuffle=False\n",
        ")\n",
        "# train_generator = train_datagen.flow_from_directory(\n",
        "#     './data/datasets/Test_1/',\n",
        "#     target_size=(img_width, img_height),\n",
        "#     batch_size=batch_size,\n",
        "#     class_mode='binary',\n",
        "#     subset='training'\n",
        "# )\n",
        "\n",
        "# validation_generator = train_datagen.flow_from_directory(\n",
        "#     './data/datasets/Test_1/',\n",
        "#     target_size=(img_width, img_height),\n",
        "#     batch_size=batch_size,\n",
        "#     class_mode='binary',\n",
        "#     subset='validation'\n",
        "# )"
      ],
      "metadata": {
        "id": "bxMEUKCJa1W1"
      },
      "execution_count": null,
      "outputs": []
    },
    {
      "cell_type": "markdown",
      "source": [
        "## Model 3: Wang et al. 2019, CME-CNN\n",
        "CME Arrival Time Prediction Using Convolutional Neural Network\n",
        "Yimin Wang, Jiajia Liu, Ye Jiang, Robert Erdélyi\n",
        "The Astrophysical Journal, 2019\n",
        "\n",
        "See: https://github.com/yiminking/CME-CNN/blob/master/model_loader.py"
      ],
      "metadata": {
        "id": "Wu0pNOceaHVR"
      }
    },
    {
      "cell_type": "markdown",
      "source": [
        "### Prepare the Dataset"
      ],
      "metadata": {
        "id": "c68yiAxLT2mu"
      }
    },
    {
      "cell_type": "code",
      "source": [],
      "metadata": {
        "id": "ysLHFx6KT56s"
      },
      "execution_count": null,
      "outputs": []
    },
    {
      "cell_type": "code",
      "source": [],
      "metadata": {
        "id": "ebYfurG1T5uv"
      },
      "execution_count": null,
      "outputs": []
    },
    {
      "cell_type": "markdown",
      "source": [
        "### Define the Model-Architecture"
      ],
      "metadata": {
        "id": "rAquzAq_T6TI"
      }
    },
    {
      "cell_type": "code",
      "source": [
        "model = Sequential()\n",
        "model.add(Conv2D(64, kernel_size=(11, 11), input_shape=(input_shape[0], input_shape[1],input_shape[2]), padding='same'))\n",
        "model.add(BatchNormalization(momentum=0.7))\n",
        "model.add(Activation('relu'))\n",
        "model.add(MaxPooling2D(pool_size=(2, 2), padding='same'))\n",
        "model.add(Conv2D(128, kernel_size=(11, 11), padding='same'))\n",
        "model.add(BatchNormalization(momentum=0.7))\n",
        "model.add(Activation('relu'))\n",
        "model.add(MaxPooling2D(pool_size=(2, 2), padding='same'))\n",
        "model.add(Conv2D(256, kernel_size=(11, 11), padding='same'))\n",
        "model.add(BatchNormalization(momentum=0.7))\n",
        "model.add(Activation('relu'))\n",
        "model.add(MaxPooling2D(pool_size=(2, 2), padding='same'))\n",
        "model.add(Flatten())\n",
        "model.add(Dense(256))\n",
        "model.add(Activation('relu'))\n",
        "model.add(Dense(1))"
      ],
      "metadata": {
        "id": "YbyYSpojaL3x"
      },
      "execution_count": null,
      "outputs": []
    },
    {
      "cell_type": "markdown",
      "source": [
        "### Training and Testing"
      ],
      "metadata": {
        "id": "lNx3wkQwT_69"
      }
    },
    {
      "cell_type": "code",
      "source": [
        "model.compile(loss='mean_squared_error', optimizer=keras.optimizers.Adam(lr=0.01), metrics=['accuracy'])\n",
        "history = model.fit(train_generator, batch_size=batch_size, epochs=20, verbose=1)\n",
        "# Save the trained model\n",
        "model.save('./Models/cme_classifier_Model-1.h5')\n",
        "model.summary()\n",
        "tf.keras.utils.plot_model(model, to_file=\"./Models/Model-1_Wang.png\", show_shapes=True)"
      ],
      "metadata": {
        "id": "V-nKoqsobjyt"
      },
      "execution_count": null,
      "outputs": []
    },
    {
      "cell_type": "markdown",
      "source": [
        "### Evaluate"
      ],
      "metadata": {
        "id": "0rvte92HUDId"
      }
    },
    {
      "cell_type": "markdown",
      "source": [
        "## Model 4"
      ],
      "metadata": {
        "id": "xN6S1Ssk9att"
      }
    },
    {
      "cell_type": "code",
      "source": [
        "model = Sequential()\n",
        "model.add(Conv2D(32, (3, 3), activation='relu', input_shape=(input_shape[0], input_shape[1], input_shape[2])))\n",
        "model.add(MaxPooling2D((2, 2)))\n",
        "model.add(Conv2D(64, (3, 3), activation='relu'))\n",
        "model.add(MaxPooling2D((2, 2)))\n",
        "model.add(Conv2D(128, (3, 3), activation='relu'))\n",
        "model.add(MaxPooling2D((2, 2)))\n",
        "model.add(Flatten())\n",
        "model.add(Dense(128, activation='relu'))\n",
        "model.add(Dense(1, activation='sigmoid'))\n",
        "\n",
        "# Compile the model\n",
        "model.compile(optimizer='adam', loss='binary_crossentropy', metrics=['accuracy'])\n",
        "\n",
        "# Train the model\n",
        "model.fit(train_generator, epochs=epochs, validation_data=val_generator)\n",
        "\n",
        "# Save the trained model\n",
        "model.save('./models/cme_classifier_Model-2.h5')\n",
        "model.summary()\n",
        "#tf.keras.utils.plot_model(model, to_file=\"./data/datasets/Test_2/model-2.png\", show_shapes=True)"
      ],
      "metadata": {
        "id": "gY9qzpANU5DC"
      },
      "execution_count": null,
      "outputs": []
    },
    {
      "cell_type": "markdown",
      "source": [
        "### Model 5: Data Augmentation"
      ],
      "metadata": {
        "id": "A4Clbb6u9XNM"
      }
    },
    {
      "cell_type": "code",
      "source": [
        "# Step 1: Split data into train, test, and validation sets\n",
        "#def split_data(input_dir, output_dir, test_ratio, val_ratio):\n",
        "    # Use the split_data_into_sets function here\n",
        "    # ... (the function we previously defined)\n",
        "\n",
        "# Replace 'dataset_path' with the path to your 'dataset' folder.\n",
        "# The function will create 'train', 'test', and 'validation' folders inside the 'dataset' folder.\n",
        "# It will then split the data from 'positive' and 'negative' folders into these sets.\n",
        "#dataset_path = './data/datasets/Test_1/'\n",
        "#split_data(dataset_path, dataset_path, test_ratio, val_ratio)\n",
        "\n",
        "# Step 2: Data Augmentation\n",
        "# train_data_gen =  (\n",
        "#     rescale=1.0/255.0,\n",
        "#     rotation_range=20,\n",
        "#     width_shift_range=0.2,\n",
        "#     height_shift_range=0.2,\n",
        "#     shear_range=0.2,\n",
        "#     zoom_range=0.2,\n",
        "#     horizontal_flip=True,\n",
        "#     fill_mode='nearest'\n",
        "# )\n",
        "\n",
        "# test_data_gen = ImageDataGenerator(rescale=1.0/255.0)\n",
        "\n",
        "# # Step 3: Create Data Generators for Train, Test, and Validation Sets\n",
        "# train_generator = train_data_gen.flow_from_directory(\n",
        "#     os.path.join(dataset_path, 'train'),\n",
        "#     target_size=(input_shape[0], input_shape[1]),\n",
        "#     batch_size=batch_size,\n",
        "#     class_mode='categorical'\n",
        "# )\n",
        "\n",
        "# test_generator = test_data_gen.flow_from_directory(\n",
        "#     os.path.join(dataset_path, 'test'),\n",
        "#     target_size=(input_shape[0], input_shape[1]),\n",
        "#     batch_size=batch_size,\n",
        "#     class_mode='categorical',\n",
        "#     shuffle=False\n",
        "# )\n",
        "\n",
        "# val_generator = test_data_gen.flow_from_directory(\n",
        "#     os.path.join(dataset_path, 'validation'),\n",
        "#     target_size=(input_shape[0], input_shape[1]),\n",
        "#     batch_size=batch_size,\n",
        "#     class_mode='categorical',\n",
        "#     shuffle=False\n",
        "# )\n",
        "\n",
        "# Step 4: Build the CNN Model\n",
        "model = Sequential()\n",
        "model.add(Conv2D(32, (3, 3), activation='relu', input_shape=input_shape))\n",
        "model.add(MaxPooling2D((2, 2)))\n",
        "model.add(Conv2D(64, (3, 3), activation='relu'))\n",
        "model.add(MaxPooling2D((2, 2)))\n",
        "model.add(Flatten())\n",
        "model.add(Dense(64, activation='relu'))\n",
        "model.add(Dropout(0.5))\n",
        "model.add(Dense(num_classes, activation='softmax'))\n",
        "\n",
        "# Step 5: Compile and Train the Model\n",
        "model.compile(optimizer='adam', loss='categorical_crossentropy', metrics=['accuracy'])\n",
        "\n",
        "# Since the dataset is small, we'll use the fit() method directly instead of using fit_generator().\n",
        "history = model.fit(\n",
        "    train_generator,\n",
        "    steps_per_epoch=train_generator.samples // batch_size,\n",
        "    epochs=epochs,\n",
        "    validation_data=val_generator,\n",
        "    validation_steps=val_generator.samples // batch_size\n",
        ")\n",
        "\n",
        "# Step 6: Evaluate the Model on the Test Set\n",
        "test_loss, test_accuracy = model.evaluate(test_generator, steps=test_generator.samples // batch_size)\n",
        "print(\"Test Accuracy:\", test_accuracy)\n",
        "\n",
        "# Save the trained model\n",
        "model.save('cme_classifier.h5')\n",
        "model.plot()"
      ],
      "metadata": {
        "id": "7CPLi4PG4D3B"
      },
      "execution_count": null,
      "outputs": []
    }
  ]
}