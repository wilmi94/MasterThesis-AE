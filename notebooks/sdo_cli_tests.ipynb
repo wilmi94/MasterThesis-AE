{
  "nbformat": 4,
  "nbformat_minor": 0,
  "metadata": {
    "colab": {
      "provenance": [],
      "authorship_tag": "ABX9TyNl2AiW6B21XkGv0OhOivRH",
      "include_colab_link": true
    },
    "kernelspec": {
      "name": "python3",
      "display_name": "Python 3"
    },
    "language_info": {
      "name": "python"
    }
  },
  "cells": [
    {
      "cell_type": "markdown",
      "metadata": {
        "id": "view-in-github",
        "colab_type": "text"
      },
      "source": [
        "<a href=\"https://colab.research.google.com/github/wilmi94/MasterThesis-AE/blob/main/notebooks/sdo_cli_tests.ipynb\" target=\"_parent\"><img src=\"https://colab.research.google.com/assets/colab-badge.svg\" alt=\"Open In Colab\"/></a>"
      ]
    },
    {
      "cell_type": "markdown",
      "source": [
        "# SDO-CLI by Marius Giger\n",
        "see: https://github.com/i4Ds/sdo-cli/tree/main\n",
        "\n",
        "underlying dataset:\n",
        "\n",
        "*Ahmadzadeh, Azim, Dustin J. Kempton, and Rafal A. Angryk. \"A Curated Image Parameter Data Set from the Solar Dynamics Observatory Mission.\" The Astrophysical Journal Supplement Series 243.1 (2019): 18.*"
      ],
      "metadata": {
        "id": "dvzYlkaqMQKC"
      }
    },
    {
      "cell_type": "code",
      "source": [
        "from pathlib import Path\n",
        "import numpy as np\n",
        "from PIL import Image\n",
        "import matplotlib.pyplot as plt\n",
        "import os"
      ],
      "metadata": {
        "id": "FbFPwFrQZFcm"
      },
      "execution_count": 1,
      "outputs": []
    },
    {
      "cell_type": "code",
      "execution_count": 2,
      "metadata": {
        "id": "IfY6BTo1BO0Q"
      },
      "outputs": [],
      "source": [
        "%%capture\n",
        "pip install -U sdo-cli"
      ]
    },
    {
      "cell_type": "markdown",
      "source": [],
      "metadata": {
        "id": "Ti4ijT88L-_B"
      }
    },
    {
      "cell_type": "code",
      "source": [
        "# mount Google drive\n",
        "from google.colab import drive\n",
        "drive.mount('/content/drive')"
      ],
      "metadata": {
        "colab": {
          "base_uri": "https://localhost:8080/"
        },
        "id": "5SdLrE0kLxBZ",
        "outputId": "5950fc22-691e-418f-e13e-2d4a9e655f3e"
      },
      "execution_count": 4,
      "outputs": [
        {
          "output_type": "stream",
          "name": "stdout",
          "text": [
            "Mounted at /content/drive\n"
          ]
        }
      ]
    },
    {
      "cell_type": "code",
      "source": [
        "# Change present working directory\n",
        "%cd /content/drive/MyDrive/Academia/MSc. Aerospace Engineering - FH Wiener Neustadt/4. Master Thesis/03-Work/sdo-cli"
      ],
      "metadata": {
        "colab": {
          "base_uri": "https://localhost:8080/"
        },
        "id": "qeSj3PU4M5NJ",
        "outputId": "870c9149-e837-470e-defd-44ef3f4a12c8"
      },
      "execution_count": 5,
      "outputs": [
        {
          "output_type": "stream",
          "name": "stdout",
          "text": [
            "/content/drive/MyDrive/Academia/MSc. Aerospace Engineering - FH Wiener Neustadt/4. Master Thesis/03-Work/sdo-cli\n"
          ]
        }
      ]
    },
    {
      "cell_type": "markdown",
      "source": [
        "## sdo-cli functions"
      ],
      "metadata": {
        "id": "E142ricKM-GN"
      }
    },
    {
      "cell_type": "code",
      "source": [
        "!sdo-cli data --help"
      ],
      "metadata": {
        "id": "Ee_nlpUhM8Ko"
      },
      "execution_count": null,
      "outputs": []
    },
    {
      "cell_type": "markdown",
      "source": [
        "**Download images from the Curated Image Parameter Dataset:**"
      ],
      "metadata": {
        "id": "fqiRsm2PPH50"
      }
    },
    {
      "cell_type": "code",
      "source": [
        "!sdo-cli data download --path='./data/aia_171_2012' --start='2012-03-07T00:02:00' --end='2012-03-07T00:40:00' --freq='6min' --wavelength='171'"
      ],
      "metadata": {
        "id": "ZH79zCcZNJe5"
      },
      "execution_count": null,
      "outputs": []
    },
    {
      "cell_type": "code",
      "source": [
        "data_dir = \"./data/aia_171_2012\"\n",
        "aia_wave = 171\n",
        "images = list(Path(data_dir).rglob(f'*__{aia_wave}.jpeg'))\n",
        "img_path = images[0]\n",
        "\n",
        "src_img = Image.open(img_path)\n",
        "plt.imshow(np.asarray(src_img))"
      ],
      "metadata": {
        "id": "cMJsLeHtZCu-"
      },
      "execution_count": null,
      "outputs": []
    },
    {
      "cell_type": "markdown",
      "source": [
        "**Resize images:**"
      ],
      "metadata": {
        "id": "KnxCLOAnPLTx"
      }
    },
    {
      "cell_type": "code",
      "source": [
        "#!sdo-cli data resize --help"
      ],
      "metadata": {
        "id": "sepJoLHGPw6s"
      },
      "execution_count": null,
      "outputs": []
    },
    {
      "cell_type": "code",
      "source": [
        "!sdo-cli data resize --path='./data/aia_171_2012' --targetpath='./data/aia_171_2012_256' --wavelength='171' --size=256"
      ],
      "metadata": {
        "id": "aUyxzLA2POVl"
      },
      "execution_count": null,
      "outputs": []
    },
    {
      "cell_type": "markdown",
      "source": [
        "**Patch images:**"
      ],
      "metadata": {
        "id": "KUW5fX4QPU2o"
      }
    },
    {
      "cell_type": "code",
      "source": [
        "!sdo-cli data patch --path='./data/aia_171_2012_256' --targetpath='./data/aia_171_2012_256_patches' --wavelength='171' --size=32"
      ],
      "metadata": {
        "id": "_RaY940ANpXb"
      },
      "execution_count": null,
      "outputs": []
    },
    {
      "cell_type": "code",
      "source": [
        "!sdo-cli data patch --help"
      ],
      "metadata": {
        "id": "Ay2Iiu0TXuC3"
      },
      "execution_count": null,
      "outputs": []
    },
    {
      "cell_type": "markdown",
      "source": [
        "## Loading Events from HEK\n",
        "\n",
        "event-type =\n",
        "- AR = 'ar'  # Active Region\n",
        "- CH = 'ch'  # Coronal Hole\n",
        "- FI = 'fi'  # Filament, Kanzelhöhe\n",
        "- CE = 'ce'  # Coronal Mass Ejection (CME)\n",
        "- FL = 'fl'  # Flare\n",
        "- SG = \"sg\"  # Sigmoid"
      ],
      "metadata": {
        "id": "KIekiQJWQX1F"
      }
    },
    {
      "cell_type": "code",
      "source": [
        "#%%capture\n",
        "!pip install psycopg2-binary"
      ],
      "metadata": {
        "id": "y5Vnp0eiQhHl"
      },
      "execution_count": null,
      "outputs": []
    },
    {
      "cell_type": "markdown",
      "source": [
        "error: (check if cmd is valid for thesis)"
      ],
      "metadata": {
        "id": "IBBDO0uxTRO5"
      }
    },
    {
      "cell_type": "code",
      "source": [
        "!pip install docker"
      ],
      "metadata": {
        "id": "qEzbwWqXkOlR"
      },
      "execution_count": null,
      "outputs": []
    },
    {
      "cell_type": "code",
      "source": [
        "!docker-compose up -d"
      ],
      "metadata": {
        "id": "yaKzQmpybNdJ"
      },
      "execution_count": null,
      "outputs": []
    },
    {
      "cell_type": "code",
      "source": [
        "!sdo-cli events get --start=\"2012-02-01T00:00:00\" --end=\"2013-01-02T23:59:59\" --event-type=\"CE\""
      ],
      "metadata": {
        "id": "WGEMly45SxAi"
      },
      "execution_count": null,
      "outputs": []
    },
    {
      "cell_type": "markdown",
      "source": [
        "## load events from external databases"
      ],
      "metadata": {
        "id": "bjzNrf2ElqpZ"
      }
    },
    {
      "cell_type": "code",
      "source": [
        "import requests\n",
        "import pandas as pd\n",
        "\n",
        "# Define the API endpoint URL\n",
        "api_url = 'https://kauai.ccmc.gsfc.nasa.gov/DONKI/WS/get/CMEAnalysis'\n",
        "\n",
        "# Specify the date range for CMEs you are interested in\n",
        "start_date = '2011-02-01'\n",
        "end_date = '2023-07-17'  # Set the current date or any desired end date\n",
        "\n",
        "# Compose the API request URL with the date range parameters\n",
        "request_url = f'{api_url}?startDate={start_date}&endDate={end_date}'\n",
        "\n",
        "# Send a GET request to the API\n",
        "response = requests.get(request_url)\n",
        "\n",
        "# Check if the request was successful (status code 200)\n",
        "if response.status_code == 200:\n",
        "    # Parse the response JSON into a DataFrame\n",
        "    cme_data = pd.DataFrame(response.json())\n",
        "\n",
        "    # Optional: Save the DataFrame to a CSV file\n",
        "    cme_data.to_csv('cme_data.csv', index=False)\n",
        "    print(\"CME data downloaded and saved successfully.\")\n",
        "else:\n",
        "    print(\"Failed to download CME data. Please check the API or try again later.\")\n"
      ],
      "metadata": {
        "id": "_X979pdqbxoI"
      },
      "execution_count": null,
      "outputs": []
    },
    {
      "cell_type": "code",
      "source": [
        "import requests\n",
        "import pandas as pd\n",
        "\n",
        "# Define the URL\n",
        "url = \"http://dmlab.cs.gsu.edu/dmlabapi/query/HEK/minevent/temporal/json/?startTime=2011-02-01T00:00:00&endTime=2023-07-01T00:00:00&tableName=ce&predicate=intersects&sortby=startTime&offset=0\"\n",
        "\n",
        "# Send a GET request to the URL\n",
        "response = requests.get(url)\n",
        "\n",
        "# Check if the request was successful (status code 200)\n",
        "if response.status_code == 200:\n",
        "    # Parse the response JSON into a DataFrame\n",
        "    data = response.json()\n",
        "    df = pd.DataFrame(data)\n",
        "\n",
        "    # Print the first few rows of the DataFrame\n",
        "    print(df.head())\n",
        "else:\n",
        "    print(\"Failed to retrieve data. Please check the URL or try again later.\")\n",
        "\n",
        "df"
      ],
      "metadata": {
        "id": "UhTFRqB-lyyh"
      },
      "execution_count": null,
      "outputs": []
    },
    {
      "cell_type": "markdown",
      "source": [
        "## load external event lists"
      ],
      "metadata": {
        "id": "vqn_p6w1TeL5"
      }
    },
    {
      "cell_type": "code",
      "source": [
        "import pandas as pd"
      ],
      "metadata": {
        "id": "FSQ7EBjGUM5J"
      },
      "execution_count": null,
      "outputs": []
    },
    {
      "cell_type": "code",
      "source": [
        "!ls"
      ],
      "metadata": {
        "id": "3ZVxZJZ_UZJl"
      },
      "execution_count": null,
      "outputs": []
    },
    {
      "cell_type": "code",
      "source": [
        "df_cme_list = pd.read_csv(r'data/event-lists/cme_events.csv', delimiter =';')\n",
        "df_cme_list.head()\n",
        "df_cme"
      ],
      "metadata": {
        "id": "SJ1VWTg0Tg7C"
      },
      "execution_count": null,
      "outputs": []
    },
    {
      "cell_type": "code",
      "source": [
        "#df_test = df_cme_list\n",
        "df_cme_list['Peak Time'] = pd.to_datetime(df_cme_list['Peak Time']).dt.strftime('%Y-%m-%dT%H:%M:%S')\n",
        "df_cme_list"
      ],
      "metadata": {
        "id": "6geFn4_xgF44"
      },
      "execution_count": null,
      "outputs": []
    },
    {
      "cell_type": "code",
      "source": [
        "df_no_cme_list = pd.read_csv(r'data/event-lists/no_cme_events.csv', delimiter =';')\n",
        "df_no_cme_list['Peak Time'] = pd.to_datetime(df_no_cme_list['Peak Time']).dt.strftime('%Y-%m-%dT%H:%M:%S')\n",
        "df_no_cme_list.tail()"
      ],
      "metadata": {
        "id": "1XQ_o6MyUS6f"
      },
      "execution_count": null,
      "outputs": []
    },
    {
      "cell_type": "markdown",
      "source": [
        "## Create a dataset for binary classification\n",
        "download single peak event"
      ],
      "metadata": {
        "id": "qTr4ebJLWM45"
      }
    },
    {
      "cell_type": "markdown",
      "source": [
        "next, try to iterate through the event lists!\n",
        "see https://stackoverflow.com/questions/46920538/running-for-loop-terminal-commands-in-jupyter"
      ],
      "metadata": {
        "id": "BJFFql2VlqDO"
      }
    },
    {
      "cell_type": "code",
      "source": [
        "for idx in range(5): ##df_cme_list.shape[0]):\n",
        "    #!eval {\"python process.py --filename /Users/images/{image}.jpg\".format(image=idx)}\n",
        "    !sdo-cli data download --path='./data/BinClass/positive{idx}' --start='2011-02-15T02:25:00' --end=\"2011-02-15T02:25:0\" --freq='60min' --wavelength='171'"
      ],
      "metadata": {
        "id": "Z2YnCw4ZmK-H",
        "outputId": "2e59ce7c-a9fc-49e1-e097-dd51e9d22b01",
        "colab": {
          "base_uri": "https://localhost:8080/"
        }
      },
      "execution_count": 7,
      "outputs": [
        {
          "output_type": "stream",
          "name": "stdout",
          "text": [
            "2023-07-18 18:10:31,570 numexpr.utils    INFO NumExpr defaulting to 2 threads.\n",
            "2023-07-18 18:10:33,314 sdo.cli          INFO Starting to download images...\n",
            "2023-07-18 18:10:33,319 sdo.cli          INFO loading data for 1 images between 2011-02-15 02:25:00 and 2011-02-15 02:25:00 for wavelengths ('171',)\n",
            "100% 1/1 [00:00<00:00,  1.99it/s]\n",
            "2023-07-18 18:10:34,385 numexpr.utils    INFO NumExpr defaulting to 2 threads.\n",
            "2023-07-18 18:10:35,924 sdo.cli          INFO Starting to download images...\n",
            "2023-07-18 18:10:35,928 sdo.cli          INFO loading data for 1 images between 2011-02-15 02:25:00 and 2011-02-15 02:25:00 for wavelengths ('171',)\n",
            "100% 1/1 [00:00<00:00,  2.20it/s]\n",
            "2023-07-18 18:10:36,994 numexpr.utils    INFO NumExpr defaulting to 2 threads.\n",
            "2023-07-18 18:10:38,591 sdo.cli          INFO Starting to download images...\n",
            "2023-07-18 18:10:38,609 sdo.cli          INFO loading data for 1 images between 2011-02-15 02:25:00 and 2011-02-15 02:25:00 for wavelengths ('171',)\n",
            "100% 1/1 [00:00<00:00,  2.18it/s]\n",
            "2023-07-18 18:10:39,703 numexpr.utils    INFO NumExpr defaulting to 2 threads.\n",
            "2023-07-18 18:10:41,358 sdo.cli          INFO Starting to download images...\n",
            "2023-07-18 18:10:41,364 sdo.cli          INFO loading data for 1 images between 2011-02-15 02:25:00 and 2011-02-15 02:25:00 for wavelengths ('171',)\n",
            "100% 1/1 [00:00<00:00,  1.86it/s]\n",
            "2023-07-18 18:10:42,704 numexpr.utils    INFO NumExpr defaulting to 2 threads.\n",
            "2023-07-18 18:10:44,866 sdo.cli          INFO Starting to download images...\n",
            "2023-07-18 18:10:44,870 sdo.cli          INFO loading data for 1 images between 2011-02-15 02:25:00 and 2011-02-15 02:25:00 for wavelengths ('171',)\n",
            "100% 1/1 [00:00<00:00,  1.99it/s]\n"
          ]
        }
      ]
    },
    {
      "cell_type": "code",
      "source": [],
      "metadata": {
        "id": "43tPX8l2jInQ"
      },
      "execution_count": null,
      "outputs": []
    },
    {
      "cell_type": "code",
      "source": [],
      "metadata": {
        "id": "k6z1269kjuFF"
      },
      "execution_count": null,
      "outputs": []
    }
  ]
}