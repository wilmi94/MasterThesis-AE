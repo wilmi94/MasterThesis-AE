{
  "nbformat": 4,
  "nbformat_minor": 0,
  "metadata": {
    "colab": {
      "provenance": [],
      "authorship_tag": "ABX9TyNwp2gpY94Ire+EDSm+Psj1",
      "include_colab_link": true
    },
    "kernelspec": {
      "name": "python3",
      "display_name": "Python 3"
    },
    "language_info": {
      "name": "python"
    }
  },
  "cells": [
    {
      "cell_type": "markdown",
      "metadata": {
        "id": "view-in-github",
        "colab_type": "text"
      },
      "source": [
        "<a href=\"https://colab.research.google.com/github/wilmi94/MasterThesis-AE/blob/main/notebooks/sdoml_dataset_BinClass.ipynb\" target=\"_parent\"><img src=\"https://colab.research.google.com/assets/colab-badge.svg\" alt=\"Open In Colab\"/></a>"
      ]
    },
    {
      "cell_type": "markdown",
      "source": [
        "# Binary Classification for SDO Machine Learning (SDO ML) v2."
      ],
      "metadata": {
        "id": "sPH498j-yQJA"
      }
    },
    {
      "cell_type": "markdown",
      "source": [
        "## 1. Setting up the notebook"
      ],
      "metadata": {
        "id": "hOp11dUayiwD"
      }
    },
    {
      "cell_type": "code",
      "execution_count": 1,
      "metadata": {
        "colab": {
          "base_uri": "https://localhost:8080/"
        },
        "id": "LPxatQphyH-L",
        "outputId": "4edacab5-d26f-4efc-b29c-ced4cba49471"
      },
      "outputs": [
        {
          "output_type": "stream",
          "name": "stdout",
          "text": [
            "Mounted at /content/drive\n"
          ]
        }
      ],
      "source": [
        "# mount Google drive\n",
        "from google.colab import drive\n",
        "drive.mount('/content/drive')"
      ]
    },
    {
      "cell_type": "code",
      "source": [
        "# Change present working directory\n",
        "%cd /content/drive/MyDrive/Academia/MSc. Aerospace Engineering - FH Wiener Neustadt/4. Master Thesis/03-Work/sdoml_binclass"
      ],
      "metadata": {
        "colab": {
          "base_uri": "https://localhost:8080/"
        },
        "id": "6IsSaEOZyr_h",
        "outputId": "eef60c5d-c5bf-4057-aa9e-e7dc0042068f"
      },
      "execution_count": 2,
      "outputs": [
        {
          "output_type": "stream",
          "name": "stdout",
          "text": [
            "/content/drive/MyDrive/Academia/MSc. Aerospace Engineering - FH Wiener Neustadt/4. Master Thesis/03-Work/sdoml_binclass\n"
          ]
        }
      ]
    },
    {
      "cell_type": "code",
      "source": [
        "%%capture\n",
        "!pip install zarr sunpy[all] s3fs"
      ],
      "metadata": {
        "id": "FFo9hbHPzcqD"
      },
      "execution_count": 3,
      "outputs": []
    },
    {
      "cell_type": "code",
      "source": [
        "%matplotlib inline\n",
        "\n",
        "import os\n",
        "from typing import Union\n",
        "import zarr\n",
        "\n",
        "import gcsfs\n",
        "import s3fs\n",
        "import sunpy.map\n",
        "\n",
        "import dask.array as da\n",
        "import numpy as np\n",
        "import matplotlib.pyplot as plt\n",
        "import matplotlib.cm as cm\n",
        "import pandas as pd\n",
        "import sunpy.visualization.colormaps as cm\n",
        "\n",
        "from astropy.time import Time\n",
        "from sunpy.visualization import axis_labels_from_ctype, wcsaxes_compat\n",
        "\n",
        "from matplotlib import animation\n",
        "from IPython.display import HTML"
      ],
      "metadata": {
        "id": "QewgTSTGzi23"
      },
      "execution_count": 4,
      "outputs": []
    },
    {
      "cell_type": "code",
      "source": [
        "AWS_ZARR_ROOT_sample = (\n",
        "    \"s3://gov-nasa-hdrl-data1/contrib/fdl-sdoml/fdl-sdoml-v2/sdomlv2_small.zarr/\"\n",
        ")\n",
        "\n",
        "AWS_ZARR_ROOT = (\n",
        "    \"s3://gov-nasa-hdrl-data1/contrib/fdl-sdoml/fdl-sdoml-v2/sdomlv2.zarr/\"\n",
        ")\n",
        "\n",
        "\n",
        "def s3_connection(path_to_zarr: os.path) -> s3fs.S3Map: # S3 = simple storage space\n",
        "    \"\"\"\n",
        "    Instantiate connection to aws for a given path `path_to_zarr`\n",
        "    \"\"\"\n",
        "    return s3fs.S3Map(\n",
        "        root=path_to_zarr,\n",
        "        s3=s3fs.S3FileSystem(anon=True),\n",
        "        # anonymous access requires no credentials\n",
        "        check=False,\n",
        "    )\n",
        "\n",
        "\n",
        "def load_single_aws_zarr(\n",
        "    path_to_zarr: os.path,\n",
        "    cache_max_single_size: int = None,\n",
        ") -> Union[zarr.Array, zarr.Group]:\n",
        "    \"\"\"\n",
        "    load zarr from s3 using LRU cache\n",
        "    \"\"\"\n",
        "    return zarr.open(\n",
        "        zarr.LRUStoreCache(\n",
        "            store=s3_connection(path_to_zarr),\n",
        "            max_size=cache_max_single_size,\n",
        "        ),\n",
        "        mode=\"r\",\n",
        "    )"
      ],
      "metadata": {
        "id": "8R0LY1e0zpDY"
      },
      "execution_count": 7,
      "outputs": []
    },
    {
      "cell_type": "markdown",
      "source": [
        "## 2. Reading and loading the AIA data"
      ],
      "metadata": {
        "id": "TIVhVk1Wz6La"
      }
    },
    {
      "cell_type": "markdown",
      "source": [
        "### Sample Dataset"
      ],
      "metadata": {
        "id": "EwSDKnXG0YcQ"
      }
    },
    {
      "cell_type": "code",
      "source": [
        "# first, we create a group with the store data located on AWS.\n",
        "root_sample = load_single_aws_zarr(\n",
        "    path_to_zarr=AWS_ZARR_ROOT_sample,\n",
        ")\n",
        "print(root_sample.tree())"
      ],
      "metadata": {
        "colab": {
          "base_uri": "https://localhost:8080/"
        },
        "id": "Jyl6DLeczs_7",
        "outputId": "7ce8437c-ceb3-4157-a141-0533c46b67e0"
      },
      "execution_count": 9,
      "outputs": [
        {
          "output_type": "stream",
          "name": "stdout",
          "text": [
            "/\n",
            " └── 2010\n",
            "     ├── 131A (6135, 512, 512) float32\n",
            "     ├── 1600A (6136, 512, 512) float32\n",
            "     ├── 1700A (6135, 512, 512) float32\n",
            "     ├── 171A (6135, 512, 512) float32\n",
            "     ├── 193A (6135, 512, 512) float32\n",
            "     ├── 211A (6136, 512, 512) float32\n",
            "     ├── 304A (6134, 512, 512) float32\n",
            "     ├── 335A (6135, 512, 512) float32\n",
            "     └── 94A (6136, 512, 512) float32\n"
          ]
        }
      ]
    },
    {
      "cell_type": "markdown",
      "source": [
        "### Full Dataset"
      ],
      "metadata": {
        "id": "Kwo3oRzL0a-U"
      }
    },
    {
      "cell_type": "code",
      "source": [
        "# first, we create a group with the store data located on AWS.\n",
        "root = load_single_aws_zarr(\n",
        "    path_to_zarr=AWS_ZARR_ROOT,\n",
        ")\n",
        "print(root.tree())"
      ],
      "metadata": {
        "id": "JYqUYXrOz0Vh"
      },
      "execution_count": null,
      "outputs": []
    },
    {
      "cell_type": "code",
      "source": [
        "df_cme_list = pd.read_csv(r'cme_events.csv')\n",
        "df_cme_list.head()"
      ],
      "metadata": {
        "id": "q3MFmWPi0J0b"
      },
      "execution_count": null,
      "outputs": []
    },
    {
      "cell_type": "code",
      "source": [
        "df_no-cme_list = pd.read_csv(r'no-cme_events.csv')\n",
        "df_no-cme_list.head()"
      ],
      "metadata": {
        "id": "Iv22kQ8m1fEK"
      },
      "execution_count": null,
      "outputs": []
    }
  ]
}