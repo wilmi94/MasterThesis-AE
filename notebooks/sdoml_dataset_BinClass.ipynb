{
  "nbformat": 4,
  "nbformat_minor": 0,
  "metadata": {
    "colab": {
      "provenance": [],
      "authorship_tag": "ABX9TyPwgG4TfrcpO6Hg9LQJqG/+",
      "include_colab_link": true
    },
    "kernelspec": {
      "name": "python3",
      "display_name": "Python 3"
    },
    "language_info": {
      "name": "python"
    }
  },
  "cells": [
    {
      "cell_type": "markdown",
      "metadata": {
        "id": "view-in-github",
        "colab_type": "text"
      },
      "source": [
        "<a href=\"https://colab.research.google.com/github/wilmi94/MasterThesis-AE/blob/main/notebooks/sdoml_dataset_BinClass.ipynb\" target=\"_parent\"><img src=\"https://colab.research.google.com/assets/colab-badge.svg\" alt=\"Open In Colab\"/></a>"
      ]
    },
    {
      "cell_type": "markdown",
      "source": [
        "# Binary Classification for SDO Machine Learning (SDO ML) v2."
      ],
      "metadata": {
        "id": "sPH498j-yQJA"
      }
    },
    {
      "cell_type": "markdown",
      "source": [
        "## 1. Setting up the notebook"
      ],
      "metadata": {
        "id": "hOp11dUayiwD"
      }
    },
    {
      "cell_type": "code",
      "execution_count": 1,
      "metadata": {
        "colab": {
          "base_uri": "https://localhost:8080/"
        },
        "id": "LPxatQphyH-L",
        "outputId": "4edacab5-d26f-4efc-b29c-ced4cba49471"
      },
      "outputs": [
        {
          "output_type": "stream",
          "name": "stdout",
          "text": [
            "Mounted at /content/drive\n"
          ]
        }
      ],
      "source": [
        "# mount Google drive\n",
        "from google.colab import drive\n",
        "drive.mount('/content/drive')"
      ]
    },
    {
      "cell_type": "code",
      "source": [
        "# Change present working directory\n",
        "%cd /content/drive/MyDrive/Academia/MSc. Aerospace Engineering - FH Wiener Neustadt/4. Master Thesis/03-Work/sdoml_binclass"
      ],
      "metadata": {
        "colab": {
          "base_uri": "https://localhost:8080/"
        },
        "id": "6IsSaEOZyr_h",
        "outputId": "eef60c5d-c5bf-4057-aa9e-e7dc0042068f"
      },
      "execution_count": 2,
      "outputs": [
        {
          "output_type": "stream",
          "name": "stdout",
          "text": [
            "/content/drive/MyDrive/Academia/MSc. Aerospace Engineering - FH Wiener Neustadt/4. Master Thesis/03-Work/sdoml_binclass\n"
          ]
        }
      ]
    },
    {
      "cell_type": "code",
      "source": [
        "%%capture\n",
        "!pip install zarr sunpy[all] s3fs"
      ],
      "metadata": {
        "id": "FFo9hbHPzcqD"
      },
      "execution_count": 3,
      "outputs": []
    },
    {
      "cell_type": "code",
      "source": [
        "%matplotlib inline\n",
        "\n",
        "import os\n",
        "from typing import Union\n",
        "import zarr\n",
        "\n",
        "import gcsfs\n",
        "import s3fs\n",
        "import sunpy.map\n",
        "\n",
        "import dask.array as da\n",
        "import numpy as np\n",
        "import matplotlib.pyplot as plt\n",
        "import matplotlib.cm as cm\n",
        "import pandas as pd\n",
        "import sunpy.visualization.colormaps as cm\n",
        "\n",
        "from astropy.time import Time\n",
        "from sunpy.visualization import axis_labels_from_ctype, wcsaxes_compat\n",
        "\n",
        "from matplotlib import animation\n",
        "from IPython.display import HTML"
      ],
      "metadata": {
        "id": "QewgTSTGzi23"
      },
      "execution_count": 4,
      "outputs": []
    },
    {
      "cell_type": "code",
      "source": [
        "AWS_ZARR_ROOT_sample = (\n",
        "    \"s3://gov-nasa-hdrl-data1/contrib/fdl-sdoml/fdl-sdoml-v2/sdomlv2_small.zarr/\"\n",
        ")\n",
        "\n",
        "AWS_ZARR_ROOT = (\n",
        "    \"s3://gov-nasa-hdrl-data1/contrib/fdl-sdoml/fdl-sdoml-v2/sdomlv2.zarr/\"\n",
        ")\n",
        "\n",
        "\n",
        "def s3_connection(path_to_zarr: os.path) -> s3fs.S3Map: # S3 = simple storage space\n",
        "    \"\"\"\n",
        "    Instantiate connection to aws for a given path `path_to_zarr`\n",
        "    \"\"\"\n",
        "    return s3fs.S3Map(\n",
        "        root=path_to_zarr,\n",
        "        s3=s3fs.S3FileSystem(anon=True),\n",
        "        # anonymous access requires no credentials\n",
        "        check=False,\n",
        "    )\n",
        "\n",
        "\n",
        "def load_single_aws_zarr(\n",
        "    path_to_zarr: os.path,\n",
        "    cache_max_single_size: int = None,\n",
        ") -> Union[zarr.Array, zarr.Group]:\n",
        "    \"\"\"\n",
        "    load zarr from s3 using LRU cache\n",
        "    \"\"\"\n",
        "    return zarr.open(\n",
        "        zarr.LRUStoreCache(\n",
        "            store=s3_connection(path_to_zarr),\n",
        "            max_size=cache_max_single_size,\n",
        "        ),\n",
        "        mode=\"r\",\n",
        "    )"
      ],
      "metadata": {
        "id": "8R0LY1e0zpDY"
      },
      "execution_count": 7,
      "outputs": []
    },
    {
      "cell_type": "markdown",
      "source": [
        "## 2. Reading and loading the AIA data"
      ],
      "metadata": {
        "id": "TIVhVk1Wz6La"
      }
    },
    {
      "cell_type": "markdown",
      "source": [
        "### Sample Dataset"
      ],
      "metadata": {
        "id": "EwSDKnXG0YcQ"
      }
    },
    {
      "cell_type": "code",
      "source": [
        "# first, we create a group with the store data located on AWS.\n",
        "root_sample = load_single_aws_zarr(\n",
        "    path_to_zarr=AWS_ZARR_ROOT_sample,\n",
        ")\n",
        "print(root_sample.tree())"
      ],
      "metadata": {
        "colab": {
          "base_uri": "https://localhost:8080/"
        },
        "id": "Jyl6DLeczs_7",
        "outputId": "7ce8437c-ceb3-4157-a141-0533c46b67e0"
      },
      "execution_count": 9,
      "outputs": [
        {
          "output_type": "stream",
          "name": "stdout",
          "text": [
            "/\n",
            " └── 2010\n",
            "     ├── 131A (6135, 512, 512) float32\n",
            "     ├── 1600A (6136, 512, 512) float32\n",
            "     ├── 1700A (6135, 512, 512) float32\n",
            "     ├── 171A (6135, 512, 512) float32\n",
            "     ├── 193A (6135, 512, 512) float32\n",
            "     ├── 211A (6136, 512, 512) float32\n",
            "     ├── 304A (6134, 512, 512) float32\n",
            "     ├── 335A (6135, 512, 512) float32\n",
            "     └── 94A (6136, 512, 512) float32\n"
          ]
        }
      ]
    },
    {
      "cell_type": "markdown",
      "source": [
        "### Full Dataset"
      ],
      "metadata": {
        "id": "Kwo3oRzL0a-U"
      }
    },
    {
      "cell_type": "code",
      "source": [
        "# first, we create a group with the store data located on AWS.\n",
        "root = load_single_aws_zarr(\n",
        "    path_to_zarr=AWS_ZARR_ROOT,\n",
        ")\n",
        "print(root.tree())"
      ],
      "metadata": {
        "id": "JYqUYXrOz0Vh"
      },
      "execution_count": null,
      "outputs": []
    },
    {
      "cell_type": "markdown",
      "source": [
        "### Event Lists"
      ],
      "metadata": {
        "id": "2-LBt9Sj3WbQ"
      }
    },
    {
      "cell_type": "code",
      "source": [
        "df_cme_list = pd.read_csv(r'cme_events.csv')\n",
        "df_cme_list.head()"
      ],
      "metadata": {
        "id": "q3MFmWPi0J0b"
      },
      "execution_count": null,
      "outputs": []
    },
    {
      "cell_type": "code",
      "source": [
        "df_no-cme_list = pd.read_csv(r'no-cme_events.csv')\n",
        "df_no-cme_list.head()"
      ],
      "metadata": {
        "id": "Iv22kQ8m1fEK"
      },
      "execution_count": null,
      "outputs": []
    },
    {
      "cell_type": "markdown",
      "source": [
        "## 3. Create the Dataset"
      ],
      "metadata": {
        "id": "t8tjWwaH3bK2"
      }
    },
    {
      "cell_type": "code",
      "source": [],
      "metadata": {
        "id": "sZOROp723iiQ"
      },
      "execution_count": null,
      "outputs": []
    },
    {
      "cell_type": "markdown",
      "source": [
        "## 4. Model\n"
      ],
      "metadata": {
        "id": "yEaUdk6d3ku1"
      }
    },
    {
      "cell_type": "markdown",
      "source": [
        "### Setup Architecture"
      ],
      "metadata": {
        "id": "1-0CDNTz4Ejp"
      }
    },
    {
      "cell_type": "code",
      "source": [
        "from tensorflow.keras.preprocessing.image import ImageDataGenerator\n",
        "from tensorflow.keras.preprocessing import image\n",
        "from tensorflow.keras.optimizers import RMSprop"
      ],
      "metadata": {
        "id": "rD0Djman4fJR"
      },
      "execution_count": null,
      "outputs": []
    },
    {
      "cell_type": "code",
      "source": [
        "model = tf.keras.models.Sequential([tf.keras.layers.Conv2D(16,(3,3), activation = 'relu', input_shape = (200,200,3)),\n",
        "                                    tf.keras.layers.MaxPool2D(2,2),\n",
        "                                    #\n",
        "                                    tf.keras.layers.Conv2D(32,(3,3), activation = 'relu', input_shape = (200,200,3)),\n",
        "                                    tf.keras.layers.MaxPool2D(2,2),\n",
        "                                    #\n",
        "                                    tf.keras.layers.Conv2D(64,(3,3), activation = 'relu', input_shape = (200,200,3)),\n",
        "                                    tf.keras.layers.MaxPool2D(2,2),\n",
        "                                    #\n",
        "                                    tf.keras.layers.Flatten(),\n",
        "                                    #\n",
        "                                    tf.keras.layers.Dense(512, activation = 'relu'),\n",
        "                                    #\n",
        "                                    tf.keras.layers.Dense(1, activation = 'sigmoid')\n",
        "                                    ])"
      ],
      "metadata": {
        "id": "QTnD5IJm38rr"
      },
      "execution_count": null,
      "outputs": []
    },
    {
      "cell_type": "markdown",
      "source": [
        "### Train and Test"
      ],
      "metadata": {
        "id": "o6oSydyT4JZc"
      }
    },
    {
      "cell_type": "code",
      "source": [
        "model.compile(loss = 'binary_crossentropy',\n",
        "              optimizer = RMSprop(lr= 0.001),\n",
        "              metrics = ['accuracy'])"
      ],
      "metadata": {
        "id": "T54V20L_3-KF"
      },
      "execution_count": null,
      "outputs": []
    },
    {
      "cell_type": "code",
      "source": [
        "model_fit = model.fit(train_dataset,\n",
        "                      steps_per_epoch = 5,\n",
        "                      epochs = 30,\n",
        "                      validation_data = validation_dataset)"
      ],
      "metadata": {
        "id": "dNMXgysv4OxU"
      },
      "execution_count": null,
      "outputs": []
    },
    {
      "cell_type": "markdown",
      "source": [
        "## Evaluate"
      ],
      "metadata": {
        "id": "7EaYud394UcA"
      }
    },
    {
      "cell_type": "code",
      "source": [
        "dir_path = 'testing/no_cme'\n",
        "\n",
        "for i in os.listdir(dir_path):\n",
        "  print(dir_path + '//'+ i)\n",
        "  img = image.load_img(dir_path + '//'+ i,target_size=(200,200))\n",
        "  plt.imshow(img)\n",
        "  plt.show()\n",
        "\n",
        "  x = image.img_to_array(img)\n",
        "  x = np.expand_dims(x,axis=0)\n",
        "  images = np.vstack([x])\n",
        "  val = model.predict(images)\n",
        "  if val == 0:\n",
        "    print('\\nIts a CME!')\n",
        "  else:\n",
        "    print('\\nNOT a CME!')"
      ],
      "metadata": {
        "id": "wasCEaIE4TkB"
      },
      "execution_count": null,
      "outputs": []
    }
  ]
}